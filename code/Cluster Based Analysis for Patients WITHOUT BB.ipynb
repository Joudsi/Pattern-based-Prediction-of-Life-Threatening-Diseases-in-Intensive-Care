{
 "cells": [
  {
   "cell_type": "markdown",
   "metadata": {},
   "source": [
    "# Cluster Based Analysis for Patients without BB"
   ]
  },
  {
   "cell_type": "code",
   "execution_count": 233,
   "metadata": {},
   "outputs": [],
   "source": [
    "import pandas as pd\n",
    "import numpy as np\n",
    "import seaborn as sns\n",
    "import matplotlib.pyplot as plt\n",
    "import math\n",
    "\n",
    "% matplotlib inline"
   ]
  },
  {
   "cell_type": "code",
   "execution_count": 234,
   "metadata": {},
   "outputs": [],
   "source": [
    "import pandas as pd\n",
    "data = pd.read_csv(\"/Users/joudsi/Desktop/17.07.19/subdata_not_bb_norm_clustered.csv\")"
   ]
  },
  {
   "cell_type": "code",
   "execution_count": 235,
   "metadata": {},
   "outputs": [
    {
     "data": {
      "text/html": [
       "<div>\n",
       "<style scoped>\n",
       "    .dataframe tbody tr th:only-of-type {\n",
       "        vertical-align: middle;\n",
       "    }\n",
       "\n",
       "    .dataframe tbody tr th {\n",
       "        vertical-align: top;\n",
       "    }\n",
       "\n",
       "    .dataframe thead th {\n",
       "        text-align: right;\n",
       "    }\n",
       "</style>\n",
       "<table border=\"1\" class=\"dataframe\">\n",
       "  <thead>\n",
       "    <tr style=\"text-align: right;\">\n",
       "      <th></th>\n",
       "      <th>Unnamed: 0</th>\n",
       "      <th>amdission_age</th>\n",
       "      <th>gender</th>\n",
       "      <th>heartrate_mean</th>\n",
       "      <th>meanbp_mean</th>\n",
       "      <th>sysbp_mean</th>\n",
       "      <th>tempc_mean</th>\n",
       "      <th>spo2_mean</th>\n",
       "      <th>resprate_mean</th>\n",
       "      <th>diasbp_mean</th>\n",
       "      <th>...</th>\n",
       "      <th>albumin_mean</th>\n",
       "      <th>bands_mean</th>\n",
       "      <th>bilirubin_mean</th>\n",
       "      <th>hemoglobin_mean</th>\n",
       "      <th>ptt_mean</th>\n",
       "      <th>inr_mean</th>\n",
       "      <th>pt_mean</th>\n",
       "      <th>bun_mean</th>\n",
       "      <th>clust</th>\n",
       "      <th>is_AKI</th>\n",
       "    </tr>\n",
       "  </thead>\n",
       "  <tbody>\n",
       "    <tr>\n",
       "      <th>0</th>\n",
       "      <td>0</td>\n",
       "      <td>0.488717</td>\n",
       "      <td>0.0</td>\n",
       "      <td>0.622181</td>\n",
       "      <td>0.513765</td>\n",
       "      <td>0.467144</td>\n",
       "      <td>0.682906</td>\n",
       "      <td>0.952925</td>\n",
       "      <td>0.495046</td>\n",
       "      <td>0.614398</td>\n",
       "      <td>...</td>\n",
       "      <td>0.419392</td>\n",
       "      <td>0.141012</td>\n",
       "      <td>0.003713</td>\n",
       "      <td>0.358974</td>\n",
       "      <td>0.181170</td>\n",
       "      <td>0.026126</td>\n",
       "      <td>0.053138</td>\n",
       "      <td>0.060837</td>\n",
       "      <td>2</td>\n",
       "      <td>0</td>\n",
       "    </tr>\n",
       "    <tr>\n",
       "      <th>1</th>\n",
       "      <td>1</td>\n",
       "      <td>0.857449</td>\n",
       "      <td>0.0</td>\n",
       "      <td>0.442255</td>\n",
       "      <td>0.419493</td>\n",
       "      <td>0.533017</td>\n",
       "      <td>0.526844</td>\n",
       "      <td>0.981238</td>\n",
       "      <td>0.316202</td>\n",
       "      <td>0.323825</td>\n",
       "      <td>...</td>\n",
       "      <td>0.419392</td>\n",
       "      <td>0.141012</td>\n",
       "      <td>0.026423</td>\n",
       "      <td>0.183761</td>\n",
       "      <td>0.167404</td>\n",
       "      <td>0.015823</td>\n",
       "      <td>0.041222</td>\n",
       "      <td>0.060837</td>\n",
       "      <td>0</td>\n",
       "      <td>1</td>\n",
       "    </tr>\n",
       "    <tr>\n",
       "      <th>2</th>\n",
       "      <td>2</td>\n",
       "      <td>0.593153</td>\n",
       "      <td>0.0</td>\n",
       "      <td>0.555505</td>\n",
       "      <td>0.481606</td>\n",
       "      <td>0.508564</td>\n",
       "      <td>0.585988</td>\n",
       "      <td>0.989232</td>\n",
       "      <td>0.462089</td>\n",
       "      <td>0.521004</td>\n",
       "      <td>...</td>\n",
       "      <td>0.428571</td>\n",
       "      <td>0.141012</td>\n",
       "      <td>0.001238</td>\n",
       "      <td>0.512821</td>\n",
       "      <td>0.095133</td>\n",
       "      <td>0.009494</td>\n",
       "      <td>0.014925</td>\n",
       "      <td>0.496198</td>\n",
       "      <td>0</td>\n",
       "      <td>1</td>\n",
       "    </tr>\n",
       "    <tr>\n",
       "      <th>3</th>\n",
       "      <td>3</td>\n",
       "      <td>0.599880</td>\n",
       "      <td>0.0</td>\n",
       "      <td>0.077902</td>\n",
       "      <td>0.448485</td>\n",
       "      <td>0.439401</td>\n",
       "      <td>0.344937</td>\n",
       "      <td>0.996756</td>\n",
       "      <td>0.188622</td>\n",
       "      <td>0.421801</td>\n",
       "      <td>...</td>\n",
       "      <td>0.419392</td>\n",
       "      <td>0.141012</td>\n",
       "      <td>0.007426</td>\n",
       "      <td>0.504274</td>\n",
       "      <td>0.086283</td>\n",
       "      <td>0.009494</td>\n",
       "      <td>0.027008</td>\n",
       "      <td>0.072243</td>\n",
       "      <td>0</td>\n",
       "      <td>0</td>\n",
       "    </tr>\n",
       "    <tr>\n",
       "      <th>4</th>\n",
       "      <td>4</td>\n",
       "      <td>1.000000</td>\n",
       "      <td>0.0</td>\n",
       "      <td>0.175903</td>\n",
       "      <td>0.355883</td>\n",
       "      <td>0.511169</td>\n",
       "      <td>0.557659</td>\n",
       "      <td>0.936510</td>\n",
       "      <td>0.400152</td>\n",
       "      <td>0.285158</td>\n",
       "      <td>...</td>\n",
       "      <td>0.419392</td>\n",
       "      <td>0.220588</td>\n",
       "      <td>0.026423</td>\n",
       "      <td>0.528846</td>\n",
       "      <td>0.119100</td>\n",
       "      <td>0.047468</td>\n",
       "      <td>0.103056</td>\n",
       "      <td>0.186312</td>\n",
       "      <td>0</td>\n",
       "      <td>1</td>\n",
       "    </tr>\n",
       "  </tbody>\n",
       "</table>\n",
       "<p>5 rows × 30 columns</p>\n",
       "</div>"
      ],
      "text/plain": [
       "   Unnamed: 0  amdission_age  gender  heartrate_mean  meanbp_mean  sysbp_mean  \\\n",
       "0           0       0.488717     0.0        0.622181     0.513765    0.467144   \n",
       "1           1       0.857449     0.0        0.442255     0.419493    0.533017   \n",
       "2           2       0.593153     0.0        0.555505     0.481606    0.508564   \n",
       "3           3       0.599880     0.0        0.077902     0.448485    0.439401   \n",
       "4           4       1.000000     0.0        0.175903     0.355883    0.511169   \n",
       "\n",
       "   tempc_mean  spo2_mean  resprate_mean  diasbp_mean   ...    albumin_mean  \\\n",
       "0    0.682906   0.952925       0.495046     0.614398   ...        0.419392   \n",
       "1    0.526844   0.981238       0.316202     0.323825   ...        0.419392   \n",
       "2    0.585988   0.989232       0.462089     0.521004   ...        0.428571   \n",
       "3    0.344937   0.996756       0.188622     0.421801   ...        0.419392   \n",
       "4    0.557659   0.936510       0.400152     0.285158   ...        0.419392   \n",
       "\n",
       "   bands_mean  bilirubin_mean  hemoglobin_mean  ptt_mean  inr_mean   pt_mean  \\\n",
       "0    0.141012        0.003713         0.358974  0.181170  0.026126  0.053138   \n",
       "1    0.141012        0.026423         0.183761  0.167404  0.015823  0.041222   \n",
       "2    0.141012        0.001238         0.512821  0.095133  0.009494  0.014925   \n",
       "3    0.141012        0.007426         0.504274  0.086283  0.009494  0.027008   \n",
       "4    0.220588        0.026423         0.528846  0.119100  0.047468  0.103056   \n",
       "\n",
       "   bun_mean  clust  is_AKI  \n",
       "0  0.060837      2       0  \n",
       "1  0.060837      0       1  \n",
       "2  0.496198      0       1  \n",
       "3  0.072243      0       0  \n",
       "4  0.186312      0       1  \n",
       "\n",
       "[5 rows x 30 columns]"
      ]
     },
     "execution_count": 235,
     "metadata": {},
     "output_type": "execute_result"
    }
   ],
   "source": [
    "data.head()"
   ]
  },
  {
   "cell_type": "code",
   "execution_count": 236,
   "metadata": {},
   "outputs": [
    {
     "name": "stdout",
     "output_type": "stream",
     "text": [
      "('# of observations: ', '6470')\n"
     ]
    }
   ],
   "source": [
    "print(\"# of observations: \", str(len(data.index)))"
   ]
  },
  {
   "cell_type": "code",
   "execution_count": 237,
   "metadata": {},
   "outputs": [
    {
     "name": "stdout",
     "output_type": "stream",
     "text": [
      "<class 'pandas.core.frame.DataFrame'>\n",
      "RangeIndex: 6470 entries, 0 to 6469\n",
      "Data columns (total 30 columns):\n",
      "Unnamed: 0          6470 non-null int64\n",
      "amdission_age       6470 non-null float64\n",
      "gender              6470 non-null float64\n",
      "heartrate_mean      6470 non-null float64\n",
      "meanbp_mean         6470 non-null float64\n",
      "sysbp_mean          6470 non-null float64\n",
      "tempc_mean          6470 non-null float64\n",
      "spo2_mean           6470 non-null float64\n",
      "resprate_mean       6470 non-null float64\n",
      "diasbp_mean         6470 non-null float64\n",
      "creatinine_mean     6470 non-null float64\n",
      "potassium_mean      6470 non-null float64\n",
      "sodium_mean         6470 non-null float64\n",
      "chloride_mean       6470 non-null float64\n",
      "bicarbonate_mean    6470 non-null float64\n",
      "hematocrit_mean     6470 non-null float64\n",
      "wbc_mean            6470 non-null float64\n",
      "glucose_mean        6470 non-null float64\n",
      "lactate_mean        6470 non-null float64\n",
      "aniongap_mean       6470 non-null float64\n",
      "albumin_mean        6470 non-null float64\n",
      "bands_mean          6470 non-null float64\n",
      "bilirubin_mean      6470 non-null float64\n",
      "hemoglobin_mean     6470 non-null float64\n",
      "ptt_mean            6470 non-null float64\n",
      "inr_mean            6470 non-null float64\n",
      "pt_mean             6470 non-null float64\n",
      "bun_mean            6470 non-null float64\n",
      "clust               6470 non-null int64\n",
      "is_AKI              6470 non-null int64\n",
      "dtypes: float64(27), int64(3)\n",
      "memory usage: 1.5 MB\n"
     ]
    }
   ],
   "source": [
    "data.info()"
   ]
  },
  {
   "cell_type": "code",
   "execution_count": 238,
   "metadata": {
    "scrolled": true
   },
   "outputs": [
    {
     "data": {
      "text/plain": [
       "<matplotlib.axes._subplots.AxesSubplot at 0x1a1a5f0110>"
      ]
     },
     "execution_count": 238,
     "metadata": {},
     "output_type": "execute_result"
    },
    {
     "data": {
      "image/png": "[encoded data removed]",
      "text/plain": [
       "<Figure size 432x288 with 1 Axes>"
      ]
     },
     "metadata": {
      "needs_background": "light"
     },
     "output_type": "display_data"
    }
   ],
   "source": [
    "sns.countplot(x=\"is_AKI\", hue=\"clust\",data=data)"
   ]
  },
  {
   "cell_type": "markdown",
   "metadata": {},
   "source": [
    "## LR Analysis C0"
   ]
  },
  {
   "cell_type": "code",
   "execution_count": 239,
   "metadata": {
    "scrolled": true
   },
   "outputs": [
    {
     "data": {
      "text/html": [
       "<div>\n",
       "<style scoped>\n",
       "    .dataframe tbody tr th:only-of-type {\n",
       "        vertical-align: middle;\n",
       "    }\n",
       "\n",
       "    .dataframe tbody tr th {\n",
       "        vertical-align: top;\n",
       "    }\n",
       "\n",
       "    .dataframe thead th {\n",
       "        text-align: right;\n",
       "    }\n",
       "</style>\n",
       "<table border=\"1\" class=\"dataframe\">\n",
       "  <thead>\n",
       "    <tr style=\"text-align: right;\">\n",
       "      <th></th>\n",
       "      <th>Unnamed: 0</th>\n",
       "      <th>amdission_age</th>\n",
       "      <th>gender</th>\n",
       "      <th>heartrate_mean</th>\n",
       "      <th>meanbp_mean</th>\n",
       "      <th>sysbp_mean</th>\n",
       "      <th>tempc_mean</th>\n",
       "      <th>spo2_mean</th>\n",
       "      <th>resprate_mean</th>\n",
       "      <th>diasbp_mean</th>\n",
       "      <th>...</th>\n",
       "      <th>albumin_mean</th>\n",
       "      <th>bands_mean</th>\n",
       "      <th>bilirubin_mean</th>\n",
       "      <th>hemoglobin_mean</th>\n",
       "      <th>ptt_mean</th>\n",
       "      <th>inr_mean</th>\n",
       "      <th>pt_mean</th>\n",
       "      <th>bun_mean</th>\n",
       "      <th>clust</th>\n",
       "      <th>is_AKI</th>\n",
       "    </tr>\n",
       "  </thead>\n",
       "  <tbody>\n",
       "    <tr>\n",
       "      <th>0</th>\n",
       "      <td>0</td>\n",
       "      <td>0.488717</td>\n",
       "      <td>0.0</td>\n",
       "      <td>0.622181</td>\n",
       "      <td>0.513765</td>\n",
       "      <td>0.467144</td>\n",
       "      <td>0.682906</td>\n",
       "      <td>0.952925</td>\n",
       "      <td>0.495046</td>\n",
       "      <td>0.614398</td>\n",
       "      <td>...</td>\n",
       "      <td>0.419392</td>\n",
       "      <td>0.141012</td>\n",
       "      <td>0.003713</td>\n",
       "      <td>0.358974</td>\n",
       "      <td>0.181170</td>\n",
       "      <td>0.026126</td>\n",
       "      <td>0.053138</td>\n",
       "      <td>0.060837</td>\n",
       "      <td>2</td>\n",
       "      <td>0</td>\n",
       "    </tr>\n",
       "    <tr>\n",
       "      <th>1</th>\n",
       "      <td>1</td>\n",
       "      <td>0.857449</td>\n",
       "      <td>0.0</td>\n",
       "      <td>0.442255</td>\n",
       "      <td>0.419493</td>\n",
       "      <td>0.533017</td>\n",
       "      <td>0.526844</td>\n",
       "      <td>0.981238</td>\n",
       "      <td>0.316202</td>\n",
       "      <td>0.323825</td>\n",
       "      <td>...</td>\n",
       "      <td>0.419392</td>\n",
       "      <td>0.141012</td>\n",
       "      <td>0.026423</td>\n",
       "      <td>0.183761</td>\n",
       "      <td>0.167404</td>\n",
       "      <td>0.015823</td>\n",
       "      <td>0.041222</td>\n",
       "      <td>0.060837</td>\n",
       "      <td>0</td>\n",
       "      <td>1</td>\n",
       "    </tr>\n",
       "    <tr>\n",
       "      <th>2</th>\n",
       "      <td>2</td>\n",
       "      <td>0.593153</td>\n",
       "      <td>0.0</td>\n",
       "      <td>0.555505</td>\n",
       "      <td>0.481606</td>\n",
       "      <td>0.508564</td>\n",
       "      <td>0.585988</td>\n",
       "      <td>0.989232</td>\n",
       "      <td>0.462089</td>\n",
       "      <td>0.521004</td>\n",
       "      <td>...</td>\n",
       "      <td>0.428571</td>\n",
       "      <td>0.141012</td>\n",
       "      <td>0.001238</td>\n",
       "      <td>0.512821</td>\n",
       "      <td>0.095133</td>\n",
       "      <td>0.009494</td>\n",
       "      <td>0.014925</td>\n",
       "      <td>0.496198</td>\n",
       "      <td>0</td>\n",
       "      <td>1</td>\n",
       "    </tr>\n",
       "    <tr>\n",
       "      <th>3</th>\n",
       "      <td>3</td>\n",
       "      <td>0.599880</td>\n",
       "      <td>0.0</td>\n",
       "      <td>0.077902</td>\n",
       "      <td>0.448485</td>\n",
       "      <td>0.439401</td>\n",
       "      <td>0.344937</td>\n",
       "      <td>0.996756</td>\n",
       "      <td>0.188622</td>\n",
       "      <td>0.421801</td>\n",
       "      <td>...</td>\n",
       "      <td>0.419392</td>\n",
       "      <td>0.141012</td>\n",
       "      <td>0.007426</td>\n",
       "      <td>0.504274</td>\n",
       "      <td>0.086283</td>\n",
       "      <td>0.009494</td>\n",
       "      <td>0.027008</td>\n",
       "      <td>0.072243</td>\n",
       "      <td>0</td>\n",
       "      <td>0</td>\n",
       "    </tr>\n",
       "    <tr>\n",
       "      <th>4</th>\n",
       "      <td>4</td>\n",
       "      <td>1.000000</td>\n",
       "      <td>0.0</td>\n",
       "      <td>0.175903</td>\n",
       "      <td>0.355883</td>\n",
       "      <td>0.511169</td>\n",
       "      <td>0.557659</td>\n",
       "      <td>0.936510</td>\n",
       "      <td>0.400152</td>\n",
       "      <td>0.285158</td>\n",
       "      <td>...</td>\n",
       "      <td>0.419392</td>\n",
       "      <td>0.220588</td>\n",
       "      <td>0.026423</td>\n",
       "      <td>0.528846</td>\n",
       "      <td>0.119100</td>\n",
       "      <td>0.047468</td>\n",
       "      <td>0.103056</td>\n",
       "      <td>0.186312</td>\n",
       "      <td>0</td>\n",
       "      <td>1</td>\n",
       "    </tr>\n",
       "  </tbody>\n",
       "</table>\n",
       "<p>5 rows × 30 columns</p>\n",
       "</div>"
      ],
      "text/plain": [
       "   Unnamed: 0  amdission_age  gender  heartrate_mean  meanbp_mean  sysbp_mean  \\\n",
       "0           0       0.488717     0.0        0.622181     0.513765    0.467144   \n",
       "1           1       0.857449     0.0        0.442255     0.419493    0.533017   \n",
       "2           2       0.593153     0.0        0.555505     0.481606    0.508564   \n",
       "3           3       0.599880     0.0        0.077902     0.448485    0.439401   \n",
       "4           4       1.000000     0.0        0.175903     0.355883    0.511169   \n",
       "\n",
       "   tempc_mean  spo2_mean  resprate_mean  diasbp_mean   ...    albumin_mean  \\\n",
       "0    0.682906   0.952925       0.495046     0.614398   ...        0.419392   \n",
       "1    0.526844   0.981238       0.316202     0.323825   ...        0.419392   \n",
       "2    0.585988   0.989232       0.462089     0.521004   ...        0.428571   \n",
       "3    0.344937   0.996756       0.188622     0.421801   ...        0.419392   \n",
       "4    0.557659   0.936510       0.400152     0.285158   ...        0.419392   \n",
       "\n",
       "   bands_mean  bilirubin_mean  hemoglobin_mean  ptt_mean  inr_mean   pt_mean  \\\n",
       "0    0.141012        0.003713         0.358974  0.181170  0.026126  0.053138   \n",
       "1    0.141012        0.026423         0.183761  0.167404  0.015823  0.041222   \n",
       "2    0.141012        0.001238         0.512821  0.095133  0.009494  0.014925   \n",
       "3    0.141012        0.007426         0.504274  0.086283  0.009494  0.027008   \n",
       "4    0.220588        0.026423         0.528846  0.119100  0.047468  0.103056   \n",
       "\n",
       "   bun_mean  clust  is_AKI  \n",
       "0  0.060837      2       0  \n",
       "1  0.060837      0       1  \n",
       "2  0.496198      0       1  \n",
       "3  0.072243      0       0  \n",
       "4  0.186312      0       1  \n",
       "\n",
       "[5 rows x 30 columns]"
      ]
     },
     "execution_count": 239,
     "metadata": {},
     "output_type": "execute_result"
    }
   ],
   "source": [
    "data.head()"
   ]
  },
  {
   "cell_type": "code",
   "execution_count": 240,
   "metadata": {},
   "outputs": [],
   "source": [
    "data0 = data[data['clust']==0]"
   ]
  },
  {
   "cell_type": "code",
   "execution_count": 241,
   "metadata": {},
   "outputs": [],
   "source": [
    "t = data0.drop(\"is_AKI\", axis=1)\n",
    "X0 = t.drop('clust', axis = 1)\n",
    "Y0 = data0[\"is_AKI\"]"
   ]
  },
  {
   "cell_type": "code",
   "execution_count": 243,
   "metadata": {},
   "outputs": [],
   "source": [
    "from sklearn.model_selection import train_test_split"
   ]
  },
  {
   "cell_type": "code",
   "execution_count": 244,
   "metadata": {},
   "outputs": [],
   "source": [
    "X_train, X_test, y_train, y_test = train_test_split(X0,Y0, test_size=0.3, random_state=1)"
   ]
  },
  {
   "cell_type": "code",
   "execution_count": 245,
   "metadata": {},
   "outputs": [],
   "source": [
    "from sklearn.linear_model import LogisticRegression"
   ]
  },
  {
   "cell_type": "code",
   "execution_count": 246,
   "metadata": {},
   "outputs": [],
   "source": [
    "logmodel = LogisticRegression()"
   ]
  },
  {
   "cell_type": "code",
   "execution_count": 247,
   "metadata": {},
   "outputs": [
    {
     "data": {
      "text/plain": [
       "LogisticRegression(C=1.0, class_weight=None, dual=False, fit_intercept=True,\n",
       "          intercept_scaling=1, max_iter=100, multi_class='warn',\n",
       "          n_jobs=None, penalty='l2', random_state=None, solver='warn',\n",
       "          tol=0.0001, verbose=0, warm_start=False)"
      ]
     },
     "execution_count": 247,
     "metadata": {},
     "output_type": "execute_result"
    }
   ],
   "source": [
    "logmodel.fit(X_train, y_train)"
   ]
  },
  {
   "cell_type": "code",
   "execution_count": 248,
   "metadata": {},
   "outputs": [],
   "source": [
    "predictions = logmodel.predict(X_test)"
   ]
  },
  {
   "cell_type": "code",
   "execution_count": 249,
   "metadata": {},
   "outputs": [],
   "source": [
    "from sklearn.metrics import classification_report"
   ]
  },
  {
   "cell_type": "code",
   "execution_count": 250,
   "metadata": {},
   "outputs": [
    {
     "data": {
      "text/plain": [
       "u'              precision    recall  f1-score   support\\n\\n           0       0.66      0.69      0.68       317\\n           1       0.62      0.58      0.60       270\\n\\n   micro avg       0.64      0.64      0.64       587\\n   macro avg       0.64      0.64      0.64       587\\nweighted avg       0.64      0.64      0.64       587\\n'"
      ]
     },
     "execution_count": 250,
     "metadata": {},
     "output_type": "execute_result"
    }
   ],
   "source": [
    "classification_report(y_test, predictions)"
   ]
  },
  {
   "cell_type": "code",
   "execution_count": 251,
   "metadata": {},
   "outputs": [],
   "source": [
    "from sklearn.metrics import confusion_matrix"
   ]
  },
  {
   "cell_type": "code",
   "execution_count": 252,
   "metadata": {},
   "outputs": [
    {
     "data": {
      "text/plain": [
       "array([[220,  97],\n",
       "       [114, 156]])"
      ]
     },
     "execution_count": 252,
     "metadata": {},
     "output_type": "execute_result"
    }
   ],
   "source": [
    "confusion_matrix(y_test, predictions)"
   ]
  },
  {
   "cell_type": "markdown",
   "metadata": {},
   "source": [
    "### Calculate Accuracy"
   ]
  },
  {
   "cell_type": "code",
   "execution_count": 253,
   "metadata": {},
   "outputs": [],
   "source": [
    "from sklearn.metrics import accuracy_score"
   ]
  },
  {
   "cell_type": "code",
   "execution_count": 254,
   "metadata": {},
   "outputs": [
    {
     "data": {
      "text/plain": [
       "0.6405451448040886"
      ]
     },
     "execution_count": 254,
     "metadata": {},
     "output_type": "execute_result"
    }
   ],
   "source": [
    "accuracy_score(y_test, predictions)"
   ]
  },
  {
   "cell_type": "markdown",
   "metadata": {},
   "source": [
    "## LR Analysis C1"
   ]
  },
  {
   "cell_type": "code",
   "execution_count": 255,
   "metadata": {},
   "outputs": [],
   "source": [
    "data1 = data[data['clust']==1]"
   ]
  },
  {
   "cell_type": "code",
   "execution_count": 256,
   "metadata": {},
   "outputs": [
    {
     "data": {
      "text/html": [
       "<div>\n",
       "<style scoped>\n",
       "    .dataframe tbody tr th:only-of-type {\n",
       "        vertical-align: middle;\n",
       "    }\n",
       "\n",
       "    .dataframe tbody tr th {\n",
       "        vertical-align: top;\n",
       "    }\n",
       "\n",
       "    .dataframe thead th {\n",
       "        text-align: right;\n",
       "    }\n",
       "</style>\n",
       "<table border=\"1\" class=\"dataframe\">\n",
       "  <thead>\n",
       "    <tr style=\"text-align: right;\">\n",
       "      <th></th>\n",
       "      <th>Unnamed: 0</th>\n",
       "      <th>amdission_age</th>\n",
       "      <th>gender</th>\n",
       "      <th>heartrate_mean</th>\n",
       "      <th>meanbp_mean</th>\n",
       "      <th>sysbp_mean</th>\n",
       "      <th>tempc_mean</th>\n",
       "      <th>spo2_mean</th>\n",
       "      <th>resprate_mean</th>\n",
       "      <th>diasbp_mean</th>\n",
       "      <th>...</th>\n",
       "      <th>albumin_mean</th>\n",
       "      <th>bands_mean</th>\n",
       "      <th>bilirubin_mean</th>\n",
       "      <th>hemoglobin_mean</th>\n",
       "      <th>ptt_mean</th>\n",
       "      <th>inr_mean</th>\n",
       "      <th>pt_mean</th>\n",
       "      <th>bun_mean</th>\n",
       "      <th>clust</th>\n",
       "      <th>is_AKI</th>\n",
       "    </tr>\n",
       "  </thead>\n",
       "  <tbody>\n",
       "    <tr>\n",
       "      <th>6</th>\n",
       "      <td>6</td>\n",
       "      <td>0.588504</td>\n",
       "      <td>1.0</td>\n",
       "      <td>0.367755</td>\n",
       "      <td>0.543629</td>\n",
       "      <td>0.641832</td>\n",
       "      <td>0.679924</td>\n",
       "      <td>0.979987</td>\n",
       "      <td>0.256728</td>\n",
       "      <td>0.504093</td>\n",
       "      <td>...</td>\n",
       "      <td>0.419392</td>\n",
       "      <td>0.141012</td>\n",
       "      <td>0.026423</td>\n",
       "      <td>0.482051</td>\n",
       "      <td>0.083333</td>\n",
       "      <td>0.004747</td>\n",
       "      <td>0.008529</td>\n",
       "      <td>0.031686</td>\n",
       "      <td>1</td>\n",
       "      <td>0</td>\n",
       "    </tr>\n",
       "    <tr>\n",
       "      <th>11</th>\n",
       "      <td>11</td>\n",
       "      <td>0.457483</td>\n",
       "      <td>1.0</td>\n",
       "      <td>0.541407</td>\n",
       "      <td>0.556822</td>\n",
       "      <td>0.548825</td>\n",
       "      <td>0.653947</td>\n",
       "      <td>0.987222</td>\n",
       "      <td>0.325610</td>\n",
       "      <td>0.637342</td>\n",
       "      <td>...</td>\n",
       "      <td>0.419392</td>\n",
       "      <td>0.141012</td>\n",
       "      <td>0.026423</td>\n",
       "      <td>0.092949</td>\n",
       "      <td>0.186947</td>\n",
       "      <td>0.009494</td>\n",
       "      <td>0.021322</td>\n",
       "      <td>0.081369</td>\n",
       "      <td>1</td>\n",
       "      <td>1</td>\n",
       "    </tr>\n",
       "    <tr>\n",
       "      <th>25</th>\n",
       "      <td>25</td>\n",
       "      <td>0.424070</td>\n",
       "      <td>1.0</td>\n",
       "      <td>0.378141</td>\n",
       "      <td>0.477939</td>\n",
       "      <td>0.484797</td>\n",
       "      <td>0.537281</td>\n",
       "      <td>0.998874</td>\n",
       "      <td>0.384146</td>\n",
       "      <td>0.436619</td>\n",
       "      <td>...</td>\n",
       "      <td>0.428571</td>\n",
       "      <td>0.141012</td>\n",
       "      <td>0.001856</td>\n",
       "      <td>0.391026</td>\n",
       "      <td>0.181170</td>\n",
       "      <td>0.026126</td>\n",
       "      <td>0.053138</td>\n",
       "      <td>0.174144</td>\n",
       "      <td>1</td>\n",
       "      <td>1</td>\n",
       "    </tr>\n",
       "    <tr>\n",
       "      <th>32</th>\n",
       "      <td>32</td>\n",
       "      <td>0.581976</td>\n",
       "      <td>1.0</td>\n",
       "      <td>0.491321</td>\n",
       "      <td>0.530989</td>\n",
       "      <td>0.504744</td>\n",
       "      <td>0.666007</td>\n",
       "      <td>0.924353</td>\n",
       "      <td>0.316337</td>\n",
       "      <td>0.535682</td>\n",
       "      <td>...</td>\n",
       "      <td>0.419392</td>\n",
       "      <td>0.141012</td>\n",
       "      <td>0.026423</td>\n",
       "      <td>0.490385</td>\n",
       "      <td>0.125369</td>\n",
       "      <td>0.028481</td>\n",
       "      <td>0.064677</td>\n",
       "      <td>0.064639</td>\n",
       "      <td>1</td>\n",
       "      <td>0</td>\n",
       "    </tr>\n",
       "    <tr>\n",
       "      <th>33</th>\n",
       "      <td>33</td>\n",
       "      <td>0.597365</td>\n",
       "      <td>1.0</td>\n",
       "      <td>0.309094</td>\n",
       "      <td>0.599071</td>\n",
       "      <td>0.637303</td>\n",
       "      <td>0.518726</td>\n",
       "      <td>0.969299</td>\n",
       "      <td>0.169207</td>\n",
       "      <td>0.571662</td>\n",
       "      <td>...</td>\n",
       "      <td>0.419392</td>\n",
       "      <td>0.141012</td>\n",
       "      <td>0.001238</td>\n",
       "      <td>0.560897</td>\n",
       "      <td>0.033186</td>\n",
       "      <td>0.006329</td>\n",
       "      <td>0.018479</td>\n",
       "      <td>0.028517</td>\n",
       "      <td>1</td>\n",
       "      <td>0</td>\n",
       "    </tr>\n",
       "  </tbody>\n",
       "</table>\n",
       "<p>5 rows × 30 columns</p>\n",
       "</div>"
      ],
      "text/plain": [
       "    Unnamed: 0  amdission_age  gender  heartrate_mean  meanbp_mean  \\\n",
       "6            6       0.588504     1.0        0.367755     0.543629   \n",
       "11          11       0.457483     1.0        0.541407     0.556822   \n",
       "25          25       0.424070     1.0        0.378141     0.477939   \n",
       "32          32       0.581976     1.0        0.491321     0.530989   \n",
       "33          33       0.597365     1.0        0.309094     0.599071   \n",
       "\n",
       "    sysbp_mean  tempc_mean  spo2_mean  resprate_mean  diasbp_mean   ...    \\\n",
       "6     0.641832    0.679924   0.979987       0.256728     0.504093   ...     \n",
       "11    0.548825    0.653947   0.987222       0.325610     0.637342   ...     \n",
       "25    0.484797    0.537281   0.998874       0.384146     0.436619   ...     \n",
       "32    0.504744    0.666007   0.924353       0.316337     0.535682   ...     \n",
       "33    0.637303    0.518726   0.969299       0.169207     0.571662   ...     \n",
       "\n",
       "    albumin_mean  bands_mean  bilirubin_mean  hemoglobin_mean  ptt_mean  \\\n",
       "6       0.419392    0.141012        0.026423         0.482051  0.083333   \n",
       "11      0.419392    0.141012        0.026423         0.092949  0.186947   \n",
       "25      0.428571    0.141012        0.001856         0.391026  0.181170   \n",
       "32      0.419392    0.141012        0.026423         0.490385  0.125369   \n",
       "33      0.419392    0.141012        0.001238         0.560897  0.033186   \n",
       "\n",
       "    inr_mean   pt_mean  bun_mean  clust  is_AKI  \n",
       "6   0.004747  0.008529  0.031686      1       0  \n",
       "11  0.009494  0.021322  0.081369      1       1  \n",
       "25  0.026126  0.053138  0.174144      1       1  \n",
       "32  0.028481  0.064677  0.064639      1       0  \n",
       "33  0.006329  0.018479  0.028517      1       0  \n",
       "\n",
       "[5 rows x 30 columns]"
      ]
     },
     "execution_count": 256,
     "metadata": {},
     "output_type": "execute_result"
    }
   ],
   "source": [
    "data1.head()"
   ]
  },
  {
   "cell_type": "code",
   "execution_count": 257,
   "metadata": {},
   "outputs": [],
   "source": [
    "t = data1.drop(\"is_AKI\", axis=1)\n",
    "X1 = t.drop('clust', axis = 1)\n",
    "Y1 = data1[\"is_AKI\"]"
   ]
  },
  {
   "cell_type": "code",
   "execution_count": 258,
   "metadata": {},
   "outputs": [
    {
     "data": {
      "text/plain": [
       "(1230, 28)"
      ]
     },
     "execution_count": 258,
     "metadata": {},
     "output_type": "execute_result"
    }
   ],
   "source": [
    "X1.shape"
   ]
  },
  {
   "cell_type": "code",
   "execution_count": 259,
   "metadata": {},
   "outputs": [
    {
     "data": {
      "text/plain": [
       "(1230,)"
      ]
     },
     "execution_count": 259,
     "metadata": {},
     "output_type": "execute_result"
    }
   ],
   "source": [
    "Y1.shape"
   ]
  },
  {
   "cell_type": "code",
   "execution_count": 260,
   "metadata": {},
   "outputs": [],
   "source": [
    "from sklearn.model_selection import train_test_split"
   ]
  },
  {
   "cell_type": "code",
   "execution_count": 261,
   "metadata": {},
   "outputs": [],
   "source": [
    "X_train, X_test, y_train, y_test = train_test_split(X1,Y1, test_size=0.3, random_state=1)"
   ]
  },
  {
   "cell_type": "code",
   "execution_count": 262,
   "metadata": {},
   "outputs": [],
   "source": [
    "from sklearn.linear_model import LogisticRegression"
   ]
  },
  {
   "cell_type": "code",
   "execution_count": 263,
   "metadata": {},
   "outputs": [],
   "source": [
    "logmodel = LogisticRegression()"
   ]
  },
  {
   "cell_type": "code",
   "execution_count": 264,
   "metadata": {},
   "outputs": [
    {
     "data": {
      "text/plain": [
       "LogisticRegression(C=1.0, class_weight=None, dual=False, fit_intercept=True,\n",
       "          intercept_scaling=1, max_iter=100, multi_class='warn',\n",
       "          n_jobs=None, penalty='l2', random_state=None, solver='warn',\n",
       "          tol=0.0001, verbose=0, warm_start=False)"
      ]
     },
     "execution_count": 264,
     "metadata": {},
     "output_type": "execute_result"
    }
   ],
   "source": [
    "logmodel.fit(X_train, y_train)"
   ]
  },
  {
   "cell_type": "code",
   "execution_count": 265,
   "metadata": {},
   "outputs": [],
   "source": [
    "predictions = logmodel.predict(X_test)"
   ]
  },
  {
   "cell_type": "code",
   "execution_count": 266,
   "metadata": {},
   "outputs": [],
   "source": [
    "from sklearn.metrics import classification_report"
   ]
  },
  {
   "cell_type": "code",
   "execution_count": 267,
   "metadata": {},
   "outputs": [
    {
     "name": "stderr",
     "output_type": "stream",
     "text": [
      "/anaconda2/lib/python2.7/site-packages/sklearn/metrics/classification.py:1143: UndefinedMetricWarning: Precision and F-score are ill-defined and being set to 0.0 in labels with no predicted samples.\n",
      "  'precision', 'predicted', average, warn_for)\n",
      "/anaconda2/lib/python2.7/site-packages/sklearn/metrics/classification.py:1143: UndefinedMetricWarning: Precision and F-score are ill-defined and being set to 0.0 in labels with no predicted samples.\n",
      "  'precision', 'predicted', average, warn_for)\n",
      "/anaconda2/lib/python2.7/site-packages/sklearn/metrics/classification.py:1143: UndefinedMetricWarning: Precision and F-score are ill-defined and being set to 0.0 in labels with no predicted samples.\n",
      "  'precision', 'predicted', average, warn_for)\n"
     ]
    },
    {
     "data": {
      "text/plain": [
       "u'              precision    recall  f1-score   support\\n\\n           0       0.68      1.00      0.81       251\\n           1       0.00      0.00      0.00       118\\n\\n   micro avg       0.68      0.68      0.68       369\\n   macro avg       0.34      0.50      0.40       369\\nweighted avg       0.46      0.68      0.55       369\\n'"
      ]
     },
     "execution_count": 267,
     "metadata": {},
     "output_type": "execute_result"
    }
   ],
   "source": [
    "classification_report(y_test, predictions)"
   ]
  },
  {
   "cell_type": "code",
   "execution_count": 268,
   "metadata": {},
   "outputs": [],
   "source": [
    "from sklearn.metrics import confusion_matrix"
   ]
  },
  {
   "cell_type": "code",
   "execution_count": 269,
   "metadata": {},
   "outputs": [
    {
     "data": {
      "text/plain": [
       "array([[251,   0],\n",
       "       [118,   0]])"
      ]
     },
     "execution_count": 269,
     "metadata": {},
     "output_type": "execute_result"
    }
   ],
   "source": [
    "confusion_matrix(y_test, predictions)"
   ]
  },
  {
   "cell_type": "markdown",
   "metadata": {},
   "source": [
    "### Calculate Accuracy"
   ]
  },
  {
   "cell_type": "code",
   "execution_count": 270,
   "metadata": {},
   "outputs": [],
   "source": [
    "from sklearn.metrics import accuracy_score"
   ]
  },
  {
   "cell_type": "code",
   "execution_count": 271,
   "metadata": {},
   "outputs": [
    {
     "data": {
      "text/plain": [
       "0.6802168021680217"
      ]
     },
     "execution_count": 271,
     "metadata": {},
     "output_type": "execute_result"
    }
   ],
   "source": [
    "accuracy_score(y_test, predictions)"
   ]
  },
  {
   "cell_type": "markdown",
   "metadata": {},
   "source": [
    "## LR Analysis C2"
   ]
  },
  {
   "cell_type": "code",
   "execution_count": 272,
   "metadata": {},
   "outputs": [],
   "source": [
    "data2 = data[data['clust']==2]"
   ]
  },
  {
   "cell_type": "code",
   "execution_count": 273,
   "metadata": {},
   "outputs": [
    {
     "data": {
      "text/html": [
       "<div>\n",
       "<style scoped>\n",
       "    .dataframe tbody tr th:only-of-type {\n",
       "        vertical-align: middle;\n",
       "    }\n",
       "\n",
       "    .dataframe tbody tr th {\n",
       "        vertical-align: top;\n",
       "    }\n",
       "\n",
       "    .dataframe thead th {\n",
       "        text-align: right;\n",
       "    }\n",
       "</style>\n",
       "<table border=\"1\" class=\"dataframe\">\n",
       "  <thead>\n",
       "    <tr style=\"text-align: right;\">\n",
       "      <th></th>\n",
       "      <th>Unnamed: 0</th>\n",
       "      <th>amdission_age</th>\n",
       "      <th>gender</th>\n",
       "      <th>heartrate_mean</th>\n",
       "      <th>meanbp_mean</th>\n",
       "      <th>sysbp_mean</th>\n",
       "      <th>tempc_mean</th>\n",
       "      <th>spo2_mean</th>\n",
       "      <th>resprate_mean</th>\n",
       "      <th>diasbp_mean</th>\n",
       "      <th>...</th>\n",
       "      <th>albumin_mean</th>\n",
       "      <th>bands_mean</th>\n",
       "      <th>bilirubin_mean</th>\n",
       "      <th>hemoglobin_mean</th>\n",
       "      <th>ptt_mean</th>\n",
       "      <th>inr_mean</th>\n",
       "      <th>pt_mean</th>\n",
       "      <th>bun_mean</th>\n",
       "      <th>clust</th>\n",
       "      <th>is_AKI</th>\n",
       "    </tr>\n",
       "  </thead>\n",
       "  <tbody>\n",
       "    <tr>\n",
       "      <th>0</th>\n",
       "      <td>0</td>\n",
       "      <td>0.488717</td>\n",
       "      <td>0.0</td>\n",
       "      <td>0.622181</td>\n",
       "      <td>0.513765</td>\n",
       "      <td>0.467144</td>\n",
       "      <td>0.682906</td>\n",
       "      <td>0.952925</td>\n",
       "      <td>0.495046</td>\n",
       "      <td>0.614398</td>\n",
       "      <td>...</td>\n",
       "      <td>0.419392</td>\n",
       "      <td>0.141012</td>\n",
       "      <td>0.003713</td>\n",
       "      <td>0.358974</td>\n",
       "      <td>0.181170</td>\n",
       "      <td>0.026126</td>\n",
       "      <td>0.053138</td>\n",
       "      <td>0.060837</td>\n",
       "      <td>2</td>\n",
       "      <td>0</td>\n",
       "    </tr>\n",
       "    <tr>\n",
       "      <th>9</th>\n",
       "      <td>9</td>\n",
       "      <td>0.132262</td>\n",
       "      <td>0.0</td>\n",
       "      <td>0.415209</td>\n",
       "      <td>0.380749</td>\n",
       "      <td>0.373663</td>\n",
       "      <td>0.616306</td>\n",
       "      <td>0.958603</td>\n",
       "      <td>0.281707</td>\n",
       "      <td>0.423420</td>\n",
       "      <td>...</td>\n",
       "      <td>0.419392</td>\n",
       "      <td>0.141012</td>\n",
       "      <td>0.026423</td>\n",
       "      <td>0.410256</td>\n",
       "      <td>0.102507</td>\n",
       "      <td>0.015823</td>\n",
       "      <td>0.038735</td>\n",
       "      <td>0.049430</td>\n",
       "      <td>2</td>\n",
       "      <td>0</td>\n",
       "    </tr>\n",
       "    <tr>\n",
       "      <th>13</th>\n",
       "      <td>13</td>\n",
       "      <td>0.050765</td>\n",
       "      <td>0.0</td>\n",
       "      <td>0.563552</td>\n",
       "      <td>0.561066</td>\n",
       "      <td>0.684833</td>\n",
       "      <td>0.669487</td>\n",
       "      <td>0.949568</td>\n",
       "      <td>0.361829</td>\n",
       "      <td>0.573522</td>\n",
       "      <td>...</td>\n",
       "      <td>0.626374</td>\n",
       "      <td>0.014706</td>\n",
       "      <td>0.023515</td>\n",
       "      <td>0.730769</td>\n",
       "      <td>0.242380</td>\n",
       "      <td>0.046414</td>\n",
       "      <td>0.100569</td>\n",
       "      <td>0.032700</td>\n",
       "      <td>2</td>\n",
       "      <td>0</td>\n",
       "    </tr>\n",
       "    <tr>\n",
       "      <th>14</th>\n",
       "      <td>14</td>\n",
       "      <td>0.414106</td>\n",
       "      <td>0.0</td>\n",
       "      <td>0.509432</td>\n",
       "      <td>0.403165</td>\n",
       "      <td>0.384267</td>\n",
       "      <td>0.664616</td>\n",
       "      <td>0.962477</td>\n",
       "      <td>0.334756</td>\n",
       "      <td>0.416000</td>\n",
       "      <td>...</td>\n",
       "      <td>0.428571</td>\n",
       "      <td>0.058824</td>\n",
       "      <td>0.386757</td>\n",
       "      <td>0.292735</td>\n",
       "      <td>0.270895</td>\n",
       "      <td>0.062236</td>\n",
       "      <td>0.136934</td>\n",
       "      <td>0.193916</td>\n",
       "      <td>2</td>\n",
       "      <td>0</td>\n",
       "    </tr>\n",
       "    <tr>\n",
       "      <th>16</th>\n",
       "      <td>16</td>\n",
       "      <td>0.051258</td>\n",
       "      <td>0.0</td>\n",
       "      <td>0.726214</td>\n",
       "      <td>0.422237</td>\n",
       "      <td>0.404926</td>\n",
       "      <td>0.679924</td>\n",
       "      <td>0.777111</td>\n",
       "      <td>0.603659</td>\n",
       "      <td>0.385264</td>\n",
       "      <td>...</td>\n",
       "      <td>0.241758</td>\n",
       "      <td>0.132353</td>\n",
       "      <td>0.002063</td>\n",
       "      <td>0.581502</td>\n",
       "      <td>0.516962</td>\n",
       "      <td>0.033228</td>\n",
       "      <td>0.048863</td>\n",
       "      <td>0.217681</td>\n",
       "      <td>2</td>\n",
       "      <td>0</td>\n",
       "    </tr>\n",
       "  </tbody>\n",
       "</table>\n",
       "<p>5 rows × 30 columns</p>\n",
       "</div>"
      ],
      "text/plain": [
       "    Unnamed: 0  amdission_age  gender  heartrate_mean  meanbp_mean  \\\n",
       "0            0       0.488717     0.0        0.622181     0.513765   \n",
       "9            9       0.132262     0.0        0.415209     0.380749   \n",
       "13          13       0.050765     0.0        0.563552     0.561066   \n",
       "14          14       0.414106     0.0        0.509432     0.403165   \n",
       "16          16       0.051258     0.0        0.726214     0.422237   \n",
       "\n",
       "    sysbp_mean  tempc_mean  spo2_mean  resprate_mean  diasbp_mean   ...    \\\n",
       "0     0.467144    0.682906   0.952925       0.495046     0.614398   ...     \n",
       "9     0.373663    0.616306   0.958603       0.281707     0.423420   ...     \n",
       "13    0.684833    0.669487   0.949568       0.361829     0.573522   ...     \n",
       "14    0.384267    0.664616   0.962477       0.334756     0.416000   ...     \n",
       "16    0.404926    0.679924   0.777111       0.603659     0.385264   ...     \n",
       "\n",
       "    albumin_mean  bands_mean  bilirubin_mean  hemoglobin_mean  ptt_mean  \\\n",
       "0       0.419392    0.141012        0.003713         0.358974  0.181170   \n",
       "9       0.419392    0.141012        0.026423         0.410256  0.102507   \n",
       "13      0.626374    0.014706        0.023515         0.730769  0.242380   \n",
       "14      0.428571    0.058824        0.386757         0.292735  0.270895   \n",
       "16      0.241758    0.132353        0.002063         0.581502  0.516962   \n",
       "\n",
       "    inr_mean   pt_mean  bun_mean  clust  is_AKI  \n",
       "0   0.026126  0.053138  0.060837      2       0  \n",
       "9   0.015823  0.038735  0.049430      2       0  \n",
       "13  0.046414  0.100569  0.032700      2       0  \n",
       "14  0.062236  0.136934  0.193916      2       0  \n",
       "16  0.033228  0.048863  0.217681      2       0  \n",
       "\n",
       "[5 rows x 30 columns]"
      ]
     },
     "execution_count": 273,
     "metadata": {},
     "output_type": "execute_result"
    }
   ],
   "source": [
    "data2.head()"
   ]
  },
  {
   "cell_type": "code",
   "execution_count": 274,
   "metadata": {},
   "outputs": [],
   "source": [
    "t = data2.drop(\"is_AKI\", axis=1)\n",
    "X2 = t.drop('clust', axis = 1)\n",
    "Y2 = data2[\"is_AKI\"]"
   ]
  },
  {
   "cell_type": "code",
   "execution_count": 275,
   "metadata": {},
   "outputs": [
    {
     "data": {
      "text/plain": [
       "(1381, 28)"
      ]
     },
     "execution_count": 275,
     "metadata": {},
     "output_type": "execute_result"
    }
   ],
   "source": [
    "X2.shape"
   ]
  },
  {
   "cell_type": "code",
   "execution_count": 276,
   "metadata": {},
   "outputs": [
    {
     "data": {
      "text/plain": [
       "(1381,)"
      ]
     },
     "execution_count": 276,
     "metadata": {},
     "output_type": "execute_result"
    }
   ],
   "source": [
    "Y2.shape"
   ]
  },
  {
   "cell_type": "code",
   "execution_count": 277,
   "metadata": {},
   "outputs": [],
   "source": [
    "from sklearn.model_selection import train_test_split"
   ]
  },
  {
   "cell_type": "code",
   "execution_count": 278,
   "metadata": {},
   "outputs": [],
   "source": [
    "X_train, X_test, y_train, y_test = train_test_split(X2,Y2, test_size=0.3, random_state=1)"
   ]
  },
  {
   "cell_type": "code",
   "execution_count": 279,
   "metadata": {},
   "outputs": [],
   "source": [
    "from sklearn.linear_model import LogisticRegression"
   ]
  },
  {
   "cell_type": "code",
   "execution_count": 280,
   "metadata": {},
   "outputs": [],
   "source": [
    "logmodel = LogisticRegression()"
   ]
  },
  {
   "cell_type": "code",
   "execution_count": 281,
   "metadata": {},
   "outputs": [
    {
     "data": {
      "text/plain": [
       "LogisticRegression(C=1.0, class_weight=None, dual=False, fit_intercept=True,\n",
       "          intercept_scaling=1, max_iter=100, multi_class='warn',\n",
       "          n_jobs=None, penalty='l2', random_state=None, solver='warn',\n",
       "          tol=0.0001, verbose=0, warm_start=False)"
      ]
     },
     "execution_count": 281,
     "metadata": {},
     "output_type": "execute_result"
    }
   ],
   "source": [
    "logmodel.fit(X_train, y_train)"
   ]
  },
  {
   "cell_type": "code",
   "execution_count": 282,
   "metadata": {},
   "outputs": [],
   "source": [
    "predictions = logmodel.predict(X_test)"
   ]
  },
  {
   "cell_type": "code",
   "execution_count": 283,
   "metadata": {},
   "outputs": [],
   "source": [
    "from sklearn.metrics import classification_report"
   ]
  },
  {
   "cell_type": "code",
   "execution_count": 284,
   "metadata": {},
   "outputs": [
    {
     "data": {
      "text/plain": [
       "u'              precision    recall  f1-score   support\\n\\n           0       0.67      1.00      0.80       279\\n           1       0.50      0.01      0.01       136\\n\\n   micro avg       0.67      0.67      0.67       415\\n   macro avg       0.59      0.50      0.41       415\\nweighted avg       0.62      0.67      0.54       415\\n'"
      ]
     },
     "execution_count": 284,
     "metadata": {},
     "output_type": "execute_result"
    }
   ],
   "source": [
    "classification_report(y_test, predictions)"
   ]
  },
  {
   "cell_type": "code",
   "execution_count": 285,
   "metadata": {},
   "outputs": [],
   "source": [
    "from sklearn.metrics import confusion_matrix"
   ]
  },
  {
   "cell_type": "code",
   "execution_count": 286,
   "metadata": {},
   "outputs": [
    {
     "data": {
      "text/plain": [
       "array([[278,   1],\n",
       "       [135,   1]])"
      ]
     },
     "execution_count": 286,
     "metadata": {},
     "output_type": "execute_result"
    }
   ],
   "source": [
    "confusion_matrix(y_test, predictions)"
   ]
  },
  {
   "cell_type": "markdown",
   "metadata": {},
   "source": [
    "### Calculate Accuracy"
   ]
  },
  {
   "cell_type": "code",
   "execution_count": 287,
   "metadata": {},
   "outputs": [],
   "source": [
    "from sklearn.metrics import accuracy_score"
   ]
  },
  {
   "cell_type": "code",
   "execution_count": 288,
   "metadata": {},
   "outputs": [
    {
     "data": {
      "text/plain": [
       "0.672289156626506"
      ]
     },
     "execution_count": 288,
     "metadata": {},
     "output_type": "execute_result"
    }
   ],
   "source": [
    "accuracy_score(y_test, predictions)"
   ]
  },
  {
   "cell_type": "markdown",
   "metadata": {},
   "source": [
    "## LR Analysis C3"
   ]
  },
  {
   "cell_type": "code",
   "execution_count": 289,
   "metadata": {},
   "outputs": [],
   "source": [
    "data3 = data[data['clust']==3]"
   ]
  },
  {
   "cell_type": "code",
   "execution_count": 290,
   "metadata": {},
   "outputs": [
    {
     "data": {
      "text/html": [
       "<div>\n",
       "<style scoped>\n",
       "    .dataframe tbody tr th:only-of-type {\n",
       "        vertical-align: middle;\n",
       "    }\n",
       "\n",
       "    .dataframe tbody tr th {\n",
       "        vertical-align: top;\n",
       "    }\n",
       "\n",
       "    .dataframe thead th {\n",
       "        text-align: right;\n",
       "    }\n",
       "</style>\n",
       "<table border=\"1\" class=\"dataframe\">\n",
       "  <thead>\n",
       "    <tr style=\"text-align: right;\">\n",
       "      <th></th>\n",
       "      <th>Unnamed: 0</th>\n",
       "      <th>amdission_age</th>\n",
       "      <th>gender</th>\n",
       "      <th>heartrate_mean</th>\n",
       "      <th>meanbp_mean</th>\n",
       "      <th>sysbp_mean</th>\n",
       "      <th>tempc_mean</th>\n",
       "      <th>spo2_mean</th>\n",
       "      <th>resprate_mean</th>\n",
       "      <th>diasbp_mean</th>\n",
       "      <th>...</th>\n",
       "      <th>albumin_mean</th>\n",
       "      <th>bands_mean</th>\n",
       "      <th>bilirubin_mean</th>\n",
       "      <th>hemoglobin_mean</th>\n",
       "      <th>ptt_mean</th>\n",
       "      <th>inr_mean</th>\n",
       "      <th>pt_mean</th>\n",
       "      <th>bun_mean</th>\n",
       "      <th>clust</th>\n",
       "      <th>is_AKI</th>\n",
       "    </tr>\n",
       "  </thead>\n",
       "  <tbody>\n",
       "    <tr>\n",
       "      <th>8</th>\n",
       "      <td>8</td>\n",
       "      <td>0.779984</td>\n",
       "      <td>1.0</td>\n",
       "      <td>0.384665</td>\n",
       "      <td>0.389901</td>\n",
       "      <td>0.389287</td>\n",
       "      <td>0.588473</td>\n",
       "      <td>0.976018</td>\n",
       "      <td>0.452545</td>\n",
       "      <td>0.431751</td>\n",
       "      <td>...</td>\n",
       "      <td>0.419392</td>\n",
       "      <td>0.141012</td>\n",
       "      <td>0.026423</td>\n",
       "      <td>0.426579</td>\n",
       "      <td>0.181170</td>\n",
       "      <td>0.026126</td>\n",
       "      <td>0.053138</td>\n",
       "      <td>0.116858</td>\n",
       "      <td>3</td>\n",
       "      <td>0</td>\n",
       "    </tr>\n",
       "    <tr>\n",
       "      <th>15</th>\n",
       "      <td>15</td>\n",
       "      <td>0.903341</td>\n",
       "      <td>1.0</td>\n",
       "      <td>0.552569</td>\n",
       "      <td>0.457750</td>\n",
       "      <td>0.444098</td>\n",
       "      <td>0.492053</td>\n",
       "      <td>0.975439</td>\n",
       "      <td>0.385737</td>\n",
       "      <td>0.430759</td>\n",
       "      <td>...</td>\n",
       "      <td>0.285714</td>\n",
       "      <td>0.044118</td>\n",
       "      <td>0.003094</td>\n",
       "      <td>0.490842</td>\n",
       "      <td>0.088864</td>\n",
       "      <td>0.015823</td>\n",
       "      <td>0.035537</td>\n",
       "      <td>0.276046</td>\n",
       "      <td>3</td>\n",
       "      <td>1</td>\n",
       "    </tr>\n",
       "    <tr>\n",
       "      <th>18</th>\n",
       "      <td>18</td>\n",
       "      <td>0.538123</td>\n",
       "      <td>1.0</td>\n",
       "      <td>0.419399</td>\n",
       "      <td>0.313185</td>\n",
       "      <td>0.264355</td>\n",
       "      <td>0.492053</td>\n",
       "      <td>0.798982</td>\n",
       "      <td>0.598297</td>\n",
       "      <td>0.293935</td>\n",
       "      <td>...</td>\n",
       "      <td>0.208791</td>\n",
       "      <td>0.485294</td>\n",
       "      <td>0.146658</td>\n",
       "      <td>0.130769</td>\n",
       "      <td>0.214602</td>\n",
       "      <td>0.104430</td>\n",
       "      <td>0.105188</td>\n",
       "      <td>0.141952</td>\n",
       "      <td>3</td>\n",
       "      <td>0</td>\n",
       "    </tr>\n",
       "    <tr>\n",
       "      <th>22</th>\n",
       "      <td>22</td>\n",
       "      <td>0.805191</td>\n",
       "      <td>1.0</td>\n",
       "      <td>0.639619</td>\n",
       "      <td>0.396469</td>\n",
       "      <td>0.383540</td>\n",
       "      <td>0.867795</td>\n",
       "      <td>0.884615</td>\n",
       "      <td>0.341681</td>\n",
       "      <td>0.380903</td>\n",
       "      <td>...</td>\n",
       "      <td>0.252747</td>\n",
       "      <td>0.088235</td>\n",
       "      <td>0.095297</td>\n",
       "      <td>0.317308</td>\n",
       "      <td>0.106195</td>\n",
       "      <td>0.023734</td>\n",
       "      <td>0.054726</td>\n",
       "      <td>0.022814</td>\n",
       "      <td>3</td>\n",
       "      <td>0</td>\n",
       "    </tr>\n",
       "    <tr>\n",
       "      <th>23</th>\n",
       "      <td>23</td>\n",
       "      <td>0.811149</td>\n",
       "      <td>1.0</td>\n",
       "      <td>0.306779</td>\n",
       "      <td>0.331065</td>\n",
       "      <td>0.546236</td>\n",
       "      <td>0.648115</td>\n",
       "      <td>0.952962</td>\n",
       "      <td>0.459277</td>\n",
       "      <td>0.244868</td>\n",
       "      <td>...</td>\n",
       "      <td>0.419392</td>\n",
       "      <td>0.141012</td>\n",
       "      <td>0.026423</td>\n",
       "      <td>0.365385</td>\n",
       "      <td>0.244346</td>\n",
       "      <td>0.006329</td>\n",
       "      <td>0.016347</td>\n",
       "      <td>0.260456</td>\n",
       "      <td>3</td>\n",
       "      <td>1</td>\n",
       "    </tr>\n",
       "  </tbody>\n",
       "</table>\n",
       "<p>5 rows × 30 columns</p>\n",
       "</div>"
      ],
      "text/plain": [
       "    Unnamed: 0  amdission_age  gender  heartrate_mean  meanbp_mean  \\\n",
       "8            8       0.779984     1.0        0.384665     0.389901   \n",
       "15          15       0.903341     1.0        0.552569     0.457750   \n",
       "18          18       0.538123     1.0        0.419399     0.313185   \n",
       "22          22       0.805191     1.0        0.639619     0.396469   \n",
       "23          23       0.811149     1.0        0.306779     0.331065   \n",
       "\n",
       "    sysbp_mean  tempc_mean  spo2_mean  resprate_mean  diasbp_mean   ...    \\\n",
       "8     0.389287    0.588473   0.976018       0.452545     0.431751   ...     \n",
       "15    0.444098    0.492053   0.975439       0.385737     0.430759   ...     \n",
       "18    0.264355    0.492053   0.798982       0.598297     0.293935   ...     \n",
       "22    0.383540    0.867795   0.884615       0.341681     0.380903   ...     \n",
       "23    0.546236    0.648115   0.952962       0.459277     0.244868   ...     \n",
       "\n",
       "    albumin_mean  bands_mean  bilirubin_mean  hemoglobin_mean  ptt_mean  \\\n",
       "8       0.419392    0.141012        0.026423         0.426579  0.181170   \n",
       "15      0.285714    0.044118        0.003094         0.490842  0.088864   \n",
       "18      0.208791    0.485294        0.146658         0.130769  0.214602   \n",
       "22      0.252747    0.088235        0.095297         0.317308  0.106195   \n",
       "23      0.419392    0.141012        0.026423         0.365385  0.244346   \n",
       "\n",
       "    inr_mean   pt_mean  bun_mean  clust  is_AKI  \n",
       "8   0.026126  0.053138  0.116858      3       0  \n",
       "15  0.015823  0.035537  0.276046      3       1  \n",
       "18  0.104430  0.105188  0.141952      3       0  \n",
       "22  0.023734  0.054726  0.022814      3       0  \n",
       "23  0.006329  0.016347  0.260456      3       1  \n",
       "\n",
       "[5 rows x 30 columns]"
      ]
     },
     "execution_count": 290,
     "metadata": {},
     "output_type": "execute_result"
    }
   ],
   "source": [
    "data3.head()"
   ]
  },
  {
   "cell_type": "code",
   "execution_count": 291,
   "metadata": {},
   "outputs": [],
   "source": [
    "t = data3.drop(\"is_AKI\", axis=1)\n",
    "X3 = t.drop('clust', axis = 1)\n",
    "Y3 = data3[\"is_AKI\"]"
   ]
  },
  {
   "cell_type": "code",
   "execution_count": 292,
   "metadata": {},
   "outputs": [
    {
     "data": {
      "text/plain": [
       "(1905, 28)"
      ]
     },
     "execution_count": 292,
     "metadata": {},
     "output_type": "execute_result"
    }
   ],
   "source": [
    "X3.shape"
   ]
  },
  {
   "cell_type": "code",
   "execution_count": 293,
   "metadata": {},
   "outputs": [
    {
     "data": {
      "text/plain": [
       "(1905,)"
      ]
     },
     "execution_count": 293,
     "metadata": {},
     "output_type": "execute_result"
    }
   ],
   "source": [
    "Y3.shape"
   ]
  },
  {
   "cell_type": "code",
   "execution_count": 294,
   "metadata": {},
   "outputs": [],
   "source": [
    "from sklearn.model_selection import train_test_split"
   ]
  },
  {
   "cell_type": "code",
   "execution_count": 295,
   "metadata": {},
   "outputs": [],
   "source": [
    "X_train, X_test, y_train, y_test = train_test_split(X3,Y3, test_size=0.3, random_state=1)"
   ]
  },
  {
   "cell_type": "code",
   "execution_count": 296,
   "metadata": {},
   "outputs": [],
   "source": [
    "from sklearn.linear_model import LogisticRegression"
   ]
  },
  {
   "cell_type": "code",
   "execution_count": 297,
   "metadata": {},
   "outputs": [],
   "source": [
    "logmodel = LogisticRegression()"
   ]
  },
  {
   "cell_type": "code",
   "execution_count": 298,
   "metadata": {},
   "outputs": [
    {
     "data": {
      "text/plain": [
       "LogisticRegression(C=1.0, class_weight=None, dual=False, fit_intercept=True,\n",
       "          intercept_scaling=1, max_iter=100, multi_class='warn',\n",
       "          n_jobs=None, penalty='l2', random_state=None, solver='warn',\n",
       "          tol=0.0001, verbose=0, warm_start=False)"
      ]
     },
     "execution_count": 298,
     "metadata": {},
     "output_type": "execute_result"
    }
   ],
   "source": [
    "logmodel.fit(X_train, y_train)"
   ]
  },
  {
   "cell_type": "code",
   "execution_count": 299,
   "metadata": {},
   "outputs": [],
   "source": [
    "predictions = logmodel.predict(X_test)"
   ]
  },
  {
   "cell_type": "code",
   "execution_count": 300,
   "metadata": {},
   "outputs": [],
   "source": [
    "from sklearn.metrics import classification_report"
   ]
  },
  {
   "cell_type": "code",
   "execution_count": 301,
   "metadata": {},
   "outputs": [
    {
     "data": {
      "text/plain": [
       "u'              precision    recall  f1-score   support\\n\\n           0       0.64      0.84      0.73       312\\n           1       0.70      0.44      0.54       260\\n\\n   micro avg       0.66      0.66      0.66       572\\n   macro avg       0.67      0.64      0.64       572\\nweighted avg       0.67      0.66      0.65       572\\n'"
      ]
     },
     "execution_count": 301,
     "metadata": {},
     "output_type": "execute_result"
    }
   ],
   "source": [
    "classification_report(y_test, predictions)"
   ]
  },
  {
   "cell_type": "code",
   "execution_count": 302,
   "metadata": {},
   "outputs": [],
   "source": [
    "from sklearn.metrics import confusion_matrix"
   ]
  },
  {
   "cell_type": "code",
   "execution_count": 303,
   "metadata": {},
   "outputs": [
    {
     "data": {
      "text/plain": [
       "array([[263,  49],\n",
       "       [145, 115]])"
      ]
     },
     "execution_count": 303,
     "metadata": {},
     "output_type": "execute_result"
    }
   ],
   "source": [
    "confusion_matrix(y_test, predictions)"
   ]
  },
  {
   "cell_type": "markdown",
   "metadata": {},
   "source": [
    "### Calculate Accuracy"
   ]
  },
  {
   "cell_type": "code",
   "execution_count": 306,
   "metadata": {},
   "outputs": [],
   "source": [
    "from sklearn.metrics import accuracy_score"
   ]
  },
  {
   "cell_type": "code",
   "execution_count": 307,
   "metadata": {},
   "outputs": [
    {
     "data": {
      "text/plain": [
       "0.6608391608391608"
      ]
     },
     "execution_count": 307,
     "metadata": {},
     "output_type": "execute_result"
    }
   ],
   "source": [
    "accuracy_score(y_test, predictions)"
   ]
  },
  {
   "cell_type": "code",
   "execution_count": null,
   "metadata": {},
   "outputs": [],
   "source": []
  }
 ],
 "metadata": {
  "kernelspec": {
   "display_name": "Python 2",
   "language": "python",
   "name": "python2"
  },
  "language_info": {
   "codemirror_mode": {
    "name": "ipython",
    "version": 2
   },
   "file_extension": ".py",
   "mimetype": "text/x-python",
   "name": "python",
   "nbconvert_exporter": "python",
   "pygments_lexer": "ipython2",
   "version": "2.7.15"
  }
 },
 "nbformat": 4,
 "nbformat_minor": 2
}
