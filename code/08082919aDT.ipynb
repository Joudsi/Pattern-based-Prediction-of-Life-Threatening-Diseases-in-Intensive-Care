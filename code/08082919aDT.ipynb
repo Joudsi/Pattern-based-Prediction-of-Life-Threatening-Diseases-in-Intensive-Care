{
 "cells": [
  {
   "cell_type": "markdown",
   "metadata": {},
   "source": [
    "# Cluster Based Analysis for Patients with BB"
   ]
  },
  {
   "cell_type": "code",
   "execution_count": 1,
   "metadata": {},
   "outputs": [],
   "source": [
    "import pandas as pd\n",
    "import numpy as np\n",
    "import seaborn as sns\n",
    "import matplotlib.pyplot as plt\n",
    "import math\n",
    "\n",
    "% matplotlib inline"
   ]
  },
  {
   "cell_type": "code",
   "execution_count": 2,
   "metadata": {},
   "outputs": [],
   "source": [
    "import pandas as pd\n",
    "data = pd.read_csv(\"/Users/joudsi/Desktop/subdata_bb_norm_clustered.csv\")"
   ]
  },
  {
   "cell_type": "code",
   "execution_count": 3,
   "metadata": {},
   "outputs": [
    {
     "data": {
      "text/html": [
       "<div>\n",
       "<style scoped>\n",
       "    .dataframe tbody tr th:only-of-type {\n",
       "        vertical-align: middle;\n",
       "    }\n",
       "\n",
       "    .dataframe tbody tr th {\n",
       "        vertical-align: top;\n",
       "    }\n",
       "\n",
       "    .dataframe thead th {\n",
       "        text-align: right;\n",
       "    }\n",
       "</style>\n",
       "<table border=\"1\" class=\"dataframe\">\n",
       "  <thead>\n",
       "    <tr style=\"text-align: right;\">\n",
       "      <th></th>\n",
       "      <th>Unnamed: 0</th>\n",
       "      <th>amdission_age</th>\n",
       "      <th>gender</th>\n",
       "      <th>tempc_mean</th>\n",
       "      <th>spo2_mean</th>\n",
       "      <th>resprate_mean</th>\n",
       "      <th>creatinine_mean</th>\n",
       "      <th>potassium_mean</th>\n",
       "      <th>bicarbonate_mean</th>\n",
       "      <th>hematocrit_mean</th>\n",
       "      <th>glucose_mean</th>\n",
       "      <th>lactate_mean</th>\n",
       "      <th>albumin_mean</th>\n",
       "      <th>hemoglobin_mean</th>\n",
       "      <th>clust</th>\n",
       "      <th>is_AKI</th>\n",
       "    </tr>\n",
       "  </thead>\n",
       "  <tbody>\n",
       "    <tr>\n",
       "      <th>0</th>\n",
       "      <td>0</td>\n",
       "      <td>0.558335</td>\n",
       "      <td>0.0</td>\n",
       "      <td>0.713859</td>\n",
       "      <td>0.903968</td>\n",
       "      <td>0.346149</td>\n",
       "      <td>0.032558</td>\n",
       "      <td>0.246377</td>\n",
       "      <td>0.452381</td>\n",
       "      <td>0.735683</td>\n",
       "      <td>0.081558</td>\n",
       "      <td>0.050583</td>\n",
       "      <td>0.666667</td>\n",
       "      <td>0.820529</td>\n",
       "      <td>2</td>\n",
       "      <td>0</td>\n",
       "    </tr>\n",
       "    <tr>\n",
       "      <th>1</th>\n",
       "      <td>1</td>\n",
       "      <td>0.967606</td>\n",
       "      <td>0.0</td>\n",
       "      <td>0.684853</td>\n",
       "      <td>0.905051</td>\n",
       "      <td>0.322675</td>\n",
       "      <td>0.032558</td>\n",
       "      <td>0.217391</td>\n",
       "      <td>0.500000</td>\n",
       "      <td>0.501573</td>\n",
       "      <td>0.118514</td>\n",
       "      <td>0.049349</td>\n",
       "      <td>0.500000</td>\n",
       "      <td>0.555009</td>\n",
       "      <td>0</td>\n",
       "      <td>0</td>\n",
       "    </tr>\n",
       "    <tr>\n",
       "      <th>2</th>\n",
       "      <td>2</td>\n",
       "      <td>0.908553</td>\n",
       "      <td>0.0</td>\n",
       "      <td>0.580397</td>\n",
       "      <td>0.988272</td>\n",
       "      <td>0.180286</td>\n",
       "      <td>0.213953</td>\n",
       "      <td>0.466667</td>\n",
       "      <td>0.321429</td>\n",
       "      <td>0.402140</td>\n",
       "      <td>0.133297</td>\n",
       "      <td>0.059219</td>\n",
       "      <td>0.559524</td>\n",
       "      <td>0.414874</td>\n",
       "      <td>0</td>\n",
       "      <td>0</td>\n",
       "    </tr>\n",
       "    <tr>\n",
       "      <th>3</th>\n",
       "      <td>3</td>\n",
       "      <td>0.585965</td>\n",
       "      <td>0.0</td>\n",
       "      <td>0.588939</td>\n",
       "      <td>0.950327</td>\n",
       "      <td>0.240689</td>\n",
       "      <td>0.055814</td>\n",
       "      <td>0.355072</td>\n",
       "      <td>0.238095</td>\n",
       "      <td>0.385777</td>\n",
       "      <td>0.131258</td>\n",
       "      <td>0.098699</td>\n",
       "      <td>0.238095</td>\n",
       "      <td>0.385372</td>\n",
       "      <td>3</td>\n",
       "      <td>0</td>\n",
       "    </tr>\n",
       "    <tr>\n",
       "      <th>4</th>\n",
       "      <td>4</td>\n",
       "      <td>0.545732</td>\n",
       "      <td>1.0</td>\n",
       "      <td>0.706385</td>\n",
       "      <td>0.954789</td>\n",
       "      <td>0.324970</td>\n",
       "      <td>0.037209</td>\n",
       "      <td>0.172705</td>\n",
       "      <td>0.464286</td>\n",
       "      <td>0.388981</td>\n",
       "      <td>0.152040</td>\n",
       "      <td>0.068472</td>\n",
       "      <td>0.452381</td>\n",
       "      <td>0.414054</td>\n",
       "      <td>1</td>\n",
       "      <td>0</td>\n",
       "    </tr>\n",
       "  </tbody>\n",
       "</table>\n",
       "</div>"
      ],
      "text/plain": [
       "   Unnamed: 0  amdission_age  gender  tempc_mean  spo2_mean  resprate_mean  \\\n",
       "0           0       0.558335     0.0    0.713859   0.903968       0.346149   \n",
       "1           1       0.967606     0.0    0.684853   0.905051       0.322675   \n",
       "2           2       0.908553     0.0    0.580397   0.988272       0.180286   \n",
       "3           3       0.585965     0.0    0.588939   0.950327       0.240689   \n",
       "4           4       0.545732     1.0    0.706385   0.954789       0.324970   \n",
       "\n",
       "   creatinine_mean  potassium_mean  bicarbonate_mean  hematocrit_mean  \\\n",
       "0         0.032558        0.246377          0.452381         0.735683   \n",
       "1         0.032558        0.217391          0.500000         0.501573   \n",
       "2         0.213953        0.466667          0.321429         0.402140   \n",
       "3         0.055814        0.355072          0.238095         0.385777   \n",
       "4         0.037209        0.172705          0.464286         0.388981   \n",
       "\n",
       "   glucose_mean  lactate_mean  albumin_mean  hemoglobin_mean  clust  is_AKI  \n",
       "0      0.081558      0.050583      0.666667         0.820529      2       0  \n",
       "1      0.118514      0.049349      0.500000         0.555009      0       0  \n",
       "2      0.133297      0.059219      0.559524         0.414874      0       0  \n",
       "3      0.131258      0.098699      0.238095         0.385372      3       0  \n",
       "4      0.152040      0.068472      0.452381         0.414054      1       0  "
      ]
     },
     "execution_count": 3,
     "metadata": {},
     "output_type": "execute_result"
    }
   ],
   "source": [
    "data.head()"
   ]
  },
  {
   "cell_type": "code",
   "execution_count": 4,
   "metadata": {},
   "outputs": [
    {
     "name": "stdout",
     "output_type": "stream",
     "text": [
      "('# of observations: ', '5997')\n"
     ]
    }
   ],
   "source": [
    "print(\"# of observations: \", str(len(data.index)))"
   ]
  },
  {
   "cell_type": "code",
   "execution_count": 5,
   "metadata": {},
   "outputs": [
    {
     "name": "stdout",
     "output_type": "stream",
     "text": [
      "<class 'pandas.core.frame.DataFrame'>\n",
      "RangeIndex: 5997 entries, 0 to 5996\n",
      "Data columns (total 16 columns):\n",
      "Unnamed: 0          5997 non-null int64\n",
      "amdission_age       5997 non-null float64\n",
      "gender              5997 non-null float64\n",
      "tempc_mean          5997 non-null float64\n",
      "spo2_mean           5997 non-null float64\n",
      "resprate_mean       5997 non-null float64\n",
      "creatinine_mean     5997 non-null float64\n",
      "potassium_mean      5997 non-null float64\n",
      "bicarbonate_mean    5997 non-null float64\n",
      "hematocrit_mean     5997 non-null float64\n",
      "glucose_mean        5997 non-null float64\n",
      "lactate_mean        5997 non-null float64\n",
      "albumin_mean        5997 non-null float64\n",
      "hemoglobin_mean     5997 non-null float64\n",
      "clust               5997 non-null int64\n",
      "is_AKI              5997 non-null int64\n",
      "dtypes: float64(13), int64(3)\n",
      "memory usage: 749.7 KB\n"
     ]
    }
   ],
   "source": [
    "data.info()"
   ]
  },
  {
   "cell_type": "code",
   "execution_count": 6,
   "metadata": {
    "scrolled": true
   },
   "outputs": [
    {
     "data": {
      "text/plain": [
       "<matplotlib.axes._subplots.AxesSubplot at 0x1a21606e90>"
      ]
     },
     "execution_count": 6,
     "metadata": {},
     "output_type": "execute_result"
    },
    {
     "data": {
      "image/png": "[encoded data removed]",
      "text/plain": [
       "<Figure size 432x288 with 1 Axes>"
      ]
     },
     "metadata": {
      "needs_background": "light"
     },
     "output_type": "display_data"
    }
   ],
   "source": [
    "sns.countplot(x=\"is_AKI\", hue=\"clust\",data=data)"
   ]
  },
  {
   "cell_type": "markdown",
   "metadata": {},
   "source": [
    "## DT Analysis C0"
   ]
  },
  {
   "cell_type": "code",
   "execution_count": 7,
   "metadata": {},
   "outputs": [
    {
     "data": {
      "text/html": [
       "<div>\n",
       "<style scoped>\n",
       "    .dataframe tbody tr th:only-of-type {\n",
       "        vertical-align: middle;\n",
       "    }\n",
       "\n",
       "    .dataframe tbody tr th {\n",
       "        vertical-align: top;\n",
       "    }\n",
       "\n",
       "    .dataframe thead th {\n",
       "        text-align: right;\n",
       "    }\n",
       "</style>\n",
       "<table border=\"1\" class=\"dataframe\">\n",
       "  <thead>\n",
       "    <tr style=\"text-align: right;\">\n",
       "      <th></th>\n",
       "      <th>Unnamed: 0</th>\n",
       "      <th>amdission_age</th>\n",
       "      <th>gender</th>\n",
       "      <th>tempc_mean</th>\n",
       "      <th>spo2_mean</th>\n",
       "      <th>resprate_mean</th>\n",
       "      <th>creatinine_mean</th>\n",
       "      <th>potassium_mean</th>\n",
       "      <th>bicarbonate_mean</th>\n",
       "      <th>hematocrit_mean</th>\n",
       "      <th>glucose_mean</th>\n",
       "      <th>lactate_mean</th>\n",
       "      <th>albumin_mean</th>\n",
       "      <th>hemoglobin_mean</th>\n",
       "      <th>clust</th>\n",
       "      <th>is_AKI</th>\n",
       "    </tr>\n",
       "  </thead>\n",
       "  <tbody>\n",
       "    <tr>\n",
       "      <th>0</th>\n",
       "      <td>0</td>\n",
       "      <td>0.558335</td>\n",
       "      <td>0.0</td>\n",
       "      <td>0.713859</td>\n",
       "      <td>0.903968</td>\n",
       "      <td>0.346149</td>\n",
       "      <td>0.032558</td>\n",
       "      <td>0.246377</td>\n",
       "      <td>0.452381</td>\n",
       "      <td>0.735683</td>\n",
       "      <td>0.081558</td>\n",
       "      <td>0.050583</td>\n",
       "      <td>0.666667</td>\n",
       "      <td>0.820529</td>\n",
       "      <td>2</td>\n",
       "      <td>0</td>\n",
       "    </tr>\n",
       "    <tr>\n",
       "      <th>1</th>\n",
       "      <td>1</td>\n",
       "      <td>0.967606</td>\n",
       "      <td>0.0</td>\n",
       "      <td>0.684853</td>\n",
       "      <td>0.905051</td>\n",
       "      <td>0.322675</td>\n",
       "      <td>0.032558</td>\n",
       "      <td>0.217391</td>\n",
       "      <td>0.500000</td>\n",
       "      <td>0.501573</td>\n",
       "      <td>0.118514</td>\n",
       "      <td>0.049349</td>\n",
       "      <td>0.500000</td>\n",
       "      <td>0.555009</td>\n",
       "      <td>0</td>\n",
       "      <td>0</td>\n",
       "    </tr>\n",
       "    <tr>\n",
       "      <th>2</th>\n",
       "      <td>2</td>\n",
       "      <td>0.908553</td>\n",
       "      <td>0.0</td>\n",
       "      <td>0.580397</td>\n",
       "      <td>0.988272</td>\n",
       "      <td>0.180286</td>\n",
       "      <td>0.213953</td>\n",
       "      <td>0.466667</td>\n",
       "      <td>0.321429</td>\n",
       "      <td>0.402140</td>\n",
       "      <td>0.133297</td>\n",
       "      <td>0.059219</td>\n",
       "      <td>0.559524</td>\n",
       "      <td>0.414874</td>\n",
       "      <td>0</td>\n",
       "      <td>0</td>\n",
       "    </tr>\n",
       "    <tr>\n",
       "      <th>3</th>\n",
       "      <td>3</td>\n",
       "      <td>0.585965</td>\n",
       "      <td>0.0</td>\n",
       "      <td>0.588939</td>\n",
       "      <td>0.950327</td>\n",
       "      <td>0.240689</td>\n",
       "      <td>0.055814</td>\n",
       "      <td>0.355072</td>\n",
       "      <td>0.238095</td>\n",
       "      <td>0.385777</td>\n",
       "      <td>0.131258</td>\n",
       "      <td>0.098699</td>\n",
       "      <td>0.238095</td>\n",
       "      <td>0.385372</td>\n",
       "      <td>3</td>\n",
       "      <td>0</td>\n",
       "    </tr>\n",
       "    <tr>\n",
       "      <th>4</th>\n",
       "      <td>4</td>\n",
       "      <td>0.545732</td>\n",
       "      <td>1.0</td>\n",
       "      <td>0.706385</td>\n",
       "      <td>0.954789</td>\n",
       "      <td>0.324970</td>\n",
       "      <td>0.037209</td>\n",
       "      <td>0.172705</td>\n",
       "      <td>0.464286</td>\n",
       "      <td>0.388981</td>\n",
       "      <td>0.152040</td>\n",
       "      <td>0.068472</td>\n",
       "      <td>0.452381</td>\n",
       "      <td>0.414054</td>\n",
       "      <td>1</td>\n",
       "      <td>0</td>\n",
       "    </tr>\n",
       "  </tbody>\n",
       "</table>\n",
       "</div>"
      ],
      "text/plain": [
       "   Unnamed: 0  amdission_age  gender  tempc_mean  spo2_mean  resprate_mean  \\\n",
       "0           0       0.558335     0.0    0.713859   0.903968       0.346149   \n",
       "1           1       0.967606     0.0    0.684853   0.905051       0.322675   \n",
       "2           2       0.908553     0.0    0.580397   0.988272       0.180286   \n",
       "3           3       0.585965     0.0    0.588939   0.950327       0.240689   \n",
       "4           4       0.545732     1.0    0.706385   0.954789       0.324970   \n",
       "\n",
       "   creatinine_mean  potassium_mean  bicarbonate_mean  hematocrit_mean  \\\n",
       "0         0.032558        0.246377          0.452381         0.735683   \n",
       "1         0.032558        0.217391          0.500000         0.501573   \n",
       "2         0.213953        0.466667          0.321429         0.402140   \n",
       "3         0.055814        0.355072          0.238095         0.385777   \n",
       "4         0.037209        0.172705          0.464286         0.388981   \n",
       "\n",
       "   glucose_mean  lactate_mean  albumin_mean  hemoglobin_mean  clust  is_AKI  \n",
       "0      0.081558      0.050583      0.666667         0.820529      2       0  \n",
       "1      0.118514      0.049349      0.500000         0.555009      0       0  \n",
       "2      0.133297      0.059219      0.559524         0.414874      0       0  \n",
       "3      0.131258      0.098699      0.238095         0.385372      3       0  \n",
       "4      0.152040      0.068472      0.452381         0.414054      1       0  "
      ]
     },
     "execution_count": 7,
     "metadata": {},
     "output_type": "execute_result"
    }
   ],
   "source": [
    "data.head()"
   ]
  },
  {
   "cell_type": "code",
   "execution_count": 8,
   "metadata": {},
   "outputs": [],
   "source": [
    "data0 = data[data['clust']==0]"
   ]
  },
  {
   "cell_type": "code",
   "execution_count": 9,
   "metadata": {},
   "outputs": [],
   "source": [
    "t = data0.drop(\"is_AKI\", axis=1)\n",
    "X0 = t.drop('clust', axis = 1)\n",
    "Y0 = data0[\"is_AKI\"]"
   ]
  },
  {
   "cell_type": "code",
   "execution_count": 10,
   "metadata": {},
   "outputs": [],
   "source": [
    "from sklearn.model_selection import train_test_split"
   ]
  },
  {
   "cell_type": "code",
   "execution_count": 11,
   "metadata": {},
   "outputs": [],
   "source": [
    "X_train, X_test, y_train, y_test = train_test_split(X0,Y0, test_size=0.20)"
   ]
  },
  {
   "cell_type": "code",
   "execution_count": 12,
   "metadata": {},
   "outputs": [],
   "source": [
    "from sklearn.tree import DecisionTreeClassifier # Import Decision Tree Classifier\n",
    "\n",
    "clf = DecisionTreeClassifier()\n",
    "\n",
    "# Train Decision Tree Classifer\n",
    "clf = clf.fit(X_train,y_train)\n",
    "\n",
    "#Predict the response for test dataset\n",
    "y_pred = clf.predict(X_test)"
   ]
  },
  {
   "cell_type": "code",
   "execution_count": 13,
   "metadata": {},
   "outputs": [
    {
     "name": "stdout",
     "output_type": "stream",
     "text": [
      "('Accuracy:', 0.5217391304347826)\n"
     ]
    }
   ],
   "source": [
    "from sklearn import metrics\n",
    "from sklearn.metrics import accuracy_score\n",
    "print(\"Accuracy:\",metrics.accuracy_score(y_test, y_pred))"
   ]
  },
  {
   "cell_type": "markdown",
   "metadata": {},
   "source": [
    "## DT Analysis C1"
   ]
  },
  {
   "cell_type": "code",
   "execution_count": 14,
   "metadata": {},
   "outputs": [],
   "source": [
    "data1 = data[data['clust']==1]"
   ]
  },
  {
   "cell_type": "code",
   "execution_count": 15,
   "metadata": {},
   "outputs": [
    {
     "data": {
      "text/html": [
       "<div>\n",
       "<style scoped>\n",
       "    .dataframe tbody tr th:only-of-type {\n",
       "        vertical-align: middle;\n",
       "    }\n",
       "\n",
       "    .dataframe tbody tr th {\n",
       "        vertical-align: top;\n",
       "    }\n",
       "\n",
       "    .dataframe thead th {\n",
       "        text-align: right;\n",
       "    }\n",
       "</style>\n",
       "<table border=\"1\" class=\"dataframe\">\n",
       "  <thead>\n",
       "    <tr style=\"text-align: right;\">\n",
       "      <th></th>\n",
       "      <th>Unnamed: 0</th>\n",
       "      <th>amdission_age</th>\n",
       "      <th>gender</th>\n",
       "      <th>tempc_mean</th>\n",
       "      <th>spo2_mean</th>\n",
       "      <th>resprate_mean</th>\n",
       "      <th>creatinine_mean</th>\n",
       "      <th>potassium_mean</th>\n",
       "      <th>bicarbonate_mean</th>\n",
       "      <th>hematocrit_mean</th>\n",
       "      <th>glucose_mean</th>\n",
       "      <th>lactate_mean</th>\n",
       "      <th>albumin_mean</th>\n",
       "      <th>hemoglobin_mean</th>\n",
       "      <th>clust</th>\n",
       "      <th>is_AKI</th>\n",
       "    </tr>\n",
       "  </thead>\n",
       "  <tbody>\n",
       "    <tr>\n",
       "      <th>4</th>\n",
       "      <td>4</td>\n",
       "      <td>0.545732</td>\n",
       "      <td>1.0</td>\n",
       "      <td>0.706385</td>\n",
       "      <td>0.954789</td>\n",
       "      <td>0.324970</td>\n",
       "      <td>0.037209</td>\n",
       "      <td>0.172705</td>\n",
       "      <td>0.464286</td>\n",
       "      <td>0.388981</td>\n",
       "      <td>0.152040</td>\n",
       "      <td>0.068472</td>\n",
       "      <td>0.452381</td>\n",
       "      <td>0.414054</td>\n",
       "      <td>1</td>\n",
       "      <td>0</td>\n",
       "    </tr>\n",
       "    <tr>\n",
       "      <th>5</th>\n",
       "      <td>5</td>\n",
       "      <td>0.320255</td>\n",
       "      <td>1.0</td>\n",
       "      <td>0.689836</td>\n",
       "      <td>0.935043</td>\n",
       "      <td>0.473174</td>\n",
       "      <td>0.025581</td>\n",
       "      <td>0.207729</td>\n",
       "      <td>0.416667</td>\n",
       "      <td>0.266457</td>\n",
       "      <td>0.088355</td>\n",
       "      <td>0.019740</td>\n",
       "      <td>0.434524</td>\n",
       "      <td>0.269822</td>\n",
       "      <td>1</td>\n",
       "      <td>0</td>\n",
       "    </tr>\n",
       "    <tr>\n",
       "      <th>8</th>\n",
       "      <td>8</td>\n",
       "      <td>0.518038</td>\n",
       "      <td>1.0</td>\n",
       "      <td>0.769379</td>\n",
       "      <td>0.985185</td>\n",
       "      <td>0.253968</td>\n",
       "      <td>0.044186</td>\n",
       "      <td>0.217391</td>\n",
       "      <td>0.392857</td>\n",
       "      <td>0.672750</td>\n",
       "      <td>0.146975</td>\n",
       "      <td>0.083894</td>\n",
       "      <td>0.630952</td>\n",
       "      <td>0.675476</td>\n",
       "      <td>1</td>\n",
       "      <td>1</td>\n",
       "    </tr>\n",
       "    <tr>\n",
       "      <th>10</th>\n",
       "      <td>10</td>\n",
       "      <td>0.611354</td>\n",
       "      <td>1.0</td>\n",
       "      <td>0.673669</td>\n",
       "      <td>0.956322</td>\n",
       "      <td>0.356203</td>\n",
       "      <td>0.020155</td>\n",
       "      <td>0.275362</td>\n",
       "      <td>0.444444</td>\n",
       "      <td>0.426283</td>\n",
       "      <td>0.118408</td>\n",
       "      <td>0.059219</td>\n",
       "      <td>0.398810</td>\n",
       "      <td>0.433723</td>\n",
       "      <td>1</td>\n",
       "      <td>0</td>\n",
       "    </tr>\n",
       "    <tr>\n",
       "      <th>15</th>\n",
       "      <td>15</td>\n",
       "      <td>0.640581</td>\n",
       "      <td>1.0</td>\n",
       "      <td>0.560912</td>\n",
       "      <td>0.960684</td>\n",
       "      <td>0.353819</td>\n",
       "      <td>0.030233</td>\n",
       "      <td>0.166667</td>\n",
       "      <td>0.511905</td>\n",
       "      <td>0.376547</td>\n",
       "      <td>0.145913</td>\n",
       "      <td>0.024675</td>\n",
       "      <td>0.333333</td>\n",
       "      <td>0.417333</td>\n",
       "      <td>1</td>\n",
       "      <td>0</td>\n",
       "    </tr>\n",
       "  </tbody>\n",
       "</table>\n",
       "</div>"
      ],
      "text/plain": [
       "    Unnamed: 0  amdission_age  gender  tempc_mean  spo2_mean  resprate_mean  \\\n",
       "4            4       0.545732     1.0    0.706385   0.954789       0.324970   \n",
       "5            5       0.320255     1.0    0.689836   0.935043       0.473174   \n",
       "8            8       0.518038     1.0    0.769379   0.985185       0.253968   \n",
       "10          10       0.611354     1.0    0.673669   0.956322       0.356203   \n",
       "15          15       0.640581     1.0    0.560912   0.960684       0.353819   \n",
       "\n",
       "    creatinine_mean  potassium_mean  bicarbonate_mean  hematocrit_mean  \\\n",
       "4          0.037209        0.172705          0.464286         0.388981   \n",
       "5          0.025581        0.207729          0.416667         0.266457   \n",
       "8          0.044186        0.217391          0.392857         0.672750   \n",
       "10         0.020155        0.275362          0.444444         0.426283   \n",
       "15         0.030233        0.166667          0.511905         0.376547   \n",
       "\n",
       "    glucose_mean  lactate_mean  albumin_mean  hemoglobin_mean  clust  is_AKI  \n",
       "4       0.152040      0.068472      0.452381         0.414054      1       0  \n",
       "5       0.088355      0.019740      0.434524         0.269822      1       0  \n",
       "8       0.146975      0.083894      0.630952         0.675476      1       1  \n",
       "10      0.118408      0.059219      0.398810         0.433723      1       0  \n",
       "15      0.145913      0.024675      0.333333         0.417333      1       0  "
      ]
     },
     "execution_count": 15,
     "metadata": {},
     "output_type": "execute_result"
    }
   ],
   "source": [
    "data1.head()"
   ]
  },
  {
   "cell_type": "code",
   "execution_count": 16,
   "metadata": {},
   "outputs": [],
   "source": [
    "t = data1.drop(\"is_AKI\", axis=1)\n",
    "X1 = t.drop('clust', axis = 1)\n",
    "Y1 = data1[\"is_AKI\"]"
   ]
  },
  {
   "cell_type": "code",
   "execution_count": 17,
   "metadata": {},
   "outputs": [
    {
     "data": {
      "text/plain": [
       "(980, 14)"
      ]
     },
     "execution_count": 17,
     "metadata": {},
     "output_type": "execute_result"
    }
   ],
   "source": [
    "X1.shape"
   ]
  },
  {
   "cell_type": "code",
   "execution_count": 18,
   "metadata": {},
   "outputs": [
    {
     "data": {
      "text/plain": [
       "(980,)"
      ]
     },
     "execution_count": 18,
     "metadata": {},
     "output_type": "execute_result"
    }
   ],
   "source": [
    "Y1.shape"
   ]
  },
  {
   "cell_type": "code",
   "execution_count": 19,
   "metadata": {},
   "outputs": [],
   "source": [
    "from sklearn.model_selection import train_test_split"
   ]
  },
  {
   "cell_type": "code",
   "execution_count": 20,
   "metadata": {},
   "outputs": [],
   "source": [
    "X_train, X_test, y_train, y_test = train_test_split(X1,Y1, test_size=0.3, random_state=1)"
   ]
  },
  {
   "cell_type": "code",
   "execution_count": 21,
   "metadata": {},
   "outputs": [
    {
     "name": "stdout",
     "output_type": "stream",
     "text": [
      "('Accuracy:', 0.6394557823129252)\n"
     ]
    }
   ],
   "source": [
    "from sklearn.tree import DecisionTreeClassifier # Import Decision Tree Classifier\n",
    "\n",
    "clf = DecisionTreeClassifier()\n",
    "\n",
    "# Train Decision Tree Classifer\n",
    "clf = clf.fit(X_train,y_train)\n",
    "\n",
    "#Predict the response for test dataset\n",
    "y_pred = clf.predict(X_test)\n",
    "\n",
    "from sklearn import metrics\n",
    "from sklearn.metrics import accuracy_score\n",
    "print(\"Accuracy:\",metrics.accuracy_score(y_test, y_pred))"
   ]
  },
  {
   "cell_type": "markdown",
   "metadata": {},
   "source": [
    "## DT Analysis C2"
   ]
  },
  {
   "cell_type": "code",
   "execution_count": 27,
   "metadata": {},
   "outputs": [],
   "source": [
    "data2 = data[data['clust']==2]"
   ]
  },
  {
   "cell_type": "code",
   "execution_count": 28,
   "metadata": {},
   "outputs": [
    {
     "data": {
      "text/html": [
       "<div>\n",
       "<style scoped>\n",
       "    .dataframe tbody tr th:only-of-type {\n",
       "        vertical-align: middle;\n",
       "    }\n",
       "\n",
       "    .dataframe tbody tr th {\n",
       "        vertical-align: top;\n",
       "    }\n",
       "\n",
       "    .dataframe thead th {\n",
       "        text-align: right;\n",
       "    }\n",
       "</style>\n",
       "<table border=\"1\" class=\"dataframe\">\n",
       "  <thead>\n",
       "    <tr style=\"text-align: right;\">\n",
       "      <th></th>\n",
       "      <th>Unnamed: 0</th>\n",
       "      <th>amdission_age</th>\n",
       "      <th>gender</th>\n",
       "      <th>tempc_mean</th>\n",
       "      <th>spo2_mean</th>\n",
       "      <th>resprate_mean</th>\n",
       "      <th>creatinine_mean</th>\n",
       "      <th>potassium_mean</th>\n",
       "      <th>bicarbonate_mean</th>\n",
       "      <th>hematocrit_mean</th>\n",
       "      <th>glucose_mean</th>\n",
       "      <th>lactate_mean</th>\n",
       "      <th>albumin_mean</th>\n",
       "      <th>hemoglobin_mean</th>\n",
       "      <th>clust</th>\n",
       "      <th>is_AKI</th>\n",
       "    </tr>\n",
       "  </thead>\n",
       "  <tbody>\n",
       "    <tr>\n",
       "      <th>0</th>\n",
       "      <td>0</td>\n",
       "      <td>0.558335</td>\n",
       "      <td>0.0</td>\n",
       "      <td>0.713859</td>\n",
       "      <td>0.903968</td>\n",
       "      <td>0.346149</td>\n",
       "      <td>0.032558</td>\n",
       "      <td>0.246377</td>\n",
       "      <td>0.452381</td>\n",
       "      <td>0.735683</td>\n",
       "      <td>0.081558</td>\n",
       "      <td>0.050583</td>\n",
       "      <td>0.666667</td>\n",
       "      <td>0.820529</td>\n",
       "      <td>2</td>\n",
       "      <td>0</td>\n",
       "    </tr>\n",
       "    <tr>\n",
       "      <th>11</th>\n",
       "      <td>11</td>\n",
       "      <td>0.393875</td>\n",
       "      <td>0.0</td>\n",
       "      <td>0.660688</td>\n",
       "      <td>0.938384</td>\n",
       "      <td>0.205227</td>\n",
       "      <td>0.041860</td>\n",
       "      <td>0.299517</td>\n",
       "      <td>0.476190</td>\n",
       "      <td>0.711349</td>\n",
       "      <td>0.116391</td>\n",
       "      <td>0.175191</td>\n",
       "      <td>0.654762</td>\n",
       "      <td>0.727105</td>\n",
       "      <td>2</td>\n",
       "      <td>0</td>\n",
       "    </tr>\n",
       "    <tr>\n",
       "      <th>18</th>\n",
       "      <td>18</td>\n",
       "      <td>0.551827</td>\n",
       "      <td>0.0</td>\n",
       "      <td>0.710656</td>\n",
       "      <td>0.955637</td>\n",
       "      <td>0.322799</td>\n",
       "      <td>0.051163</td>\n",
       "      <td>0.239130</td>\n",
       "      <td>0.511905</td>\n",
       "      <td>0.535557</td>\n",
       "      <td>0.123612</td>\n",
       "      <td>0.034545</td>\n",
       "      <td>0.535714</td>\n",
       "      <td>0.577136</td>\n",
       "      <td>2</td>\n",
       "      <td>0</td>\n",
       "    </tr>\n",
       "    <tr>\n",
       "      <th>20</th>\n",
       "      <td>20</td>\n",
       "      <td>0.432388</td>\n",
       "      <td>0.0</td>\n",
       "      <td>0.662182</td>\n",
       "      <td>0.908333</td>\n",
       "      <td>0.221600</td>\n",
       "      <td>0.079070</td>\n",
       "      <td>0.318841</td>\n",
       "      <td>0.547619</td>\n",
       "      <td>0.565765</td>\n",
       "      <td>0.115541</td>\n",
       "      <td>0.065388</td>\n",
       "      <td>0.452381</td>\n",
       "      <td>0.621389</td>\n",
       "      <td>2</td>\n",
       "      <td>0</td>\n",
       "    </tr>\n",
       "    <tr>\n",
       "      <th>27</th>\n",
       "      <td>27</td>\n",
       "      <td>0.818749</td>\n",
       "      <td>0.0</td>\n",
       "      <td>0.648729</td>\n",
       "      <td>0.974411</td>\n",
       "      <td>0.292583</td>\n",
       "      <td>0.030233</td>\n",
       "      <td>0.463768</td>\n",
       "      <td>0.369048</td>\n",
       "      <td>0.681141</td>\n",
       "      <td>0.208356</td>\n",
       "      <td>0.097054</td>\n",
       "      <td>0.642857</td>\n",
       "      <td>0.700061</td>\n",
       "      <td>2</td>\n",
       "      <td>0</td>\n",
       "    </tr>\n",
       "  </tbody>\n",
       "</table>\n",
       "</div>"
      ],
      "text/plain": [
       "    Unnamed: 0  amdission_age  gender  tempc_mean  spo2_mean  resprate_mean  \\\n",
       "0            0       0.558335     0.0    0.713859   0.903968       0.346149   \n",
       "11          11       0.393875     0.0    0.660688   0.938384       0.205227   \n",
       "18          18       0.551827     0.0    0.710656   0.955637       0.322799   \n",
       "20          20       0.432388     0.0    0.662182   0.908333       0.221600   \n",
       "27          27       0.818749     0.0    0.648729   0.974411       0.292583   \n",
       "\n",
       "    creatinine_mean  potassium_mean  bicarbonate_mean  hematocrit_mean  \\\n",
       "0          0.032558        0.246377          0.452381         0.735683   \n",
       "11         0.041860        0.299517          0.476190         0.711349   \n",
       "18         0.051163        0.239130          0.511905         0.535557   \n",
       "20         0.079070        0.318841          0.547619         0.565765   \n",
       "27         0.030233        0.463768          0.369048         0.681141   \n",
       "\n",
       "    glucose_mean  lactate_mean  albumin_mean  hemoglobin_mean  clust  is_AKI  \n",
       "0       0.081558      0.050583      0.666667         0.820529      2       0  \n",
       "11      0.116391      0.175191      0.654762         0.727105      2       0  \n",
       "18      0.123612      0.034545      0.535714         0.577136      2       0  \n",
       "20      0.115541      0.065388      0.452381         0.621389      2       0  \n",
       "27      0.208356      0.097054      0.642857         0.700061      2       0  "
      ]
     },
     "execution_count": 28,
     "metadata": {},
     "output_type": "execute_result"
    }
   ],
   "source": [
    "data2.head()"
   ]
  },
  {
   "cell_type": "code",
   "execution_count": 29,
   "metadata": {},
   "outputs": [],
   "source": [
    "t = data2.drop(\"is_AKI\", axis=1)\n",
    "X2 = t.drop('clust', axis = 1)\n",
    "Y2 = data2[\"is_AKI\"]"
   ]
  },
  {
   "cell_type": "code",
   "execution_count": 30,
   "metadata": {},
   "outputs": [
    {
     "data": {
      "text/plain": [
       "(913, 14)"
      ]
     },
     "execution_count": 30,
     "metadata": {},
     "output_type": "execute_result"
    }
   ],
   "source": [
    "X2.shape"
   ]
  },
  {
   "cell_type": "code",
   "execution_count": 31,
   "metadata": {},
   "outputs": [
    {
     "data": {
      "text/plain": [
       "(913,)"
      ]
     },
     "execution_count": 31,
     "metadata": {},
     "output_type": "execute_result"
    }
   ],
   "source": [
    "Y2.shape"
   ]
  },
  {
   "cell_type": "code",
   "execution_count": 32,
   "metadata": {},
   "outputs": [],
   "source": [
    "from sklearn.model_selection import train_test_split"
   ]
  },
  {
   "cell_type": "code",
   "execution_count": 33,
   "metadata": {},
   "outputs": [],
   "source": [
    "X_train, X_test, y_train, y_test = train_test_split(X2,Y2, test_size=0.3, random_state=1)"
   ]
  },
  {
   "cell_type": "code",
   "execution_count": 34,
   "metadata": {},
   "outputs": [
    {
     "name": "stdout",
     "output_type": "stream",
     "text": [
      "('Accuracy:', 0.6277372262773723)\n"
     ]
    }
   ],
   "source": [
    "from sklearn.tree import DecisionTreeClassifier # Import Decision Tree Classifier\n",
    "\n",
    "clf = DecisionTreeClassifier()\n",
    "\n",
    "# Train Decision Tree Classifer\n",
    "clf = clf.fit(X_train,y_train)\n",
    "\n",
    "#Predict the response for test dataset\n",
    "y_pred = clf.predict(X_test)\n",
    "\n",
    "from sklearn import metrics\n",
    "from sklearn.metrics import accuracy_score\n",
    "print(\"Accuracy:\",metrics.accuracy_score(y_test, y_pred))"
   ]
  },
  {
   "cell_type": "markdown",
   "metadata": {},
   "source": [
    "## DT Analysis C3"
   ]
  },
  {
   "cell_type": "code",
   "execution_count": 35,
   "metadata": {},
   "outputs": [],
   "source": [
    "data3 = data[data['clust']==3]"
   ]
  },
  {
   "cell_type": "code",
   "execution_count": 36,
   "metadata": {},
   "outputs": [
    {
     "data": {
      "text/html": [
       "<div>\n",
       "<style scoped>\n",
       "    .dataframe tbody tr th:only-of-type {\n",
       "        vertical-align: middle;\n",
       "    }\n",
       "\n",
       "    .dataframe tbody tr th {\n",
       "        vertical-align: top;\n",
       "    }\n",
       "\n",
       "    .dataframe thead th {\n",
       "        text-align: right;\n",
       "    }\n",
       "</style>\n",
       "<table border=\"1\" class=\"dataframe\">\n",
       "  <thead>\n",
       "    <tr style=\"text-align: right;\">\n",
       "      <th></th>\n",
       "      <th>Unnamed: 0</th>\n",
       "      <th>amdission_age</th>\n",
       "      <th>gender</th>\n",
       "      <th>tempc_mean</th>\n",
       "      <th>spo2_mean</th>\n",
       "      <th>resprate_mean</th>\n",
       "      <th>creatinine_mean</th>\n",
       "      <th>potassium_mean</th>\n",
       "      <th>bicarbonate_mean</th>\n",
       "      <th>hematocrit_mean</th>\n",
       "      <th>glucose_mean</th>\n",
       "      <th>lactate_mean</th>\n",
       "      <th>albumin_mean</th>\n",
       "      <th>hemoglobin_mean</th>\n",
       "      <th>clust</th>\n",
       "      <th>is_AKI</th>\n",
       "    </tr>\n",
       "  </thead>\n",
       "  <tbody>\n",
       "    <tr>\n",
       "      <th>3</th>\n",
       "      <td>3</td>\n",
       "      <td>0.585965</td>\n",
       "      <td>0.0</td>\n",
       "      <td>0.588939</td>\n",
       "      <td>0.950327</td>\n",
       "      <td>0.240689</td>\n",
       "      <td>0.055814</td>\n",
       "      <td>0.355072</td>\n",
       "      <td>0.238095</td>\n",
       "      <td>0.385777</td>\n",
       "      <td>0.131258</td>\n",
       "      <td>0.098699</td>\n",
       "      <td>0.238095</td>\n",
       "      <td>0.385372</td>\n",
       "      <td>3</td>\n",
       "      <td>0</td>\n",
       "    </tr>\n",
       "    <tr>\n",
       "      <th>17</th>\n",
       "      <td>17</td>\n",
       "      <td>0.513992</td>\n",
       "      <td>0.0</td>\n",
       "      <td>0.732009</td>\n",
       "      <td>0.917172</td>\n",
       "      <td>0.355990</td>\n",
       "      <td>0.023256</td>\n",
       "      <td>0.202899</td>\n",
       "      <td>0.523810</td>\n",
       "      <td>0.230963</td>\n",
       "      <td>0.090479</td>\n",
       "      <td>0.076492</td>\n",
       "      <td>0.357143</td>\n",
       "      <td>0.252612</td>\n",
       "      <td>3</td>\n",
       "      <td>0</td>\n",
       "    </tr>\n",
       "    <tr>\n",
       "      <th>21</th>\n",
       "      <td>21</td>\n",
       "      <td>0.592988</td>\n",
       "      <td>0.0</td>\n",
       "      <td>0.747758</td>\n",
       "      <td>0.960943</td>\n",
       "      <td>0.388422</td>\n",
       "      <td>0.037209</td>\n",
       "      <td>0.282609</td>\n",
       "      <td>0.476190</td>\n",
       "      <td>0.373191</td>\n",
       "      <td>0.163117</td>\n",
       "      <td>0.030843</td>\n",
       "      <td>0.464286</td>\n",
       "      <td>0.400123</td>\n",
       "      <td>3</td>\n",
       "      <td>1</td>\n",
       "    </tr>\n",
       "    <tr>\n",
       "      <th>26</th>\n",
       "      <td>26</td>\n",
       "      <td>0.472171</td>\n",
       "      <td>0.0</td>\n",
       "      <td>0.776852</td>\n",
       "      <td>0.995960</td>\n",
       "      <td>0.620811</td>\n",
       "      <td>0.197674</td>\n",
       "      <td>0.326087</td>\n",
       "      <td>0.392857</td>\n",
       "      <td>0.402559</td>\n",
       "      <td>0.168214</td>\n",
       "      <td>0.113504</td>\n",
       "      <td>0.345238</td>\n",
       "      <td>0.352182</td>\n",
       "      <td>3</td>\n",
       "      <td>1</td>\n",
       "    </tr>\n",
       "    <tr>\n",
       "      <th>32</th>\n",
       "      <td>32</td>\n",
       "      <td>0.549426</td>\n",
       "      <td>0.0</td>\n",
       "      <td>0.581465</td>\n",
       "      <td>0.905556</td>\n",
       "      <td>0.222222</td>\n",
       "      <td>0.041860</td>\n",
       "      <td>0.140097</td>\n",
       "      <td>0.690476</td>\n",
       "      <td>0.412209</td>\n",
       "      <td>0.212816</td>\n",
       "      <td>0.059219</td>\n",
       "      <td>0.619048</td>\n",
       "      <td>0.414874</td>\n",
       "      <td>3</td>\n",
       "      <td>1</td>\n",
       "    </tr>\n",
       "  </tbody>\n",
       "</table>\n",
       "</div>"
      ],
      "text/plain": [
       "    Unnamed: 0  amdission_age  gender  tempc_mean  spo2_mean  resprate_mean  \\\n",
       "3            3       0.585965     0.0    0.588939   0.950327       0.240689   \n",
       "17          17       0.513992     0.0    0.732009   0.917172       0.355990   \n",
       "21          21       0.592988     0.0    0.747758   0.960943       0.388422   \n",
       "26          26       0.472171     0.0    0.776852   0.995960       0.620811   \n",
       "32          32       0.549426     0.0    0.581465   0.905556       0.222222   \n",
       "\n",
       "    creatinine_mean  potassium_mean  bicarbonate_mean  hematocrit_mean  \\\n",
       "3          0.055814        0.355072          0.238095         0.385777   \n",
       "17         0.023256        0.202899          0.523810         0.230963   \n",
       "21         0.037209        0.282609          0.476190         0.373191   \n",
       "26         0.197674        0.326087          0.392857         0.402559   \n",
       "32         0.041860        0.140097          0.690476         0.412209   \n",
       "\n",
       "    glucose_mean  lactate_mean  albumin_mean  hemoglobin_mean  clust  is_AKI  \n",
       "3       0.131258      0.098699      0.238095         0.385372      3       0  \n",
       "17      0.090479      0.076492      0.357143         0.252612      3       0  \n",
       "21      0.163117      0.030843      0.464286         0.400123      3       1  \n",
       "26      0.168214      0.113504      0.345238         0.352182      3       1  \n",
       "32      0.212816      0.059219      0.619048         0.414874      3       1  "
      ]
     },
     "execution_count": 36,
     "metadata": {},
     "output_type": "execute_result"
    }
   ],
   "source": [
    "data3.head()"
   ]
  },
  {
   "cell_type": "code",
   "execution_count": 37,
   "metadata": {},
   "outputs": [],
   "source": [
    "t = data3.drop(\"is_AKI\", axis=1)\n",
    "X3 = t.drop('clust', axis = 1)\n",
    "Y3 = data3[\"is_AKI\"]"
   ]
  },
  {
   "cell_type": "code",
   "execution_count": 38,
   "metadata": {},
   "outputs": [
    {
     "data": {
      "text/plain": [
       "(1010, 14)"
      ]
     },
     "execution_count": 38,
     "metadata": {},
     "output_type": "execute_result"
    }
   ],
   "source": [
    "X3.shape"
   ]
  },
  {
   "cell_type": "code",
   "execution_count": 39,
   "metadata": {},
   "outputs": [
    {
     "data": {
      "text/plain": [
       "(1010,)"
      ]
     },
     "execution_count": 39,
     "metadata": {},
     "output_type": "execute_result"
    }
   ],
   "source": [
    "Y3.shape"
   ]
  },
  {
   "cell_type": "code",
   "execution_count": 40,
   "metadata": {},
   "outputs": [],
   "source": [
    "from sklearn.model_selection import train_test_split"
   ]
  },
  {
   "cell_type": "code",
   "execution_count": 41,
   "metadata": {},
   "outputs": [],
   "source": [
    "X_train, X_test, y_train, y_test = train_test_split(X3,Y3, test_size=0.3, random_state=1)"
   ]
  },
  {
   "cell_type": "code",
   "execution_count": 42,
   "metadata": {},
   "outputs": [
    {
     "name": "stdout",
     "output_type": "stream",
     "text": [
      "('Accuracy:', 0.5907590759075908)\n"
     ]
    }
   ],
   "source": [
    "from sklearn.tree import DecisionTreeClassifier # Import Decision Tree Classifier\n",
    "\n",
    "clf = DecisionTreeClassifier()\n",
    "\n",
    "# Train Decision Tree Classifer\n",
    "clf = clf.fit(X_train,y_train)\n",
    "\n",
    "#Predict the response for test dataset\n",
    "y_pred = clf.predict(X_test)\n",
    "\n",
    "from sklearn import metrics\n",
    "from sklearn.metrics import accuracy_score\n",
    "print(\"Accuracy:\",metrics.accuracy_score(y_test, y_pred))"
   ]
  },
  {
   "cell_type": "markdown",
   "metadata": {},
   "source": [
    "## LR Analysis C4"
   ]
  },
  {
   "cell_type": "code",
   "execution_count": 43,
   "metadata": {},
   "outputs": [],
   "source": [
    "data4 = data[data['clust']==4]"
   ]
  },
  {
   "cell_type": "code",
   "execution_count": 44,
   "metadata": {},
   "outputs": [
    {
     "data": {
      "text/html": [
       "<div>\n",
       "<style scoped>\n",
       "    .dataframe tbody tr th:only-of-type {\n",
       "        vertical-align: middle;\n",
       "    }\n",
       "\n",
       "    .dataframe tbody tr th {\n",
       "        vertical-align: top;\n",
       "    }\n",
       "\n",
       "    .dataframe thead th {\n",
       "        text-align: right;\n",
       "    }\n",
       "</style>\n",
       "<table border=\"1\" class=\"dataframe\">\n",
       "  <thead>\n",
       "    <tr style=\"text-align: right;\">\n",
       "      <th></th>\n",
       "      <th>Unnamed: 0</th>\n",
       "      <th>amdission_age</th>\n",
       "      <th>gender</th>\n",
       "      <th>tempc_mean</th>\n",
       "      <th>spo2_mean</th>\n",
       "      <th>resprate_mean</th>\n",
       "      <th>creatinine_mean</th>\n",
       "      <th>potassium_mean</th>\n",
       "      <th>bicarbonate_mean</th>\n",
       "      <th>hematocrit_mean</th>\n",
       "      <th>glucose_mean</th>\n",
       "      <th>lactate_mean</th>\n",
       "      <th>albumin_mean</th>\n",
       "      <th>hemoglobin_mean</th>\n",
       "      <th>clust</th>\n",
       "      <th>is_AKI</th>\n",
       "    </tr>\n",
       "  </thead>\n",
       "  <tbody>\n",
       "    <tr>\n",
       "      <th>9</th>\n",
       "      <td>9</td>\n",
       "      <td>1.000000</td>\n",
       "      <td>1.0</td>\n",
       "      <td>0.808171</td>\n",
       "      <td>0.932444</td>\n",
       "      <td>0.477072</td>\n",
       "      <td>0.062016</td>\n",
       "      <td>0.260870</td>\n",
       "      <td>0.380952</td>\n",
       "      <td>0.733166</td>\n",
       "      <td>0.130939</td>\n",
       "      <td>0.098699</td>\n",
       "      <td>0.583333</td>\n",
       "      <td>0.763983</td>\n",
       "      <td>4</td>\n",
       "      <td>0</td>\n",
       "    </tr>\n",
       "    <tr>\n",
       "      <th>12</th>\n",
       "      <td>12</td>\n",
       "      <td>0.700402</td>\n",
       "      <td>1.0</td>\n",
       "      <td>0.649975</td>\n",
       "      <td>0.997101</td>\n",
       "      <td>0.269253</td>\n",
       "      <td>0.032558</td>\n",
       "      <td>0.521739</td>\n",
       "      <td>0.404762</td>\n",
       "      <td>0.544368</td>\n",
       "      <td>0.121063</td>\n",
       "      <td>0.055518</td>\n",
       "      <td>0.666667</td>\n",
       "      <td>0.584511</td>\n",
       "      <td>4</td>\n",
       "      <td>0</td>\n",
       "    </tr>\n",
       "    <tr>\n",
       "      <th>23</th>\n",
       "      <td>23</td>\n",
       "      <td>0.892517</td>\n",
       "      <td>1.0</td>\n",
       "      <td>0.793871</td>\n",
       "      <td>0.967742</td>\n",
       "      <td>0.233942</td>\n",
       "      <td>0.048837</td>\n",
       "      <td>0.224638</td>\n",
       "      <td>0.333333</td>\n",
       "      <td>0.490665</td>\n",
       "      <td>0.105771</td>\n",
       "      <td>0.033311</td>\n",
       "      <td>0.619048</td>\n",
       "      <td>0.543946</td>\n",
       "      <td>4</td>\n",
       "      <td>0</td>\n",
       "    </tr>\n",
       "    <tr>\n",
       "      <th>24</th>\n",
       "      <td>24</td>\n",
       "      <td>0.683221</td>\n",
       "      <td>1.0</td>\n",
       "      <td>0.596413</td>\n",
       "      <td>0.992982</td>\n",
       "      <td>0.284203</td>\n",
       "      <td>0.064186</td>\n",
       "      <td>0.228986</td>\n",
       "      <td>0.204762</td>\n",
       "      <td>0.392700</td>\n",
       "      <td>0.261401</td>\n",
       "      <td>0.079782</td>\n",
       "      <td>0.726190</td>\n",
       "      <td>0.420142</td>\n",
       "      <td>4</td>\n",
       "      <td>1</td>\n",
       "    </tr>\n",
       "    <tr>\n",
       "      <th>28</th>\n",
       "      <td>28</td>\n",
       "      <td>0.848262</td>\n",
       "      <td>1.0</td>\n",
       "      <td>0.641256</td>\n",
       "      <td>0.964957</td>\n",
       "      <td>0.477702</td>\n",
       "      <td>0.032558</td>\n",
       "      <td>0.352657</td>\n",
       "      <td>0.468254</td>\n",
       "      <td>0.355570</td>\n",
       "      <td>0.149099</td>\n",
       "      <td>0.116465</td>\n",
       "      <td>0.250000</td>\n",
       "      <td>0.365704</td>\n",
       "      <td>4</td>\n",
       "      <td>1</td>\n",
       "    </tr>\n",
       "  </tbody>\n",
       "</table>\n",
       "</div>"
      ],
      "text/plain": [
       "    Unnamed: 0  amdission_age  gender  tempc_mean  spo2_mean  resprate_mean  \\\n",
       "9            9       1.000000     1.0    0.808171   0.932444       0.477072   \n",
       "12          12       0.700402     1.0    0.649975   0.997101       0.269253   \n",
       "23          23       0.892517     1.0    0.793871   0.967742       0.233942   \n",
       "24          24       0.683221     1.0    0.596413   0.992982       0.284203   \n",
       "28          28       0.848262     1.0    0.641256   0.964957       0.477702   \n",
       "\n",
       "    creatinine_mean  potassium_mean  bicarbonate_mean  hematocrit_mean  \\\n",
       "9          0.062016        0.260870          0.380952         0.733166   \n",
       "12         0.032558        0.521739          0.404762         0.544368   \n",
       "23         0.048837        0.224638          0.333333         0.490665   \n",
       "24         0.064186        0.228986          0.204762         0.392700   \n",
       "28         0.032558        0.352657          0.468254         0.355570   \n",
       "\n",
       "    glucose_mean  lactate_mean  albumin_mean  hemoglobin_mean  clust  is_AKI  \n",
       "9       0.130939      0.098699      0.583333         0.763983      4       0  \n",
       "12      0.121063      0.055518      0.666667         0.584511      4       0  \n",
       "23      0.105771      0.033311      0.619048         0.543946      4       0  \n",
       "24      0.261401      0.079782      0.726190         0.420142      4       1  \n",
       "28      0.149099      0.116465      0.250000         0.365704      4       1  "
      ]
     },
     "execution_count": 44,
     "metadata": {},
     "output_type": "execute_result"
    }
   ],
   "source": [
    "data4.head()"
   ]
  },
  {
   "cell_type": "code",
   "execution_count": 45,
   "metadata": {},
   "outputs": [],
   "source": [
    "t = data4.drop(\"is_AKI\", axis=1)\n",
    "X4 = t.drop('clust', axis = 1)\n",
    "Y4 = data4[\"is_AKI\"]"
   ]
  },
  {
   "cell_type": "code",
   "execution_count": 46,
   "metadata": {},
   "outputs": [
    {
     "data": {
      "text/plain": [
       "(1714, 14)"
      ]
     },
     "execution_count": 46,
     "metadata": {},
     "output_type": "execute_result"
    }
   ],
   "source": [
    "X4.shape"
   ]
  },
  {
   "cell_type": "code",
   "execution_count": 47,
   "metadata": {},
   "outputs": [
    {
     "data": {
      "text/plain": [
       "(1714,)"
      ]
     },
     "execution_count": 47,
     "metadata": {},
     "output_type": "execute_result"
    }
   ],
   "source": [
    "Y4.shape"
   ]
  },
  {
   "cell_type": "code",
   "execution_count": 48,
   "metadata": {},
   "outputs": [],
   "source": [
    "from sklearn.model_selection import train_test_split"
   ]
  },
  {
   "cell_type": "code",
   "execution_count": 49,
   "metadata": {},
   "outputs": [],
   "source": [
    "X_train, X_test, y_train, y_test = train_test_split(X4,Y4, test_size=0.3, random_state=1)"
   ]
  },
  {
   "cell_type": "code",
   "execution_count": 50,
   "metadata": {},
   "outputs": [
    {
     "name": "stdout",
     "output_type": "stream",
     "text": [
      "('Accuracy:', 0.6174757281553398)\n"
     ]
    }
   ],
   "source": [
    "from sklearn.tree import DecisionTreeClassifier # Import Decision Tree Classifier\n",
    "\n",
    "clf = DecisionTreeClassifier()\n",
    "\n",
    "# Train Decision Tree Classifer\n",
    "clf = clf.fit(X_train,y_train)\n",
    "\n",
    "#Predict the response for test dataset\n",
    "y_pred = clf.predict(X_test)\n",
    "\n",
    "from sklearn import metrics\n",
    "from sklearn.metrics import accuracy_score\n",
    "print(\"Accuracy:\",metrics.accuracy_score(y_test, y_pred))"
   ]
  },
  {
   "cell_type": "code",
   "execution_count": null,
   "metadata": {},
   "outputs": [],
   "source": []
  },
  {
   "cell_type": "code",
   "execution_count": null,
   "metadata": {},
   "outputs": [],
   "source": []
  }
 ],
 "metadata": {
  "kernelspec": {
   "display_name": "Python 2",
   "language": "python",
   "name": "python2"
  },
  "language_info": {
   "codemirror_mode": {
    "name": "ipython",
    "version": 2
   },
   "file_extension": ".py",
   "mimetype": "text/x-python",
   "name": "python",
   "nbconvert_exporter": "python",
   "pygments_lexer": "ipython2",
   "version": "2.7.15"
  }
 },
 "nbformat": 4,
 "nbformat_minor": 2
}
