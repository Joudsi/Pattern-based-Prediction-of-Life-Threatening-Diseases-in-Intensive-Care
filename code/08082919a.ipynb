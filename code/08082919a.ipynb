{
 "cells": [
  {
   "cell_type": "markdown",
   "metadata": {},
   "source": [
    "# Cluster Based Analysis for Patients with BB"
   ]
  },
  {
   "cell_type": "code",
   "execution_count": 129,
   "metadata": {},
   "outputs": [],
   "source": [
    "import pandas as pd\n",
    "import numpy as np\n",
    "import seaborn as sns\n",
    "import matplotlib.pyplot as plt\n",
    "import math\n",
    "\n",
    "% matplotlib inline"
   ]
  },
  {
   "cell_type": "code",
   "execution_count": 130,
   "metadata": {},
   "outputs": [],
   "source": [
    "import pandas as pd\n",
    "data = pd.read_csv(\"/Users/joudsi/Desktop/subdata_bb_norm_clustered.csv\")"
   ]
  },
  {
   "cell_type": "code",
   "execution_count": 131,
   "metadata": {},
   "outputs": [
    {
     "data": {
      "text/html": [
       "<div>\n",
       "<style scoped>\n",
       "    .dataframe tbody tr th:only-of-type {\n",
       "        vertical-align: middle;\n",
       "    }\n",
       "\n",
       "    .dataframe tbody tr th {\n",
       "        vertical-align: top;\n",
       "    }\n",
       "\n",
       "    .dataframe thead th {\n",
       "        text-align: right;\n",
       "    }\n",
       "</style>\n",
       "<table border=\"1\" class=\"dataframe\">\n",
       "  <thead>\n",
       "    <tr style=\"text-align: right;\">\n",
       "      <th></th>\n",
       "      <th>Unnamed: 0</th>\n",
       "      <th>amdission_age</th>\n",
       "      <th>gender</th>\n",
       "      <th>tempc_mean</th>\n",
       "      <th>spo2_mean</th>\n",
       "      <th>resprate_mean</th>\n",
       "      <th>creatinine_mean</th>\n",
       "      <th>potassium_mean</th>\n",
       "      <th>bicarbonate_mean</th>\n",
       "      <th>hematocrit_mean</th>\n",
       "      <th>glucose_mean</th>\n",
       "      <th>lactate_mean</th>\n",
       "      <th>albumin_mean</th>\n",
       "      <th>hemoglobin_mean</th>\n",
       "      <th>clust</th>\n",
       "      <th>is_AKI</th>\n",
       "    </tr>\n",
       "  </thead>\n",
       "  <tbody>\n",
       "    <tr>\n",
       "      <th>0</th>\n",
       "      <td>0</td>\n",
       "      <td>0.558335</td>\n",
       "      <td>0.0</td>\n",
       "      <td>0.713859</td>\n",
       "      <td>0.903968</td>\n",
       "      <td>0.346149</td>\n",
       "      <td>0.032558</td>\n",
       "      <td>0.246377</td>\n",
       "      <td>0.452381</td>\n",
       "      <td>0.735683</td>\n",
       "      <td>0.081558</td>\n",
       "      <td>0.050583</td>\n",
       "      <td>0.666667</td>\n",
       "      <td>0.820529</td>\n",
       "      <td>1</td>\n",
       "      <td>0</td>\n",
       "    </tr>\n",
       "    <tr>\n",
       "      <th>1</th>\n",
       "      <td>1</td>\n",
       "      <td>0.967606</td>\n",
       "      <td>0.0</td>\n",
       "      <td>0.684853</td>\n",
       "      <td>0.905051</td>\n",
       "      <td>0.322675</td>\n",
       "      <td>0.032558</td>\n",
       "      <td>0.217391</td>\n",
       "      <td>0.500000</td>\n",
       "      <td>0.501573</td>\n",
       "      <td>0.118514</td>\n",
       "      <td>0.049349</td>\n",
       "      <td>0.500000</td>\n",
       "      <td>0.555009</td>\n",
       "      <td>1</td>\n",
       "      <td>0</td>\n",
       "    </tr>\n",
       "    <tr>\n",
       "      <th>2</th>\n",
       "      <td>2</td>\n",
       "      <td>0.908553</td>\n",
       "      <td>0.0</td>\n",
       "      <td>0.580397</td>\n",
       "      <td>0.988272</td>\n",
       "      <td>0.180286</td>\n",
       "      <td>0.213953</td>\n",
       "      <td>0.466667</td>\n",
       "      <td>0.321429</td>\n",
       "      <td>0.402140</td>\n",
       "      <td>0.133297</td>\n",
       "      <td>0.059219</td>\n",
       "      <td>0.559524</td>\n",
       "      <td>0.414874</td>\n",
       "      <td>2</td>\n",
       "      <td>0</td>\n",
       "    </tr>\n",
       "    <tr>\n",
       "      <th>3</th>\n",
       "      <td>3</td>\n",
       "      <td>0.585965</td>\n",
       "      <td>0.0</td>\n",
       "      <td>0.588939</td>\n",
       "      <td>0.950327</td>\n",
       "      <td>0.240689</td>\n",
       "      <td>0.055814</td>\n",
       "      <td>0.355072</td>\n",
       "      <td>0.238095</td>\n",
       "      <td>0.385777</td>\n",
       "      <td>0.131258</td>\n",
       "      <td>0.098699</td>\n",
       "      <td>0.238095</td>\n",
       "      <td>0.385372</td>\n",
       "      <td>2</td>\n",
       "      <td>0</td>\n",
       "    </tr>\n",
       "    <tr>\n",
       "      <th>4</th>\n",
       "      <td>4</td>\n",
       "      <td>0.545732</td>\n",
       "      <td>1.0</td>\n",
       "      <td>0.706385</td>\n",
       "      <td>0.954789</td>\n",
       "      <td>0.324970</td>\n",
       "      <td>0.037209</td>\n",
       "      <td>0.172705</td>\n",
       "      <td>0.464286</td>\n",
       "      <td>0.388981</td>\n",
       "      <td>0.152040</td>\n",
       "      <td>0.068472</td>\n",
       "      <td>0.452381</td>\n",
       "      <td>0.414054</td>\n",
       "      <td>0</td>\n",
       "      <td>0</td>\n",
       "    </tr>\n",
       "  </tbody>\n",
       "</table>\n",
       "</div>"
      ],
      "text/plain": [
       "   Unnamed: 0  amdission_age  gender  tempc_mean  spo2_mean  resprate_mean  \\\n",
       "0           0       0.558335     0.0    0.713859   0.903968       0.346149   \n",
       "1           1       0.967606     0.0    0.684853   0.905051       0.322675   \n",
       "2           2       0.908553     0.0    0.580397   0.988272       0.180286   \n",
       "3           3       0.585965     0.0    0.588939   0.950327       0.240689   \n",
       "4           4       0.545732     1.0    0.706385   0.954789       0.324970   \n",
       "\n",
       "   creatinine_mean  potassium_mean  bicarbonate_mean  hematocrit_mean  \\\n",
       "0         0.032558        0.246377          0.452381         0.735683   \n",
       "1         0.032558        0.217391          0.500000         0.501573   \n",
       "2         0.213953        0.466667          0.321429         0.402140   \n",
       "3         0.055814        0.355072          0.238095         0.385777   \n",
       "4         0.037209        0.172705          0.464286         0.388981   \n",
       "\n",
       "   glucose_mean  lactate_mean  albumin_mean  hemoglobin_mean  clust  is_AKI  \n",
       "0      0.081558      0.050583      0.666667         0.820529      1       0  \n",
       "1      0.118514      0.049349      0.500000         0.555009      1       0  \n",
       "2      0.133297      0.059219      0.559524         0.414874      2       0  \n",
       "3      0.131258      0.098699      0.238095         0.385372      2       0  \n",
       "4      0.152040      0.068472      0.452381         0.414054      0       0  "
      ]
     },
     "execution_count": 131,
     "metadata": {},
     "output_type": "execute_result"
    }
   ],
   "source": [
    "data.head()"
   ]
  },
  {
   "cell_type": "code",
   "execution_count": 132,
   "metadata": {},
   "outputs": [
    {
     "name": "stdout",
     "output_type": "stream",
     "text": [
      "('# of observations: ', '5997')\n"
     ]
    }
   ],
   "source": [
    "print(\"# of observations: \", str(len(data.index)))"
   ]
  },
  {
   "cell_type": "code",
   "execution_count": 133,
   "metadata": {},
   "outputs": [
    {
     "name": "stdout",
     "output_type": "stream",
     "text": [
      "<class 'pandas.core.frame.DataFrame'>\n",
      "RangeIndex: 5997 entries, 0 to 5996\n",
      "Data columns (total 16 columns):\n",
      "Unnamed: 0          5997 non-null int64\n",
      "amdission_age       5997 non-null float64\n",
      "gender              5997 non-null float64\n",
      "tempc_mean          5997 non-null float64\n",
      "spo2_mean           5997 non-null float64\n",
      "resprate_mean       5997 non-null float64\n",
      "creatinine_mean     5997 non-null float64\n",
      "potassium_mean      5997 non-null float64\n",
      "bicarbonate_mean    5997 non-null float64\n",
      "hematocrit_mean     5997 non-null float64\n",
      "glucose_mean        5997 non-null float64\n",
      "lactate_mean        5997 non-null float64\n",
      "albumin_mean        5997 non-null float64\n",
      "hemoglobin_mean     5997 non-null float64\n",
      "clust               5997 non-null int64\n",
      "is_AKI              5997 non-null int64\n",
      "dtypes: float64(13), int64(3)\n",
      "memory usage: 749.7 KB\n"
     ]
    }
   ],
   "source": [
    "data.info()"
   ]
  },
  {
   "cell_type": "code",
   "execution_count": 134,
   "metadata": {
    "scrolled": true
   },
   "outputs": [
    {
     "data": {
      "text/plain": [
       "<matplotlib.axes._subplots.AxesSubplot at 0x1a1efbd610>"
      ]
     },
     "execution_count": 134,
     "metadata": {},
     "output_type": "execute_result"
    },
    {
     "data": {
      "image/png": "[encoded data removed]",
      "text/plain": [
       "<Figure size 432x288 with 1 Axes>"
      ]
     },
     "metadata": {
      "needs_background": "light"
     },
     "output_type": "display_data"
    }
   ],
   "source": [
    "sns.countplot(x=\"is_AKI\", hue=\"clust\",data=data)"
   ]
  },
  {
   "cell_type": "markdown",
   "metadata": {},
   "source": [
    "## LR Analysis C0"
   ]
  },
  {
   "cell_type": "code",
   "execution_count": 135,
   "metadata": {
    "scrolled": true
   },
   "outputs": [
    {
     "data": {
      "text/html": [
       "<div>\n",
       "<style scoped>\n",
       "    .dataframe tbody tr th:only-of-type {\n",
       "        vertical-align: middle;\n",
       "    }\n",
       "\n",
       "    .dataframe tbody tr th {\n",
       "        vertical-align: top;\n",
       "    }\n",
       "\n",
       "    .dataframe thead th {\n",
       "        text-align: right;\n",
       "    }\n",
       "</style>\n",
       "<table border=\"1\" class=\"dataframe\">\n",
       "  <thead>\n",
       "    <tr style=\"text-align: right;\">\n",
       "      <th></th>\n",
       "      <th>Unnamed: 0</th>\n",
       "      <th>amdission_age</th>\n",
       "      <th>gender</th>\n",
       "      <th>tempc_mean</th>\n",
       "      <th>spo2_mean</th>\n",
       "      <th>resprate_mean</th>\n",
       "      <th>creatinine_mean</th>\n",
       "      <th>potassium_mean</th>\n",
       "      <th>bicarbonate_mean</th>\n",
       "      <th>hematocrit_mean</th>\n",
       "      <th>glucose_mean</th>\n",
       "      <th>lactate_mean</th>\n",
       "      <th>albumin_mean</th>\n",
       "      <th>hemoglobin_mean</th>\n",
       "      <th>clust</th>\n",
       "      <th>is_AKI</th>\n",
       "    </tr>\n",
       "  </thead>\n",
       "  <tbody>\n",
       "    <tr>\n",
       "      <th>0</th>\n",
       "      <td>0</td>\n",
       "      <td>0.558335</td>\n",
       "      <td>0.0</td>\n",
       "      <td>0.713859</td>\n",
       "      <td>0.903968</td>\n",
       "      <td>0.346149</td>\n",
       "      <td>0.032558</td>\n",
       "      <td>0.246377</td>\n",
       "      <td>0.452381</td>\n",
       "      <td>0.735683</td>\n",
       "      <td>0.081558</td>\n",
       "      <td>0.050583</td>\n",
       "      <td>0.666667</td>\n",
       "      <td>0.820529</td>\n",
       "      <td>1</td>\n",
       "      <td>0</td>\n",
       "    </tr>\n",
       "    <tr>\n",
       "      <th>1</th>\n",
       "      <td>1</td>\n",
       "      <td>0.967606</td>\n",
       "      <td>0.0</td>\n",
       "      <td>0.684853</td>\n",
       "      <td>0.905051</td>\n",
       "      <td>0.322675</td>\n",
       "      <td>0.032558</td>\n",
       "      <td>0.217391</td>\n",
       "      <td>0.500000</td>\n",
       "      <td>0.501573</td>\n",
       "      <td>0.118514</td>\n",
       "      <td>0.049349</td>\n",
       "      <td>0.500000</td>\n",
       "      <td>0.555009</td>\n",
       "      <td>1</td>\n",
       "      <td>0</td>\n",
       "    </tr>\n",
       "    <tr>\n",
       "      <th>2</th>\n",
       "      <td>2</td>\n",
       "      <td>0.908553</td>\n",
       "      <td>0.0</td>\n",
       "      <td>0.580397</td>\n",
       "      <td>0.988272</td>\n",
       "      <td>0.180286</td>\n",
       "      <td>0.213953</td>\n",
       "      <td>0.466667</td>\n",
       "      <td>0.321429</td>\n",
       "      <td>0.402140</td>\n",
       "      <td>0.133297</td>\n",
       "      <td>0.059219</td>\n",
       "      <td>0.559524</td>\n",
       "      <td>0.414874</td>\n",
       "      <td>2</td>\n",
       "      <td>0</td>\n",
       "    </tr>\n",
       "    <tr>\n",
       "      <th>3</th>\n",
       "      <td>3</td>\n",
       "      <td>0.585965</td>\n",
       "      <td>0.0</td>\n",
       "      <td>0.588939</td>\n",
       "      <td>0.950327</td>\n",
       "      <td>0.240689</td>\n",
       "      <td>0.055814</td>\n",
       "      <td>0.355072</td>\n",
       "      <td>0.238095</td>\n",
       "      <td>0.385777</td>\n",
       "      <td>0.131258</td>\n",
       "      <td>0.098699</td>\n",
       "      <td>0.238095</td>\n",
       "      <td>0.385372</td>\n",
       "      <td>2</td>\n",
       "      <td>0</td>\n",
       "    </tr>\n",
       "    <tr>\n",
       "      <th>4</th>\n",
       "      <td>4</td>\n",
       "      <td>0.545732</td>\n",
       "      <td>1.0</td>\n",
       "      <td>0.706385</td>\n",
       "      <td>0.954789</td>\n",
       "      <td>0.324970</td>\n",
       "      <td>0.037209</td>\n",
       "      <td>0.172705</td>\n",
       "      <td>0.464286</td>\n",
       "      <td>0.388981</td>\n",
       "      <td>0.152040</td>\n",
       "      <td>0.068472</td>\n",
       "      <td>0.452381</td>\n",
       "      <td>0.414054</td>\n",
       "      <td>0</td>\n",
       "      <td>0</td>\n",
       "    </tr>\n",
       "  </tbody>\n",
       "</table>\n",
       "</div>"
      ],
      "text/plain": [
       "   Unnamed: 0  amdission_age  gender  tempc_mean  spo2_mean  resprate_mean  \\\n",
       "0           0       0.558335     0.0    0.713859   0.903968       0.346149   \n",
       "1           1       0.967606     0.0    0.684853   0.905051       0.322675   \n",
       "2           2       0.908553     0.0    0.580397   0.988272       0.180286   \n",
       "3           3       0.585965     0.0    0.588939   0.950327       0.240689   \n",
       "4           4       0.545732     1.0    0.706385   0.954789       0.324970   \n",
       "\n",
       "   creatinine_mean  potassium_mean  bicarbonate_mean  hematocrit_mean  \\\n",
       "0         0.032558        0.246377          0.452381         0.735683   \n",
       "1         0.032558        0.217391          0.500000         0.501573   \n",
       "2         0.213953        0.466667          0.321429         0.402140   \n",
       "3         0.055814        0.355072          0.238095         0.385777   \n",
       "4         0.037209        0.172705          0.464286         0.388981   \n",
       "\n",
       "   glucose_mean  lactate_mean  albumin_mean  hemoglobin_mean  clust  is_AKI  \n",
       "0      0.081558      0.050583      0.666667         0.820529      1       0  \n",
       "1      0.118514      0.049349      0.500000         0.555009      1       0  \n",
       "2      0.133297      0.059219      0.559524         0.414874      2       0  \n",
       "3      0.131258      0.098699      0.238095         0.385372      2       0  \n",
       "4      0.152040      0.068472      0.452381         0.414054      0       0  "
      ]
     },
     "execution_count": 135,
     "metadata": {},
     "output_type": "execute_result"
    }
   ],
   "source": [
    "data.head()"
   ]
  },
  {
   "cell_type": "code",
   "execution_count": 136,
   "metadata": {},
   "outputs": [],
   "source": [
    "data0 = data[data['clust']==0]"
   ]
  },
  {
   "cell_type": "code",
   "execution_count": 137,
   "metadata": {},
   "outputs": [],
   "source": [
    "t = data0.drop(\"is_AKI\", axis=1)\n",
    "X0 = t.drop('clust', axis = 1)\n",
    "Y0 = data0[\"is_AKI\"]"
   ]
  },
  {
   "cell_type": "code",
   "execution_count": null,
   "metadata": {},
   "outputs": [],
   "source": []
  },
  {
   "cell_type": "code",
   "execution_count": 138,
   "metadata": {},
   "outputs": [],
   "source": [
    "from sklearn.model_selection import train_test_split"
   ]
  },
  {
   "cell_type": "code",
   "execution_count": 139,
   "metadata": {},
   "outputs": [],
   "source": [
    "X_train, X_test, y_train, y_test = train_test_split(X0,Y0, test_size=0.3, random_state=1)"
   ]
  },
  {
   "cell_type": "code",
   "execution_count": 140,
   "metadata": {},
   "outputs": [],
   "source": [
    "from sklearn.linear_model import LogisticRegression"
   ]
  },
  {
   "cell_type": "code",
   "execution_count": 141,
   "metadata": {},
   "outputs": [],
   "source": [
    "logmodel = LogisticRegression()"
   ]
  },
  {
   "cell_type": "code",
   "execution_count": 142,
   "metadata": {},
   "outputs": [
    {
     "data": {
      "text/plain": [
       "LogisticRegression(C=1.0, class_weight=None, dual=False, fit_intercept=True,\n",
       "          intercept_scaling=1, max_iter=100, multi_class='warn',\n",
       "          n_jobs=None, penalty='l2', random_state=None, solver='warn',\n",
       "          tol=0.0001, verbose=0, warm_start=False)"
      ]
     },
     "execution_count": 142,
     "metadata": {},
     "output_type": "execute_result"
    }
   ],
   "source": [
    "logmodel.fit(X_train, y_train)"
   ]
  },
  {
   "cell_type": "code",
   "execution_count": 143,
   "metadata": {},
   "outputs": [],
   "source": [
    "predictions = logmodel.predict(X_test)"
   ]
  },
  {
   "cell_type": "code",
   "execution_count": 144,
   "metadata": {},
   "outputs": [],
   "source": [
    "from sklearn.metrics import classification_report"
   ]
  },
  {
   "cell_type": "code",
   "execution_count": 145,
   "metadata": {},
   "outputs": [
    {
     "data": {
      "text/plain": [
       "u'              precision    recall  f1-score   support\\n\\n           0       0.59      0.85      0.70       447\\n           1       0.60      0.28      0.38       362\\n\\n   micro avg       0.60      0.60      0.60       809\\n   macro avg       0.60      0.57      0.54       809\\nweighted avg       0.60      0.60      0.56       809\\n'"
      ]
     },
     "execution_count": 145,
     "metadata": {},
     "output_type": "execute_result"
    }
   ],
   "source": [
    "classification_report(y_test, predictions)"
   ]
  },
  {
   "cell_type": "code",
   "execution_count": 146,
   "metadata": {},
   "outputs": [],
   "source": [
    "from sklearn.metrics import confusion_matrix"
   ]
  },
  {
   "cell_type": "code",
   "execution_count": 147,
   "metadata": {},
   "outputs": [
    {
     "data": {
      "text/plain": [
       "array([[380,  67],\n",
       "       [260, 102]])"
      ]
     },
     "execution_count": 147,
     "metadata": {},
     "output_type": "execute_result"
    }
   ],
   "source": [
    "confusion_matrix(y_test, predictions)"
   ]
  },
  {
   "cell_type": "markdown",
   "metadata": {},
   "source": [
    "### Calculate Accuracy"
   ]
  },
  {
   "cell_type": "code",
   "execution_count": 148,
   "metadata": {},
   "outputs": [],
   "source": [
    "from sklearn.metrics import accuracy_score"
   ]
  },
  {
   "cell_type": "code",
   "execution_count": 149,
   "metadata": {},
   "outputs": [
    {
     "data": {
      "text/plain": [
       "0.595797280593325"
      ]
     },
     "execution_count": 149,
     "metadata": {},
     "output_type": "execute_result"
    }
   ],
   "source": [
    "accuracy_score(y_test, predictions)"
   ]
  },
  {
   "cell_type": "markdown",
   "metadata": {},
   "source": [
    "### cross validation"
   ]
  },
  {
   "cell_type": "code",
   "execution_count": 150,
   "metadata": {},
   "outputs": [],
   "source": [
    "from sklearn.model_selection import cross_val_score"
   ]
  },
  {
   "cell_type": "code",
   "execution_count": 151,
   "metadata": {},
   "outputs": [],
   "source": [
    "data0 = data[data['clust']==0]\n",
    "t = data0.drop(\"is_AKI\", axis=1)\n",
    "X0 = t.drop('clust', axis = 1)\n",
    "Y0 = data0[\"is_AKI\"]"
   ]
  },
  {
   "cell_type": "code",
   "execution_count": 152,
   "metadata": {},
   "outputs": [],
   "source": [
    "logmodel = LogisticRegression()\n",
    "# logmodel.fit(X_train, y_train)"
   ]
  },
  {
   "cell_type": "code",
   "execution_count": 153,
   "metadata": {},
   "outputs": [
    {
     "data": {
      "text/plain": [
       "array([0.61296296, 0.62222222, 0.63568773, 0.6133829 , 0.60223048])"
      ]
     },
     "execution_count": 153,
     "metadata": {},
     "output_type": "execute_result"
    }
   ],
   "source": [
    "cross_val_score(logmodel, X0, Y0, cv=5)"
   ]
  },
  {
   "cell_type": "markdown",
   "metadata": {},
   "source": [
    "## LR Analysis C1"
   ]
  },
  {
   "cell_type": "code",
   "execution_count": 154,
   "metadata": {},
   "outputs": [],
   "source": [
    "data1 = data[data['clust']==1]"
   ]
  },
  {
   "cell_type": "code",
   "execution_count": 155,
   "metadata": {},
   "outputs": [
    {
     "data": {
      "text/html": [
       "<div>\n",
       "<style scoped>\n",
       "    .dataframe tbody tr th:only-of-type {\n",
       "        vertical-align: middle;\n",
       "    }\n",
       "\n",
       "    .dataframe tbody tr th {\n",
       "        vertical-align: top;\n",
       "    }\n",
       "\n",
       "    .dataframe thead th {\n",
       "        text-align: right;\n",
       "    }\n",
       "</style>\n",
       "<table border=\"1\" class=\"dataframe\">\n",
       "  <thead>\n",
       "    <tr style=\"text-align: right;\">\n",
       "      <th></th>\n",
       "      <th>Unnamed: 0</th>\n",
       "      <th>amdission_age</th>\n",
       "      <th>gender</th>\n",
       "      <th>tempc_mean</th>\n",
       "      <th>spo2_mean</th>\n",
       "      <th>resprate_mean</th>\n",
       "      <th>creatinine_mean</th>\n",
       "      <th>potassium_mean</th>\n",
       "      <th>bicarbonate_mean</th>\n",
       "      <th>hematocrit_mean</th>\n",
       "      <th>glucose_mean</th>\n",
       "      <th>lactate_mean</th>\n",
       "      <th>albumin_mean</th>\n",
       "      <th>hemoglobin_mean</th>\n",
       "      <th>clust</th>\n",
       "      <th>is_AKI</th>\n",
       "    </tr>\n",
       "  </thead>\n",
       "  <tbody>\n",
       "    <tr>\n",
       "      <th>0</th>\n",
       "      <td>0</td>\n",
       "      <td>0.558335</td>\n",
       "      <td>0.0</td>\n",
       "      <td>0.713859</td>\n",
       "      <td>0.903968</td>\n",
       "      <td>0.346149</td>\n",
       "      <td>0.032558</td>\n",
       "      <td>0.246377</td>\n",
       "      <td>0.452381</td>\n",
       "      <td>0.735683</td>\n",
       "      <td>0.081558</td>\n",
       "      <td>0.050583</td>\n",
       "      <td>0.666667</td>\n",
       "      <td>0.820529</td>\n",
       "      <td>1</td>\n",
       "      <td>0</td>\n",
       "    </tr>\n",
       "    <tr>\n",
       "      <th>1</th>\n",
       "      <td>1</td>\n",
       "      <td>0.967606</td>\n",
       "      <td>0.0</td>\n",
       "      <td>0.684853</td>\n",
       "      <td>0.905051</td>\n",
       "      <td>0.322675</td>\n",
       "      <td>0.032558</td>\n",
       "      <td>0.217391</td>\n",
       "      <td>0.500000</td>\n",
       "      <td>0.501573</td>\n",
       "      <td>0.118514</td>\n",
       "      <td>0.049349</td>\n",
       "      <td>0.500000</td>\n",
       "      <td>0.555009</td>\n",
       "      <td>1</td>\n",
       "      <td>0</td>\n",
       "    </tr>\n",
       "    <tr>\n",
       "      <th>6</th>\n",
       "      <td>6</td>\n",
       "      <td>0.957568</td>\n",
       "      <td>0.0</td>\n",
       "      <td>0.544096</td>\n",
       "      <td>0.860000</td>\n",
       "      <td>0.487780</td>\n",
       "      <td>0.093023</td>\n",
       "      <td>0.304348</td>\n",
       "      <td>0.297619</td>\n",
       "      <td>0.672750</td>\n",
       "      <td>0.064992</td>\n",
       "      <td>0.162853</td>\n",
       "      <td>0.380952</td>\n",
       "      <td>0.650891</td>\n",
       "      <td>1</td>\n",
       "      <td>0</td>\n",
       "    </tr>\n",
       "    <tr>\n",
       "      <th>7</th>\n",
       "      <td>7</td>\n",
       "      <td>0.896536</td>\n",
       "      <td>0.0</td>\n",
       "      <td>0.613496</td>\n",
       "      <td>0.992593</td>\n",
       "      <td>0.232354</td>\n",
       "      <td>0.244961</td>\n",
       "      <td>0.452174</td>\n",
       "      <td>0.365079</td>\n",
       "      <td>0.515838</td>\n",
       "      <td>0.046301</td>\n",
       "      <td>0.103634</td>\n",
       "      <td>0.690476</td>\n",
       "      <td>0.496005</td>\n",
       "      <td>1</td>\n",
       "      <td>1</td>\n",
       "    </tr>\n",
       "    <tr>\n",
       "      <th>11</th>\n",
       "      <td>11</td>\n",
       "      <td>0.393875</td>\n",
       "      <td>0.0</td>\n",
       "      <td>0.660688</td>\n",
       "      <td>0.938384</td>\n",
       "      <td>0.205227</td>\n",
       "      <td>0.041860</td>\n",
       "      <td>0.299517</td>\n",
       "      <td>0.476190</td>\n",
       "      <td>0.711349</td>\n",
       "      <td>0.116391</td>\n",
       "      <td>0.175191</td>\n",
       "      <td>0.654762</td>\n",
       "      <td>0.727105</td>\n",
       "      <td>1</td>\n",
       "      <td>0</td>\n",
       "    </tr>\n",
       "  </tbody>\n",
       "</table>\n",
       "</div>"
      ],
      "text/plain": [
       "    Unnamed: 0  amdission_age  gender  tempc_mean  spo2_mean  resprate_mean  \\\n",
       "0            0       0.558335     0.0    0.713859   0.903968       0.346149   \n",
       "1            1       0.967606     0.0    0.684853   0.905051       0.322675   \n",
       "6            6       0.957568     0.0    0.544096   0.860000       0.487780   \n",
       "7            7       0.896536     0.0    0.613496   0.992593       0.232354   \n",
       "11          11       0.393875     0.0    0.660688   0.938384       0.205227   \n",
       "\n",
       "    creatinine_mean  potassium_mean  bicarbonate_mean  hematocrit_mean  \\\n",
       "0          0.032558        0.246377          0.452381         0.735683   \n",
       "1          0.032558        0.217391          0.500000         0.501573   \n",
       "6          0.093023        0.304348          0.297619         0.672750   \n",
       "7          0.244961        0.452174          0.365079         0.515838   \n",
       "11         0.041860        0.299517          0.476190         0.711349   \n",
       "\n",
       "    glucose_mean  lactate_mean  albumin_mean  hemoglobin_mean  clust  is_AKI  \n",
       "0       0.081558      0.050583      0.666667         0.820529      1       0  \n",
       "1       0.118514      0.049349      0.500000         0.555009      1       0  \n",
       "6       0.064992      0.162853      0.380952         0.650891      1       0  \n",
       "7       0.046301      0.103634      0.690476         0.496005      1       1  \n",
       "11      0.116391      0.175191      0.654762         0.727105      1       0  "
      ]
     },
     "execution_count": 155,
     "metadata": {},
     "output_type": "execute_result"
    }
   ],
   "source": [
    "data1.head()"
   ]
  },
  {
   "cell_type": "code",
   "execution_count": 156,
   "metadata": {},
   "outputs": [],
   "source": [
    "t = data1.drop(\"is_AKI\", axis=1)\n",
    "X1 = t.drop('clust', axis = 1)\n",
    "Y1 = data1[\"is_AKI\"]"
   ]
  },
  {
   "cell_type": "code",
   "execution_count": 157,
   "metadata": {},
   "outputs": [
    {
     "data": {
      "text/plain": [
       "(1277, 14)"
      ]
     },
     "execution_count": 157,
     "metadata": {},
     "output_type": "execute_result"
    }
   ],
   "source": [
    "X1.shape"
   ]
  },
  {
   "cell_type": "code",
   "execution_count": 158,
   "metadata": {},
   "outputs": [
    {
     "data": {
      "text/plain": [
       "(1277,)"
      ]
     },
     "execution_count": 158,
     "metadata": {},
     "output_type": "execute_result"
    }
   ],
   "source": [
    "Y1.shape"
   ]
  },
  {
   "cell_type": "code",
   "execution_count": 159,
   "metadata": {},
   "outputs": [],
   "source": [
    "from sklearn.model_selection import train_test_split"
   ]
  },
  {
   "cell_type": "code",
   "execution_count": 160,
   "metadata": {},
   "outputs": [],
   "source": [
    "X_train, X_test, y_train, y_test = train_test_split(X1,Y1, test_size=0.3, random_state=1)"
   ]
  },
  {
   "cell_type": "code",
   "execution_count": 161,
   "metadata": {},
   "outputs": [],
   "source": [
    "from sklearn.linear_model import LogisticRegression"
   ]
  },
  {
   "cell_type": "code",
   "execution_count": 162,
   "metadata": {},
   "outputs": [],
   "source": [
    "logmodel = LogisticRegression()"
   ]
  },
  {
   "cell_type": "code",
   "execution_count": 163,
   "metadata": {},
   "outputs": [
    {
     "data": {
      "text/plain": [
       "LogisticRegression(C=1.0, class_weight=None, dual=False, fit_intercept=True,\n",
       "          intercept_scaling=1, max_iter=100, multi_class='warn',\n",
       "          n_jobs=None, penalty='l2', random_state=None, solver='warn',\n",
       "          tol=0.0001, verbose=0, warm_start=False)"
      ]
     },
     "execution_count": 163,
     "metadata": {},
     "output_type": "execute_result"
    }
   ],
   "source": [
    "logmodel.fit(X_train, y_train)"
   ]
  },
  {
   "cell_type": "code",
   "execution_count": 164,
   "metadata": {},
   "outputs": [],
   "source": [
    "predictions = logmodel.predict(X_test)"
   ]
  },
  {
   "cell_type": "code",
   "execution_count": 165,
   "metadata": {},
   "outputs": [],
   "source": [
    "from sklearn.metrics import classification_report"
   ]
  },
  {
   "cell_type": "code",
   "execution_count": 166,
   "metadata": {},
   "outputs": [
    {
     "data": {
      "text/plain": [
       "u'              precision    recall  f1-score   support\\n\\n           0       0.63      0.92      0.75       235\\n           1       0.56      0.16      0.25       149\\n\\n   micro avg       0.62      0.62      0.62       384\\n   macro avg       0.60      0.54      0.50       384\\nweighted avg       0.60      0.62      0.56       384\\n'"
      ]
     },
     "execution_count": 166,
     "metadata": {},
     "output_type": "execute_result"
    }
   ],
   "source": [
    "classification_report(y_test, predictions)"
   ]
  },
  {
   "cell_type": "code",
   "execution_count": 167,
   "metadata": {},
   "outputs": [],
   "source": [
    "from sklearn.metrics import confusion_matrix"
   ]
  },
  {
   "cell_type": "code",
   "execution_count": 168,
   "metadata": {},
   "outputs": [
    {
     "data": {
      "text/plain": [
       "array([[216,  19],\n",
       "       [125,  24]])"
      ]
     },
     "execution_count": 168,
     "metadata": {},
     "output_type": "execute_result"
    }
   ],
   "source": [
    "confusion_matrix(y_test, predictions)"
   ]
  },
  {
   "cell_type": "markdown",
   "metadata": {},
   "source": [
    "### Calculate Accuracy"
   ]
  },
  {
   "cell_type": "code",
   "execution_count": 169,
   "metadata": {},
   "outputs": [],
   "source": [
    "from sklearn.metrics import accuracy_score"
   ]
  },
  {
   "cell_type": "code",
   "execution_count": 170,
   "metadata": {},
   "outputs": [
    {
     "data": {
      "text/plain": [
       "0.625"
      ]
     },
     "execution_count": 170,
     "metadata": {},
     "output_type": "execute_result"
    }
   ],
   "source": [
    "accuracy_score(y_test, predictions)"
   ]
  },
  {
   "cell_type": "markdown",
   "metadata": {},
   "source": [
    "## LR Analysis C2"
   ]
  },
  {
   "cell_type": "code",
   "execution_count": 171,
   "metadata": {},
   "outputs": [],
   "source": [
    "data2 = data[data['clust']==2]"
   ]
  },
  {
   "cell_type": "code",
   "execution_count": 172,
   "metadata": {},
   "outputs": [
    {
     "data": {
      "text/html": [
       "<div>\n",
       "<style scoped>\n",
       "    .dataframe tbody tr th:only-of-type {\n",
       "        vertical-align: middle;\n",
       "    }\n",
       "\n",
       "    .dataframe tbody tr th {\n",
       "        vertical-align: top;\n",
       "    }\n",
       "\n",
       "    .dataframe thead th {\n",
       "        text-align: right;\n",
       "    }\n",
       "</style>\n",
       "<table border=\"1\" class=\"dataframe\">\n",
       "  <thead>\n",
       "    <tr style=\"text-align: right;\">\n",
       "      <th></th>\n",
       "      <th>Unnamed: 0</th>\n",
       "      <th>amdission_age</th>\n",
       "      <th>gender</th>\n",
       "      <th>tempc_mean</th>\n",
       "      <th>spo2_mean</th>\n",
       "      <th>resprate_mean</th>\n",
       "      <th>creatinine_mean</th>\n",
       "      <th>potassium_mean</th>\n",
       "      <th>bicarbonate_mean</th>\n",
       "      <th>hematocrit_mean</th>\n",
       "      <th>glucose_mean</th>\n",
       "      <th>lactate_mean</th>\n",
       "      <th>albumin_mean</th>\n",
       "      <th>hemoglobin_mean</th>\n",
       "      <th>clust</th>\n",
       "      <th>is_AKI</th>\n",
       "    </tr>\n",
       "  </thead>\n",
       "  <tbody>\n",
       "    <tr>\n",
       "      <th>2</th>\n",
       "      <td>2</td>\n",
       "      <td>0.908553</td>\n",
       "      <td>0.0</td>\n",
       "      <td>0.580397</td>\n",
       "      <td>0.988272</td>\n",
       "      <td>0.180286</td>\n",
       "      <td>0.213953</td>\n",
       "      <td>0.466667</td>\n",
       "      <td>0.321429</td>\n",
       "      <td>0.402140</td>\n",
       "      <td>0.133297</td>\n",
       "      <td>0.059219</td>\n",
       "      <td>0.559524</td>\n",
       "      <td>0.414874</td>\n",
       "      <td>2</td>\n",
       "      <td>0</td>\n",
       "    </tr>\n",
       "    <tr>\n",
       "      <th>3</th>\n",
       "      <td>3</td>\n",
       "      <td>0.585965</td>\n",
       "      <td>0.0</td>\n",
       "      <td>0.588939</td>\n",
       "      <td>0.950327</td>\n",
       "      <td>0.240689</td>\n",
       "      <td>0.055814</td>\n",
       "      <td>0.355072</td>\n",
       "      <td>0.238095</td>\n",
       "      <td>0.385777</td>\n",
       "      <td>0.131258</td>\n",
       "      <td>0.098699</td>\n",
       "      <td>0.238095</td>\n",
       "      <td>0.385372</td>\n",
       "      <td>2</td>\n",
       "      <td>0</td>\n",
       "    </tr>\n",
       "    <tr>\n",
       "      <th>13</th>\n",
       "      <td>13</td>\n",
       "      <td>0.848335</td>\n",
       "      <td>0.0</td>\n",
       "      <td>0.638053</td>\n",
       "      <td>0.964021</td>\n",
       "      <td>0.213564</td>\n",
       "      <td>0.052713</td>\n",
       "      <td>0.364548</td>\n",
       "      <td>0.369048</td>\n",
       "      <td>0.395487</td>\n",
       "      <td>0.112860</td>\n",
       "      <td>0.075669</td>\n",
       "      <td>0.666667</td>\n",
       "      <td>0.389797</td>\n",
       "      <td>2</td>\n",
       "      <td>1</td>\n",
       "    </tr>\n",
       "    <tr>\n",
       "      <th>14</th>\n",
       "      <td>14</td>\n",
       "      <td>1.000000</td>\n",
       "      <td>0.0</td>\n",
       "      <td>0.728806</td>\n",
       "      <td>0.960847</td>\n",
       "      <td>0.290548</td>\n",
       "      <td>0.053488</td>\n",
       "      <td>0.318841</td>\n",
       "      <td>0.321429</td>\n",
       "      <td>0.451857</td>\n",
       "      <td>0.138904</td>\n",
       "      <td>0.379991</td>\n",
       "      <td>0.380952</td>\n",
       "      <td>0.446220</td>\n",
       "      <td>2</td>\n",
       "      <td>0</td>\n",
       "    </tr>\n",
       "    <tr>\n",
       "      <th>17</th>\n",
       "      <td>17</td>\n",
       "      <td>0.513992</td>\n",
       "      <td>0.0</td>\n",
       "      <td>0.732009</td>\n",
       "      <td>0.917172</td>\n",
       "      <td>0.355990</td>\n",
       "      <td>0.023256</td>\n",
       "      <td>0.202899</td>\n",
       "      <td>0.523810</td>\n",
       "      <td>0.230963</td>\n",
       "      <td>0.090479</td>\n",
       "      <td>0.076492</td>\n",
       "      <td>0.357143</td>\n",
       "      <td>0.252612</td>\n",
       "      <td>2</td>\n",
       "      <td>0</td>\n",
       "    </tr>\n",
       "  </tbody>\n",
       "</table>\n",
       "</div>"
      ],
      "text/plain": [
       "    Unnamed: 0  amdission_age  gender  tempc_mean  spo2_mean  resprate_mean  \\\n",
       "2            2       0.908553     0.0    0.580397   0.988272       0.180286   \n",
       "3            3       0.585965     0.0    0.588939   0.950327       0.240689   \n",
       "13          13       0.848335     0.0    0.638053   0.964021       0.213564   \n",
       "14          14       1.000000     0.0    0.728806   0.960847       0.290548   \n",
       "17          17       0.513992     0.0    0.732009   0.917172       0.355990   \n",
       "\n",
       "    creatinine_mean  potassium_mean  bicarbonate_mean  hematocrit_mean  \\\n",
       "2          0.213953        0.466667          0.321429         0.402140   \n",
       "3          0.055814        0.355072          0.238095         0.385777   \n",
       "13         0.052713        0.364548          0.369048         0.395487   \n",
       "14         0.053488        0.318841          0.321429         0.451857   \n",
       "17         0.023256        0.202899          0.523810         0.230963   \n",
       "\n",
       "    glucose_mean  lactate_mean  albumin_mean  hemoglobin_mean  clust  is_AKI  \n",
       "2       0.133297      0.059219      0.559524         0.414874      2       0  \n",
       "3       0.131258      0.098699      0.238095         0.385372      2       0  \n",
       "13      0.112860      0.075669      0.666667         0.389797      2       1  \n",
       "14      0.138904      0.379991      0.380952         0.446220      2       0  \n",
       "17      0.090479      0.076492      0.357143         0.252612      2       0  "
      ]
     },
     "execution_count": 172,
     "metadata": {},
     "output_type": "execute_result"
    }
   ],
   "source": [
    "data2.head()"
   ]
  },
  {
   "cell_type": "code",
   "execution_count": 173,
   "metadata": {},
   "outputs": [],
   "source": [
    "t = data2.drop(\"is_AKI\", axis=1)\n",
    "X2 = t.drop('clust', axis = 1)\n",
    "Y2 = data2[\"is_AKI\"]"
   ]
  },
  {
   "cell_type": "code",
   "execution_count": 174,
   "metadata": {},
   "outputs": [
    {
     "data": {
      "text/plain": [
       "(2026, 14)"
      ]
     },
     "execution_count": 174,
     "metadata": {},
     "output_type": "execute_result"
    }
   ],
   "source": [
    "X2.shape"
   ]
  },
  {
   "cell_type": "code",
   "execution_count": 175,
   "metadata": {},
   "outputs": [
    {
     "data": {
      "text/plain": [
       "(2026,)"
      ]
     },
     "execution_count": 175,
     "metadata": {},
     "output_type": "execute_result"
    }
   ],
   "source": [
    "Y2.shape"
   ]
  },
  {
   "cell_type": "code",
   "execution_count": 176,
   "metadata": {},
   "outputs": [],
   "source": [
    "from sklearn.model_selection import train_test_split"
   ]
  },
  {
   "cell_type": "code",
   "execution_count": 177,
   "metadata": {},
   "outputs": [],
   "source": [
    "X_train, X_test, y_train, y_test = train_test_split(X2,Y2, test_size=0.3, random_state=1)"
   ]
  },
  {
   "cell_type": "code",
   "execution_count": 178,
   "metadata": {},
   "outputs": [],
   "source": [
    "from sklearn.linear_model import LogisticRegression"
   ]
  },
  {
   "cell_type": "code",
   "execution_count": 179,
   "metadata": {},
   "outputs": [],
   "source": [
    "logmodel = LogisticRegression()"
   ]
  },
  {
   "cell_type": "code",
   "execution_count": 180,
   "metadata": {},
   "outputs": [
    {
     "data": {
      "text/plain": [
       "LogisticRegression(C=1.0, class_weight=None, dual=False, fit_intercept=True,\n",
       "          intercept_scaling=1, max_iter=100, multi_class='warn',\n",
       "          n_jobs=None, penalty='l2', random_state=None, solver='warn',\n",
       "          tol=0.0001, verbose=0, warm_start=False)"
      ]
     },
     "execution_count": 180,
     "metadata": {},
     "output_type": "execute_result"
    }
   ],
   "source": [
    "logmodel.fit(X_train, y_train)"
   ]
  },
  {
   "cell_type": "code",
   "execution_count": 181,
   "metadata": {},
   "outputs": [],
   "source": [
    "predictions = logmodel.predict(X_test)"
   ]
  },
  {
   "cell_type": "code",
   "execution_count": 182,
   "metadata": {},
   "outputs": [],
   "source": [
    "from sklearn.metrics import classification_report"
   ]
  },
  {
   "cell_type": "code",
   "execution_count": 183,
   "metadata": {},
   "outputs": [
    {
     "data": {
      "text/plain": [
       "u'              precision    recall  f1-score   support\\n\\n           0       0.61      0.58      0.59       314\\n           1       0.57      0.60      0.58       294\\n\\n   micro avg       0.59      0.59      0.59       608\\n   macro avg       0.59      0.59      0.59       608\\nweighted avg       0.59      0.59      0.59       608\\n'"
      ]
     },
     "execution_count": 183,
     "metadata": {},
     "output_type": "execute_result"
    }
   ],
   "source": [
    "classification_report(y_test, predictions)"
   ]
  },
  {
   "cell_type": "code",
   "execution_count": 184,
   "metadata": {},
   "outputs": [],
   "source": [
    "from sklearn.metrics import confusion_matrix"
   ]
  },
  {
   "cell_type": "code",
   "execution_count": 185,
   "metadata": {},
   "outputs": [
    {
     "data": {
      "text/plain": [
       "array([[181, 133],\n",
       "       [118, 176]])"
      ]
     },
     "execution_count": 185,
     "metadata": {},
     "output_type": "execute_result"
    }
   ],
   "source": [
    "confusion_matrix(y_test, predictions)"
   ]
  },
  {
   "cell_type": "markdown",
   "metadata": {},
   "source": [
    "### Calculate Accuracy"
   ]
  },
  {
   "cell_type": "code",
   "execution_count": 186,
   "metadata": {},
   "outputs": [],
   "source": [
    "from sklearn.metrics import accuracy_score"
   ]
  },
  {
   "cell_type": "code",
   "execution_count": 187,
   "metadata": {},
   "outputs": [
    {
     "data": {
      "text/plain": [
       "0.587171052631579"
      ]
     },
     "execution_count": 187,
     "metadata": {},
     "output_type": "execute_result"
    }
   ],
   "source": [
    "accuracy_score(y_test, predictions)"
   ]
  },
  {
   "cell_type": "markdown",
   "metadata": {},
   "source": [
    "## LR Analysis C3"
   ]
  },
  {
   "cell_type": "code",
   "execution_count": 188,
   "metadata": {},
   "outputs": [],
   "source": [
    "data3 = data[data['clust']==3]"
   ]
  },
  {
   "cell_type": "code",
   "execution_count": 189,
   "metadata": {},
   "outputs": [
    {
     "data": {
      "text/html": [
       "<div>\n",
       "<style scoped>\n",
       "    .dataframe tbody tr th:only-of-type {\n",
       "        vertical-align: middle;\n",
       "    }\n",
       "\n",
       "    .dataframe tbody tr th {\n",
       "        vertical-align: top;\n",
       "    }\n",
       "\n",
       "    .dataframe thead th {\n",
       "        text-align: right;\n",
       "    }\n",
       "</style>\n",
       "<table border=\"1\" class=\"dataframe\">\n",
       "  <thead>\n",
       "    <tr style=\"text-align: right;\">\n",
       "      <th></th>\n",
       "      <th>Unnamed: 0</th>\n",
       "      <th>amdission_age</th>\n",
       "      <th>gender</th>\n",
       "      <th>tempc_mean</th>\n",
       "      <th>spo2_mean</th>\n",
       "      <th>resprate_mean</th>\n",
       "      <th>creatinine_mean</th>\n",
       "      <th>potassium_mean</th>\n",
       "      <th>bicarbonate_mean</th>\n",
       "      <th>hematocrit_mean</th>\n",
       "      <th>glucose_mean</th>\n",
       "      <th>lactate_mean</th>\n",
       "      <th>albumin_mean</th>\n",
       "      <th>hemoglobin_mean</th>\n",
       "      <th>clust</th>\n",
       "      <th>is_AKI</th>\n",
       "    </tr>\n",
       "  </thead>\n",
       "  <tbody>\n",
       "  </tbody>\n",
       "</table>\n",
       "</div>"
      ],
      "text/plain": [
       "Empty DataFrame\n",
       "Columns: [Unnamed: 0, amdission_age, gender, tempc_mean, spo2_mean, resprate_mean, creatinine_mean, potassium_mean, bicarbonate_mean, hematocrit_mean, glucose_mean, lactate_mean, albumin_mean, hemoglobin_mean, clust, is_AKI]\n",
       "Index: []"
      ]
     },
     "execution_count": 189,
     "metadata": {},
     "output_type": "execute_result"
    }
   ],
   "source": [
    "data3.head()"
   ]
  },
  {
   "cell_type": "code",
   "execution_count": 190,
   "metadata": {},
   "outputs": [],
   "source": [
    "t = data3.drop(\"is_AKI\", axis=1)\n",
    "X3 = t.drop('clust', axis = 1)\n",
    "Y3 = data3[\"is_AKI\"]"
   ]
  },
  {
   "cell_type": "code",
   "execution_count": 191,
   "metadata": {},
   "outputs": [
    {
     "data": {
      "text/plain": [
       "(0, 14)"
      ]
     },
     "execution_count": 191,
     "metadata": {},
     "output_type": "execute_result"
    }
   ],
   "source": [
    "X3.shape"
   ]
  },
  {
   "cell_type": "code",
   "execution_count": 192,
   "metadata": {},
   "outputs": [
    {
     "data": {
      "text/plain": [
       "(0,)"
      ]
     },
     "execution_count": 192,
     "metadata": {},
     "output_type": "execute_result"
    }
   ],
   "source": [
    "Y3.shape"
   ]
  },
  {
   "cell_type": "code",
   "execution_count": 193,
   "metadata": {},
   "outputs": [],
   "source": [
    "from sklearn.model_selection import train_test_split"
   ]
  },
  {
   "cell_type": "code",
   "execution_count": 194,
   "metadata": {},
   "outputs": [],
   "source": [
    "X_train, X_test, y_train, y_test = train_test_split(X3,Y3, test_size=0.3, random_state=1)"
   ]
  },
  {
   "cell_type": "code",
   "execution_count": 195,
   "metadata": {},
   "outputs": [],
   "source": [
    "from sklearn.linear_model import LogisticRegression"
   ]
  },
  {
   "cell_type": "code",
   "execution_count": 196,
   "metadata": {},
   "outputs": [],
   "source": [
    "logmodel = LogisticRegression()"
   ]
  },
  {
   "cell_type": "code",
   "execution_count": 197,
   "metadata": {},
   "outputs": [
    {
     "ename": "ValueError",
     "evalue": "Found array with 0 sample(s) (shape=(0, 14)) while a minimum of 1 is required.",
     "output_type": "error",
     "traceback": [
      "\u001b[0;31m---------------------------------------------------------------------------\u001b[0m",
      "\u001b[0;31mValueError\u001b[0m                                Traceback (most recent call last)",
      "\u001b[0;32m<ipython-input-197-56826abd931f>\u001b[0m in \u001b[0;36m<module>\u001b[0;34m()\u001b[0m\n\u001b[0;32m----> 1\u001b[0;31m \u001b[0mlogmodel\u001b[0m\u001b[0;34m.\u001b[0m\u001b[0mfit\u001b[0m\u001b[0;34m(\u001b[0m\u001b[0mX_train\u001b[0m\u001b[0;34m,\u001b[0m \u001b[0my_train\u001b[0m\u001b[0;34m)\u001b[0m\u001b[0;34m\u001b[0m\u001b[0m\n\u001b[0m",
      "\u001b[0;32m/anaconda2/lib/python2.7/site-packages/sklearn/linear_model/logistic.pyc\u001b[0m in \u001b[0;36mfit\u001b[0;34m(self, X, y, sample_weight)\u001b[0m\n\u001b[1;32m   1283\u001b[0m \u001b[0;34m\u001b[0m\u001b[0m\n\u001b[1;32m   1284\u001b[0m         X, y = check_X_y(X, y, accept_sparse='csr', dtype=_dtype, order=\"C\",\n\u001b[0;32m-> 1285\u001b[0;31m                          accept_large_sparse=solver != 'liblinear')\n\u001b[0m\u001b[1;32m   1286\u001b[0m         \u001b[0mcheck_classification_targets\u001b[0m\u001b[0;34m(\u001b[0m\u001b[0my\u001b[0m\u001b[0;34m)\u001b[0m\u001b[0;34m\u001b[0m\u001b[0m\n\u001b[1;32m   1287\u001b[0m         \u001b[0mself\u001b[0m\u001b[0;34m.\u001b[0m\u001b[0mclasses_\u001b[0m \u001b[0;34m=\u001b[0m \u001b[0mnp\u001b[0m\u001b[0;34m.\u001b[0m\u001b[0munique\u001b[0m\u001b[0;34m(\u001b[0m\u001b[0my\u001b[0m\u001b[0;34m)\u001b[0m\u001b[0;34m\u001b[0m\u001b[0m\n",
      "\u001b[0;32m/anaconda2/lib/python2.7/site-packages/sklearn/utils/validation.pyc\u001b[0m in \u001b[0;36mcheck_X_y\u001b[0;34m(X, y, accept_sparse, accept_large_sparse, dtype, order, copy, force_all_finite, ensure_2d, allow_nd, multi_output, ensure_min_samples, ensure_min_features, y_numeric, warn_on_dtype, estimator)\u001b[0m\n\u001b[1;32m    754\u001b[0m                     \u001b[0mensure_min_features\u001b[0m\u001b[0;34m=\u001b[0m\u001b[0mensure_min_features\u001b[0m\u001b[0;34m,\u001b[0m\u001b[0;34m\u001b[0m\u001b[0m\n\u001b[1;32m    755\u001b[0m                     \u001b[0mwarn_on_dtype\u001b[0m\u001b[0;34m=\u001b[0m\u001b[0mwarn_on_dtype\u001b[0m\u001b[0;34m,\u001b[0m\u001b[0;34m\u001b[0m\u001b[0m\n\u001b[0;32m--> 756\u001b[0;31m                     estimator=estimator)\n\u001b[0m\u001b[1;32m    757\u001b[0m     \u001b[0;32mif\u001b[0m \u001b[0mmulti_output\u001b[0m\u001b[0;34m:\u001b[0m\u001b[0;34m\u001b[0m\u001b[0m\n\u001b[1;32m    758\u001b[0m         y = check_array(y, 'csr', force_all_finite=True, ensure_2d=False,\n",
      "\u001b[0;32m/anaconda2/lib/python2.7/site-packages/sklearn/utils/validation.pyc\u001b[0m in \u001b[0;36mcheck_array\u001b[0;34m(array, accept_sparse, accept_large_sparse, dtype, order, copy, force_all_finite, ensure_2d, allow_nd, ensure_min_samples, ensure_min_features, warn_on_dtype, estimator)\u001b[0m\n\u001b[1;32m    580\u001b[0m                              \u001b[0;34m\" minimum of %d is required%s.\"\u001b[0m\u001b[0;34m\u001b[0m\u001b[0m\n\u001b[1;32m    581\u001b[0m                              % (n_samples, shape_repr, ensure_min_samples,\n\u001b[0;32m--> 582\u001b[0;31m                                 context))\n\u001b[0m\u001b[1;32m    583\u001b[0m \u001b[0;34m\u001b[0m\u001b[0m\n\u001b[1;32m    584\u001b[0m     \u001b[0;32mif\u001b[0m \u001b[0mensure_min_features\u001b[0m \u001b[0;34m>\u001b[0m \u001b[0;36m0\u001b[0m \u001b[0;32mand\u001b[0m \u001b[0marray\u001b[0m\u001b[0;34m.\u001b[0m\u001b[0mndim\u001b[0m \u001b[0;34m==\u001b[0m \u001b[0;36m2\u001b[0m\u001b[0;34m:\u001b[0m\u001b[0;34m\u001b[0m\u001b[0m\n",
      "\u001b[0;31mValueError\u001b[0m: Found array with 0 sample(s) (shape=(0, 14)) while a minimum of 1 is required."
     ]
    }
   ],
   "source": [
    "logmodel.fit(X_train, y_train)"
   ]
  },
  {
   "cell_type": "code",
   "execution_count": null,
   "metadata": {},
   "outputs": [],
   "source": [
    "predictions = logmodel.predict(X_test)"
   ]
  },
  {
   "cell_type": "code",
   "execution_count": null,
   "metadata": {},
   "outputs": [],
   "source": [
    "from sklearn.metrics import classification_report"
   ]
  },
  {
   "cell_type": "code",
   "execution_count": null,
   "metadata": {},
   "outputs": [],
   "source": [
    "classification_report(y_test, predictions)"
   ]
  },
  {
   "cell_type": "code",
   "execution_count": null,
   "metadata": {},
   "outputs": [],
   "source": [
    "from sklearn.metrics import confusion_matrix"
   ]
  },
  {
   "cell_type": "code",
   "execution_count": null,
   "metadata": {},
   "outputs": [],
   "source": [
    "confusion_matrix(y_test, predictions)"
   ]
  },
  {
   "cell_type": "markdown",
   "metadata": {},
   "source": [
    "### Calculate Accuracy"
   ]
  },
  {
   "cell_type": "code",
   "execution_count": null,
   "metadata": {},
   "outputs": [],
   "source": [
    "from sklearn.metrics import accuracy_score"
   ]
  },
  {
   "cell_type": "code",
   "execution_count": null,
   "metadata": {},
   "outputs": [],
   "source": [
    "accuracy_score(y_test, predictions)"
   ]
  },
  {
   "cell_type": "markdown",
   "metadata": {},
   "source": [
    "## LR Analysis C4"
   ]
  },
  {
   "cell_type": "code",
   "execution_count": null,
   "metadata": {},
   "outputs": [],
   "source": [
    "data4 = data[data['clust']==4]"
   ]
  },
  {
   "cell_type": "code",
   "execution_count": 198,
   "metadata": {},
   "outputs": [
    {
     "data": {
      "text/html": [
       "<div>\n",
       "<style scoped>\n",
       "    .dataframe tbody tr th:only-of-type {\n",
       "        vertical-align: middle;\n",
       "    }\n",
       "\n",
       "    .dataframe tbody tr th {\n",
       "        vertical-align: top;\n",
       "    }\n",
       "\n",
       "    .dataframe thead th {\n",
       "        text-align: right;\n",
       "    }\n",
       "</style>\n",
       "<table border=\"1\" class=\"dataframe\">\n",
       "  <thead>\n",
       "    <tr style=\"text-align: right;\">\n",
       "      <th></th>\n",
       "      <th>Unnamed: 0</th>\n",
       "      <th>amdission_age</th>\n",
       "      <th>gender</th>\n",
       "      <th>tempc_mean</th>\n",
       "      <th>spo2_mean</th>\n",
       "      <th>resprate_mean</th>\n",
       "      <th>creatinine_mean</th>\n",
       "      <th>potassium_mean</th>\n",
       "      <th>bicarbonate_mean</th>\n",
       "      <th>hematocrit_mean</th>\n",
       "      <th>glucose_mean</th>\n",
       "      <th>lactate_mean</th>\n",
       "      <th>albumin_mean</th>\n",
       "      <th>hemoglobin_mean</th>\n",
       "      <th>clust</th>\n",
       "      <th>is_AKI</th>\n",
       "    </tr>\n",
       "  </thead>\n",
       "  <tbody>\n",
       "    <tr>\n",
       "      <th>9</th>\n",
       "      <td>9</td>\n",
       "      <td>1.000000</td>\n",
       "      <td>1.0</td>\n",
       "      <td>0.808171</td>\n",
       "      <td>0.932444</td>\n",
       "      <td>0.477072</td>\n",
       "      <td>0.062016</td>\n",
       "      <td>0.260870</td>\n",
       "      <td>0.380952</td>\n",
       "      <td>0.733166</td>\n",
       "      <td>0.130939</td>\n",
       "      <td>0.098699</td>\n",
       "      <td>0.583333</td>\n",
       "      <td>0.763983</td>\n",
       "      <td>4</td>\n",
       "      <td>0</td>\n",
       "    </tr>\n",
       "    <tr>\n",
       "      <th>12</th>\n",
       "      <td>12</td>\n",
       "      <td>0.700402</td>\n",
       "      <td>1.0</td>\n",
       "      <td>0.649975</td>\n",
       "      <td>0.997101</td>\n",
       "      <td>0.269253</td>\n",
       "      <td>0.032558</td>\n",
       "      <td>0.521739</td>\n",
       "      <td>0.404762</td>\n",
       "      <td>0.544368</td>\n",
       "      <td>0.121063</td>\n",
       "      <td>0.055518</td>\n",
       "      <td>0.666667</td>\n",
       "      <td>0.584511</td>\n",
       "      <td>4</td>\n",
       "      <td>0</td>\n",
       "    </tr>\n",
       "    <tr>\n",
       "      <th>23</th>\n",
       "      <td>23</td>\n",
       "      <td>0.892517</td>\n",
       "      <td>1.0</td>\n",
       "      <td>0.793871</td>\n",
       "      <td>0.967742</td>\n",
       "      <td>0.233942</td>\n",
       "      <td>0.048837</td>\n",
       "      <td>0.224638</td>\n",
       "      <td>0.333333</td>\n",
       "      <td>0.490665</td>\n",
       "      <td>0.105771</td>\n",
       "      <td>0.033311</td>\n",
       "      <td>0.619048</td>\n",
       "      <td>0.543946</td>\n",
       "      <td>4</td>\n",
       "      <td>0</td>\n",
       "    </tr>\n",
       "    <tr>\n",
       "      <th>24</th>\n",
       "      <td>24</td>\n",
       "      <td>0.683221</td>\n",
       "      <td>1.0</td>\n",
       "      <td>0.596413</td>\n",
       "      <td>0.992982</td>\n",
       "      <td>0.284203</td>\n",
       "      <td>0.064186</td>\n",
       "      <td>0.228986</td>\n",
       "      <td>0.204762</td>\n",
       "      <td>0.392700</td>\n",
       "      <td>0.261401</td>\n",
       "      <td>0.079782</td>\n",
       "      <td>0.726190</td>\n",
       "      <td>0.420142</td>\n",
       "      <td>4</td>\n",
       "      <td>1</td>\n",
       "    </tr>\n",
       "    <tr>\n",
       "      <th>28</th>\n",
       "      <td>28</td>\n",
       "      <td>0.848262</td>\n",
       "      <td>1.0</td>\n",
       "      <td>0.641256</td>\n",
       "      <td>0.964957</td>\n",
       "      <td>0.477702</td>\n",
       "      <td>0.032558</td>\n",
       "      <td>0.352657</td>\n",
       "      <td>0.468254</td>\n",
       "      <td>0.355570</td>\n",
       "      <td>0.149099</td>\n",
       "      <td>0.116465</td>\n",
       "      <td>0.250000</td>\n",
       "      <td>0.365704</td>\n",
       "      <td>4</td>\n",
       "      <td>1</td>\n",
       "    </tr>\n",
       "  </tbody>\n",
       "</table>\n",
       "</div>"
      ],
      "text/plain": [
       "    Unnamed: 0  amdission_age  gender  tempc_mean  spo2_mean  resprate_mean  \\\n",
       "9            9       1.000000     1.0    0.808171   0.932444       0.477072   \n",
       "12          12       0.700402     1.0    0.649975   0.997101       0.269253   \n",
       "23          23       0.892517     1.0    0.793871   0.967742       0.233942   \n",
       "24          24       0.683221     1.0    0.596413   0.992982       0.284203   \n",
       "28          28       0.848262     1.0    0.641256   0.964957       0.477702   \n",
       "\n",
       "    creatinine_mean  potassium_mean  bicarbonate_mean  hematocrit_mean  \\\n",
       "9          0.062016        0.260870          0.380952         0.733166   \n",
       "12         0.032558        0.521739          0.404762         0.544368   \n",
       "23         0.048837        0.224638          0.333333         0.490665   \n",
       "24         0.064186        0.228986          0.204762         0.392700   \n",
       "28         0.032558        0.352657          0.468254         0.355570   \n",
       "\n",
       "    glucose_mean  lactate_mean  albumin_mean  hemoglobin_mean  clust  is_AKI  \n",
       "9       0.130939      0.098699      0.583333         0.763983      4       0  \n",
       "12      0.121063      0.055518      0.666667         0.584511      4       0  \n",
       "23      0.105771      0.033311      0.619048         0.543946      4       0  \n",
       "24      0.261401      0.079782      0.726190         0.420142      4       1  \n",
       "28      0.149099      0.116465      0.250000         0.365704      4       1  "
      ]
     },
     "execution_count": 198,
     "metadata": {},
     "output_type": "execute_result"
    }
   ],
   "source": [
    "data4.head()"
   ]
  },
  {
   "cell_type": "code",
   "execution_count": 199,
   "metadata": {},
   "outputs": [],
   "source": [
    "t = data4.drop(\"is_AKI\", axis=1)\n",
    "X4 = t.drop('clust', axis = 1)\n",
    "Y4 = data4[\"is_AKI\"]"
   ]
  },
  {
   "cell_type": "code",
   "execution_count": 200,
   "metadata": {},
   "outputs": [
    {
     "data": {
      "text/plain": [
       "(1714, 14)"
      ]
     },
     "execution_count": 200,
     "metadata": {},
     "output_type": "execute_result"
    }
   ],
   "source": [
    "X4.shape"
   ]
  },
  {
   "cell_type": "code",
   "execution_count": 201,
   "metadata": {},
   "outputs": [
    {
     "data": {
      "text/plain": [
       "(1714,)"
      ]
     },
     "execution_count": 201,
     "metadata": {},
     "output_type": "execute_result"
    }
   ],
   "source": [
    "Y4.shape"
   ]
  },
  {
   "cell_type": "code",
   "execution_count": 202,
   "metadata": {},
   "outputs": [],
   "source": [
    "from sklearn.model_selection import train_test_split"
   ]
  },
  {
   "cell_type": "code",
   "execution_count": 203,
   "metadata": {},
   "outputs": [],
   "source": [
    "X_train, X_test, y_train, y_test = train_test_split(X4,Y4, test_size=0.3, random_state=1)"
   ]
  },
  {
   "cell_type": "code",
   "execution_count": 204,
   "metadata": {},
   "outputs": [],
   "source": [
    "from sklearn.linear_model import LogisticRegression"
   ]
  },
  {
   "cell_type": "code",
   "execution_count": 205,
   "metadata": {},
   "outputs": [],
   "source": [
    "logmodel = LogisticRegression()"
   ]
  },
  {
   "cell_type": "code",
   "execution_count": 206,
   "metadata": {},
   "outputs": [
    {
     "data": {
      "text/plain": [
       "LogisticRegression(C=1.0, class_weight=None, dual=False, fit_intercept=True,\n",
       "          intercept_scaling=1, max_iter=100, multi_class='warn',\n",
       "          n_jobs=None, penalty='l2', random_state=None, solver='warn',\n",
       "          tol=0.0001, verbose=0, warm_start=False)"
      ]
     },
     "execution_count": 206,
     "metadata": {},
     "output_type": "execute_result"
    }
   ],
   "source": [
    "logmodel.fit(X_train, y_train)"
   ]
  },
  {
   "cell_type": "code",
   "execution_count": 207,
   "metadata": {},
   "outputs": [],
   "source": [
    "predictions = logmodel.predict(X_test)"
   ]
  },
  {
   "cell_type": "code",
   "execution_count": 208,
   "metadata": {},
   "outputs": [],
   "source": [
    "from sklearn.metrics import classification_report"
   ]
  },
  {
   "cell_type": "code",
   "execution_count": 209,
   "metadata": {},
   "outputs": [
    {
     "data": {
      "text/plain": [
       "u'              precision    recall  f1-score   support\\n\\n           0       0.54      0.92      0.68       260\\n           1       0.71      0.21      0.33       255\\n\\n   micro avg       0.57      0.57      0.57       515\\n   macro avg       0.63      0.56      0.50       515\\nweighted avg       0.63      0.57      0.51       515\\n'"
      ]
     },
     "execution_count": 209,
     "metadata": {},
     "output_type": "execute_result"
    }
   ],
   "source": [
    "classification_report(y_test, predictions)"
   ]
  },
  {
   "cell_type": "code",
   "execution_count": 210,
   "metadata": {},
   "outputs": [],
   "source": [
    "from sklearn.metrics import confusion_matrix"
   ]
  },
  {
   "cell_type": "code",
   "execution_count": 211,
   "metadata": {},
   "outputs": [
    {
     "data": {
      "text/plain": [
       "array([[238,  22],\n",
       "       [201,  54]])"
      ]
     },
     "execution_count": 211,
     "metadata": {},
     "output_type": "execute_result"
    }
   ],
   "source": [
    "confusion_matrix(y_test, predictions)"
   ]
  },
  {
   "cell_type": "markdown",
   "metadata": {},
   "source": [
    "### Calculate Accuracy"
   ]
  },
  {
   "cell_type": "code",
   "execution_count": 212,
   "metadata": {},
   "outputs": [],
   "source": [
    "from sklearn.metrics import accuracy_score"
   ]
  },
  {
   "cell_type": "code",
   "execution_count": 213,
   "metadata": {},
   "outputs": [
    {
     "data": {
      "text/plain": [
       "0.566990291262136"
      ]
     },
     "execution_count": 213,
     "metadata": {},
     "output_type": "execute_result"
    }
   ],
   "source": [
    "accuracy_score(y_test, predictions)"
   ]
  },
  {
   "cell_type": "code",
   "execution_count": null,
   "metadata": {},
   "outputs": [],
   "source": []
  },
  {
   "cell_type": "code",
   "execution_count": null,
   "metadata": {},
   "outputs": [],
   "source": []
  },
  {
   "cell_type": "code",
   "execution_count": null,
   "metadata": {},
   "outputs": [],
   "source": []
  },
  {
   "cell_type": "code",
   "execution_count": null,
   "metadata": {},
   "outputs": [],
   "source": []
  },
  {
   "cell_type": "code",
   "execution_count": null,
   "metadata": {},
   "outputs": [],
   "source": []
  }
 ],
 "metadata": {
  "kernelspec": {
   "display_name": "Python 2",
   "language": "python",
   "name": "python2"
  },
  "language_info": {
   "codemirror_mode": {
    "name": "ipython",
    "version": 2
   },
   "file_extension": ".py",
   "mimetype": "text/x-python",
   "name": "python",
   "nbconvert_exporter": "python",
   "pygments_lexer": "ipython2",
   "version": "2.7.15"
  }
 },
 "nbformat": 4,
 "nbformat_minor": 2
}
