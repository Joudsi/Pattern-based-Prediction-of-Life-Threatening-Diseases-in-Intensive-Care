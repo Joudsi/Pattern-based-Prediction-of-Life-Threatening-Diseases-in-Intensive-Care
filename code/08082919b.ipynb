{
 "cells": [
  {
   "cell_type": "markdown",
   "metadata": {},
   "source": [
    "# Cluster Based Analysis for Patients with out BB"
   ]
  },
  {
   "cell_type": "code",
   "execution_count": 1,
   "metadata": {},
   "outputs": [],
   "source": [
    "import pandas as pd\n",
    "import numpy as np\n",
    "import seaborn as sns\n",
    "import matplotlib.pyplot as plt\n",
    "import math\n",
    "\n",
    "% matplotlib inline"
   ]
  },
  {
   "cell_type": "code",
   "execution_count": 2,
   "metadata": {},
   "outputs": [],
   "source": [
    "import pandas as pd\n",
    "data = pd.read_csv(\"/Users/joudsi/Desktop/subdata_not_bb_norm_clustered.csv\")"
   ]
  },
  {
   "cell_type": "code",
   "execution_count": 3,
   "metadata": {},
   "outputs": [
    {
     "data": {
      "text/html": [
       "<div>\n",
       "<style scoped>\n",
       "    .dataframe tbody tr th:only-of-type {\n",
       "        vertical-align: middle;\n",
       "    }\n",
       "\n",
       "    .dataframe tbody tr th {\n",
       "        vertical-align: top;\n",
       "    }\n",
       "\n",
       "    .dataframe thead th {\n",
       "        text-align: right;\n",
       "    }\n",
       "</style>\n",
       "<table border=\"1\" class=\"dataframe\">\n",
       "  <thead>\n",
       "    <tr style=\"text-align: right;\">\n",
       "      <th></th>\n",
       "      <th>Unnamed: 0</th>\n",
       "      <th>amdission_age</th>\n",
       "      <th>gender</th>\n",
       "      <th>tempc_mean</th>\n",
       "      <th>spo2_mean</th>\n",
       "      <th>resprate_mean</th>\n",
       "      <th>creatinine_mean</th>\n",
       "      <th>potassium_mean</th>\n",
       "      <th>bicarbonate_mean</th>\n",
       "      <th>hematocrit_mean</th>\n",
       "      <th>glucose_mean</th>\n",
       "      <th>lactate_mean</th>\n",
       "      <th>albumin_mean</th>\n",
       "      <th>hemoglobin_mean</th>\n",
       "      <th>clust</th>\n",
       "      <th>is_AKI</th>\n",
       "    </tr>\n",
       "  </thead>\n",
       "  <tbody>\n",
       "    <tr>\n",
       "      <th>0</th>\n",
       "      <td>0</td>\n",
       "      <td>0.488717</td>\n",
       "      <td>0.0</td>\n",
       "      <td>0.682906</td>\n",
       "      <td>0.952925</td>\n",
       "      <td>0.495046</td>\n",
       "      <td>0.041051</td>\n",
       "      <td>0.403509</td>\n",
       "      <td>0.488372</td>\n",
       "      <td>0.394879</td>\n",
       "      <td>0.092476</td>\n",
       "      <td>0.040731</td>\n",
       "      <td>0.428571</td>\n",
       "      <td>0.358974</td>\n",
       "      <td>0</td>\n",
       "      <td>0</td>\n",
       "    </tr>\n",
       "    <tr>\n",
       "      <th>1</th>\n",
       "      <td>1</td>\n",
       "      <td>0.857449</td>\n",
       "      <td>0.0</td>\n",
       "      <td>0.526844</td>\n",
       "      <td>0.981238</td>\n",
       "      <td>0.316202</td>\n",
       "      <td>0.012315</td>\n",
       "      <td>0.280702</td>\n",
       "      <td>0.476744</td>\n",
       "      <td>0.199340</td>\n",
       "      <td>0.137735</td>\n",
       "      <td>0.077489</td>\n",
       "      <td>0.329670</td>\n",
       "      <td>0.183761</td>\n",
       "      <td>2</td>\n",
       "      <td>1</td>\n",
       "    </tr>\n",
       "    <tr>\n",
       "      <th>2</th>\n",
       "      <td>2</td>\n",
       "      <td>0.593153</td>\n",
       "      <td>0.0</td>\n",
       "      <td>0.585988</td>\n",
       "      <td>0.989232</td>\n",
       "      <td>0.462089</td>\n",
       "      <td>0.190887</td>\n",
       "      <td>0.385965</td>\n",
       "      <td>0.174419</td>\n",
       "      <td>0.481896</td>\n",
       "      <td>0.094828</td>\n",
       "      <td>0.020862</td>\n",
       "      <td>0.428571</td>\n",
       "      <td>0.512821</td>\n",
       "      <td>0</td>\n",
       "      <td>1</td>\n",
       "    </tr>\n",
       "    <tr>\n",
       "      <th>3</th>\n",
       "      <td>3</td>\n",
       "      <td>0.599880</td>\n",
       "      <td>0.0</td>\n",
       "      <td>0.344937</td>\n",
       "      <td>0.996756</td>\n",
       "      <td>0.188622</td>\n",
       "      <td>0.025999</td>\n",
       "      <td>0.397661</td>\n",
       "      <td>0.418605</td>\n",
       "      <td>0.430886</td>\n",
       "      <td>0.200627</td>\n",
       "      <td>0.064574</td>\n",
       "      <td>0.576923</td>\n",
       "      <td>0.504274</td>\n",
       "      <td>2</td>\n",
       "      <td>0</td>\n",
       "    </tr>\n",
       "    <tr>\n",
       "      <th>4</th>\n",
       "      <td>4</td>\n",
       "      <td>1.000000</td>\n",
       "      <td>0.0</td>\n",
       "      <td>0.557659</td>\n",
       "      <td>0.936510</td>\n",
       "      <td>0.400152</td>\n",
       "      <td>0.073892</td>\n",
       "      <td>0.429825</td>\n",
       "      <td>0.430233</td>\n",
       "      <td>0.482897</td>\n",
       "      <td>0.150666</td>\n",
       "      <td>0.100338</td>\n",
       "      <td>0.318681</td>\n",
       "      <td>0.528846</td>\n",
       "      <td>2</td>\n",
       "      <td>1</td>\n",
       "    </tr>\n",
       "  </tbody>\n",
       "</table>\n",
       "</div>"
      ],
      "text/plain": [
       "   Unnamed: 0  amdission_age  gender  tempc_mean  spo2_mean  resprate_mean  \\\n",
       "0           0       0.488717     0.0    0.682906   0.952925       0.495046   \n",
       "1           1       0.857449     0.0    0.526844   0.981238       0.316202   \n",
       "2           2       0.593153     0.0    0.585988   0.989232       0.462089   \n",
       "3           3       0.599880     0.0    0.344937   0.996756       0.188622   \n",
       "4           4       1.000000     0.0    0.557659   0.936510       0.400152   \n",
       "\n",
       "   creatinine_mean  potassium_mean  bicarbonate_mean  hematocrit_mean  \\\n",
       "0         0.041051        0.403509          0.488372         0.394879   \n",
       "1         0.012315        0.280702          0.476744         0.199340   \n",
       "2         0.190887        0.385965          0.174419         0.481896   \n",
       "3         0.025999        0.397661          0.418605         0.430886   \n",
       "4         0.073892        0.429825          0.430233         0.482897   \n",
       "\n",
       "   glucose_mean  lactate_mean  albumin_mean  hemoglobin_mean  clust  is_AKI  \n",
       "0      0.092476      0.040731      0.428571         0.358974      0       0  \n",
       "1      0.137735      0.077489      0.329670         0.183761      2       1  \n",
       "2      0.094828      0.020862      0.428571         0.512821      0       1  \n",
       "3      0.200627      0.064574      0.576923         0.504274      2       0  \n",
       "4      0.150666      0.100338      0.318681         0.528846      2       1  "
      ]
     },
     "execution_count": 3,
     "metadata": {},
     "output_type": "execute_result"
    }
   ],
   "source": [
    "data.head()"
   ]
  },
  {
   "cell_type": "code",
   "execution_count": 4,
   "metadata": {},
   "outputs": [
    {
     "name": "stdout",
     "output_type": "stream",
     "text": [
      "('# of observations: ', '6470')\n"
     ]
    }
   ],
   "source": [
    "print(\"# of observations: \", str(len(data.index)))"
   ]
  },
  {
   "cell_type": "code",
   "execution_count": 5,
   "metadata": {},
   "outputs": [
    {
     "name": "stdout",
     "output_type": "stream",
     "text": [
      "<class 'pandas.core.frame.DataFrame'>\n",
      "RangeIndex: 6470 entries, 0 to 6469\n",
      "Data columns (total 16 columns):\n",
      "Unnamed: 0          6470 non-null int64\n",
      "amdission_age       6470 non-null float64\n",
      "gender              6470 non-null float64\n",
      "tempc_mean          6470 non-null float64\n",
      "spo2_mean           6470 non-null float64\n",
      "resprate_mean       6470 non-null float64\n",
      "creatinine_mean     6470 non-null float64\n",
      "potassium_mean      6470 non-null float64\n",
      "bicarbonate_mean    6470 non-null float64\n",
      "hematocrit_mean     6470 non-null float64\n",
      "glucose_mean        6470 non-null float64\n",
      "lactate_mean        6470 non-null float64\n",
      "albumin_mean        6470 non-null float64\n",
      "hemoglobin_mean     6470 non-null float64\n",
      "clust               6470 non-null int64\n",
      "is_AKI              6470 non-null int64\n",
      "dtypes: float64(13), int64(3)\n",
      "memory usage: 808.8 KB\n"
     ]
    }
   ],
   "source": [
    "data.info()"
   ]
  },
  {
   "cell_type": "code",
   "execution_count": 6,
   "metadata": {
    "scrolled": true
   },
   "outputs": [
    {
     "data": {
      "text/plain": [
       "<matplotlib.axes._subplots.AxesSubplot at 0x1a212af150>"
      ]
     },
     "execution_count": 6,
     "metadata": {},
     "output_type": "execute_result"
    },
    {
     "data": {
      "image/png": "[encoded data removed]",
      "text/plain": [
       "<Figure size 432x288 with 1 Axes>"
      ]
     },
     "metadata": {
      "needs_background": "light"
     },
     "output_type": "display_data"
    }
   ],
   "source": [
    "sns.countplot(x=\"is_AKI\", hue=\"clust\",data=data)"
   ]
  },
  {
   "cell_type": "markdown",
   "metadata": {},
   "source": [
    "## LR Analysis C0"
   ]
  },
  {
   "cell_type": "code",
   "execution_count": 7,
   "metadata": {
    "scrolled": true
   },
   "outputs": [
    {
     "data": {
      "text/html": [
       "<div>\n",
       "<style scoped>\n",
       "    .dataframe tbody tr th:only-of-type {\n",
       "        vertical-align: middle;\n",
       "    }\n",
       "\n",
       "    .dataframe tbody tr th {\n",
       "        vertical-align: top;\n",
       "    }\n",
       "\n",
       "    .dataframe thead th {\n",
       "        text-align: right;\n",
       "    }\n",
       "</style>\n",
       "<table border=\"1\" class=\"dataframe\">\n",
       "  <thead>\n",
       "    <tr style=\"text-align: right;\">\n",
       "      <th></th>\n",
       "      <th>Unnamed: 0</th>\n",
       "      <th>amdission_age</th>\n",
       "      <th>gender</th>\n",
       "      <th>tempc_mean</th>\n",
       "      <th>spo2_mean</th>\n",
       "      <th>resprate_mean</th>\n",
       "      <th>creatinine_mean</th>\n",
       "      <th>potassium_mean</th>\n",
       "      <th>bicarbonate_mean</th>\n",
       "      <th>hematocrit_mean</th>\n",
       "      <th>glucose_mean</th>\n",
       "      <th>lactate_mean</th>\n",
       "      <th>albumin_mean</th>\n",
       "      <th>hemoglobin_mean</th>\n",
       "      <th>clust</th>\n",
       "      <th>is_AKI</th>\n",
       "    </tr>\n",
       "  </thead>\n",
       "  <tbody>\n",
       "    <tr>\n",
       "      <th>0</th>\n",
       "      <td>0</td>\n",
       "      <td>0.488717</td>\n",
       "      <td>0.0</td>\n",
       "      <td>0.682906</td>\n",
       "      <td>0.952925</td>\n",
       "      <td>0.495046</td>\n",
       "      <td>0.041051</td>\n",
       "      <td>0.403509</td>\n",
       "      <td>0.488372</td>\n",
       "      <td>0.394879</td>\n",
       "      <td>0.092476</td>\n",
       "      <td>0.040731</td>\n",
       "      <td>0.428571</td>\n",
       "      <td>0.358974</td>\n",
       "      <td>0</td>\n",
       "      <td>0</td>\n",
       "    </tr>\n",
       "    <tr>\n",
       "      <th>1</th>\n",
       "      <td>1</td>\n",
       "      <td>0.857449</td>\n",
       "      <td>0.0</td>\n",
       "      <td>0.526844</td>\n",
       "      <td>0.981238</td>\n",
       "      <td>0.316202</td>\n",
       "      <td>0.012315</td>\n",
       "      <td>0.280702</td>\n",
       "      <td>0.476744</td>\n",
       "      <td>0.199340</td>\n",
       "      <td>0.137735</td>\n",
       "      <td>0.077489</td>\n",
       "      <td>0.329670</td>\n",
       "      <td>0.183761</td>\n",
       "      <td>2</td>\n",
       "      <td>1</td>\n",
       "    </tr>\n",
       "    <tr>\n",
       "      <th>2</th>\n",
       "      <td>2</td>\n",
       "      <td>0.593153</td>\n",
       "      <td>0.0</td>\n",
       "      <td>0.585988</td>\n",
       "      <td>0.989232</td>\n",
       "      <td>0.462089</td>\n",
       "      <td>0.190887</td>\n",
       "      <td>0.385965</td>\n",
       "      <td>0.174419</td>\n",
       "      <td>0.481896</td>\n",
       "      <td>0.094828</td>\n",
       "      <td>0.020862</td>\n",
       "      <td>0.428571</td>\n",
       "      <td>0.512821</td>\n",
       "      <td>0</td>\n",
       "      <td>1</td>\n",
       "    </tr>\n",
       "    <tr>\n",
       "      <th>3</th>\n",
       "      <td>3</td>\n",
       "      <td>0.599880</td>\n",
       "      <td>0.0</td>\n",
       "      <td>0.344937</td>\n",
       "      <td>0.996756</td>\n",
       "      <td>0.188622</td>\n",
       "      <td>0.025999</td>\n",
       "      <td>0.397661</td>\n",
       "      <td>0.418605</td>\n",
       "      <td>0.430886</td>\n",
       "      <td>0.200627</td>\n",
       "      <td>0.064574</td>\n",
       "      <td>0.576923</td>\n",
       "      <td>0.504274</td>\n",
       "      <td>2</td>\n",
       "      <td>0</td>\n",
       "    </tr>\n",
       "    <tr>\n",
       "      <th>4</th>\n",
       "      <td>4</td>\n",
       "      <td>1.000000</td>\n",
       "      <td>0.0</td>\n",
       "      <td>0.557659</td>\n",
       "      <td>0.936510</td>\n",
       "      <td>0.400152</td>\n",
       "      <td>0.073892</td>\n",
       "      <td>0.429825</td>\n",
       "      <td>0.430233</td>\n",
       "      <td>0.482897</td>\n",
       "      <td>0.150666</td>\n",
       "      <td>0.100338</td>\n",
       "      <td>0.318681</td>\n",
       "      <td>0.528846</td>\n",
       "      <td>2</td>\n",
       "      <td>1</td>\n",
       "    </tr>\n",
       "  </tbody>\n",
       "</table>\n",
       "</div>"
      ],
      "text/plain": [
       "   Unnamed: 0  amdission_age  gender  tempc_mean  spo2_mean  resprate_mean  \\\n",
       "0           0       0.488717     0.0    0.682906   0.952925       0.495046   \n",
       "1           1       0.857449     0.0    0.526844   0.981238       0.316202   \n",
       "2           2       0.593153     0.0    0.585988   0.989232       0.462089   \n",
       "3           3       0.599880     0.0    0.344937   0.996756       0.188622   \n",
       "4           4       1.000000     0.0    0.557659   0.936510       0.400152   \n",
       "\n",
       "   creatinine_mean  potassium_mean  bicarbonate_mean  hematocrit_mean  \\\n",
       "0         0.041051        0.403509          0.488372         0.394879   \n",
       "1         0.012315        0.280702          0.476744         0.199340   \n",
       "2         0.190887        0.385965          0.174419         0.481896   \n",
       "3         0.025999        0.397661          0.418605         0.430886   \n",
       "4         0.073892        0.429825          0.430233         0.482897   \n",
       "\n",
       "   glucose_mean  lactate_mean  albumin_mean  hemoglobin_mean  clust  is_AKI  \n",
       "0      0.092476      0.040731      0.428571         0.358974      0       0  \n",
       "1      0.137735      0.077489      0.329670         0.183761      2       1  \n",
       "2      0.094828      0.020862      0.428571         0.512821      0       1  \n",
       "3      0.200627      0.064574      0.576923         0.504274      2       0  \n",
       "4      0.150666      0.100338      0.318681         0.528846      2       1  "
      ]
     },
     "execution_count": 7,
     "metadata": {},
     "output_type": "execute_result"
    }
   ],
   "source": [
    "data.head()"
   ]
  },
  {
   "cell_type": "code",
   "execution_count": 8,
   "metadata": {},
   "outputs": [],
   "source": [
    "data0 = data[data['clust']==0]"
   ]
  },
  {
   "cell_type": "code",
   "execution_count": 9,
   "metadata": {},
   "outputs": [],
   "source": [
    "t = data0.drop(\"is_AKI\", axis=1)\n",
    "X0 = t.drop('clust', axis = 1)\n",
    "Y0 = data0[\"is_AKI\"]"
   ]
  },
  {
   "cell_type": "code",
   "execution_count": null,
   "metadata": {},
   "outputs": [],
   "source": []
  },
  {
   "cell_type": "code",
   "execution_count": 10,
   "metadata": {},
   "outputs": [],
   "source": [
    "from sklearn.model_selection import train_test_split"
   ]
  },
  {
   "cell_type": "code",
   "execution_count": 11,
   "metadata": {},
   "outputs": [],
   "source": [
    "X_train, X_test, y_train, y_test = train_test_split(X0,Y0, test_size=0.3, random_state=1)"
   ]
  },
  {
   "cell_type": "code",
   "execution_count": 12,
   "metadata": {},
   "outputs": [],
   "source": [
    "from sklearn.linear_model import LogisticRegression"
   ]
  },
  {
   "cell_type": "code",
   "execution_count": 13,
   "metadata": {},
   "outputs": [],
   "source": [
    "logmodel = LogisticRegression()"
   ]
  },
  {
   "cell_type": "code",
   "execution_count": 14,
   "metadata": {},
   "outputs": [
    {
     "name": "stderr",
     "output_type": "stream",
     "text": [
      "/anaconda2/lib/python2.7/site-packages/sklearn/linear_model/logistic.py:433: FutureWarning: Default solver will be changed to 'lbfgs' in 0.22. Specify a solver to silence this warning.\n",
      "  FutureWarning)\n"
     ]
    },
    {
     "data": {
      "text/plain": [
       "LogisticRegression(C=1.0, class_weight=None, dual=False, fit_intercept=True,\n",
       "          intercept_scaling=1, max_iter=100, multi_class='warn',\n",
       "          n_jobs=None, penalty='l2', random_state=None, solver='warn',\n",
       "          tol=0.0001, verbose=0, warm_start=False)"
      ]
     },
     "execution_count": 14,
     "metadata": {},
     "output_type": "execute_result"
    }
   ],
   "source": [
    "logmodel.fit(X_train, y_train)"
   ]
  },
  {
   "cell_type": "code",
   "execution_count": 15,
   "metadata": {},
   "outputs": [],
   "source": [
    "predictions = logmodel.predict(X_test)"
   ]
  },
  {
   "cell_type": "code",
   "execution_count": 16,
   "metadata": {},
   "outputs": [],
   "source": [
    "from sklearn.metrics import classification_report"
   ]
  },
  {
   "cell_type": "code",
   "execution_count": 17,
   "metadata": {},
   "outputs": [
    {
     "data": {
      "text/plain": [
       "u'              precision    recall  f1-score   support\\n\\n           0       0.65      1.00      0.78       262\\n           1       0.50      0.01      0.01       143\\n\\n   micro avg       0.65      0.65      0.65       405\\n   macro avg       0.57      0.50      0.40       405\\nweighted avg       0.60      0.65      0.51       405\\n'"
      ]
     },
     "execution_count": 17,
     "metadata": {},
     "output_type": "execute_result"
    }
   ],
   "source": [
    "classification_report(y_test, predictions)"
   ]
  },
  {
   "cell_type": "code",
   "execution_count": 18,
   "metadata": {},
   "outputs": [],
   "source": [
    "from sklearn.metrics import confusion_matrix"
   ]
  },
  {
   "cell_type": "code",
   "execution_count": 19,
   "metadata": {},
   "outputs": [
    {
     "data": {
      "text/plain": [
       "array([[261,   1],\n",
       "       [142,   1]])"
      ]
     },
     "execution_count": 19,
     "metadata": {},
     "output_type": "execute_result"
    }
   ],
   "source": [
    "confusion_matrix(y_test, predictions)"
   ]
  },
  {
   "cell_type": "markdown",
   "metadata": {},
   "source": [
    "### Calculate Accuracy"
   ]
  },
  {
   "cell_type": "code",
   "execution_count": 20,
   "metadata": {},
   "outputs": [],
   "source": [
    "from sklearn.metrics import accuracy_score"
   ]
  },
  {
   "cell_type": "code",
   "execution_count": 21,
   "metadata": {},
   "outputs": [
    {
     "data": {
      "text/plain": [
       "0.6469135802469136"
      ]
     },
     "execution_count": 21,
     "metadata": {},
     "output_type": "execute_result"
    }
   ],
   "source": [
    "accuracy_score(y_test, predictions)"
   ]
  },
  {
   "cell_type": "markdown",
   "metadata": {},
   "source": [
    "## LR Analysis C1"
   ]
  },
  {
   "cell_type": "code",
   "execution_count": 22,
   "metadata": {},
   "outputs": [],
   "source": [
    "data1 = data[data['clust']==1]"
   ]
  },
  {
   "cell_type": "code",
   "execution_count": 23,
   "metadata": {},
   "outputs": [
    {
     "data": {
      "text/html": [
       "<div>\n",
       "<style scoped>\n",
       "    .dataframe tbody tr th:only-of-type {\n",
       "        vertical-align: middle;\n",
       "    }\n",
       "\n",
       "    .dataframe tbody tr th {\n",
       "        vertical-align: top;\n",
       "    }\n",
       "\n",
       "    .dataframe thead th {\n",
       "        text-align: right;\n",
       "    }\n",
       "</style>\n",
       "<table border=\"1\" class=\"dataframe\">\n",
       "  <thead>\n",
       "    <tr style=\"text-align: right;\">\n",
       "      <th></th>\n",
       "      <th>Unnamed: 0</th>\n",
       "      <th>amdission_age</th>\n",
       "      <th>gender</th>\n",
       "      <th>tempc_mean</th>\n",
       "      <th>spo2_mean</th>\n",
       "      <th>resprate_mean</th>\n",
       "      <th>creatinine_mean</th>\n",
       "      <th>potassium_mean</th>\n",
       "      <th>bicarbonate_mean</th>\n",
       "      <th>hematocrit_mean</th>\n",
       "      <th>glucose_mean</th>\n",
       "      <th>lactate_mean</th>\n",
       "      <th>albumin_mean</th>\n",
       "      <th>hemoglobin_mean</th>\n",
       "      <th>clust</th>\n",
       "      <th>is_AKI</th>\n",
       "    </tr>\n",
       "  </thead>\n",
       "  <tbody>\n",
       "    <tr>\n",
       "      <th>8</th>\n",
       "      <td>8</td>\n",
       "      <td>0.779984</td>\n",
       "      <td>1.0</td>\n",
       "      <td>0.588473</td>\n",
       "      <td>0.976018</td>\n",
       "      <td>0.452545</td>\n",
       "      <td>0.032841</td>\n",
       "      <td>0.342105</td>\n",
       "      <td>0.406977</td>\n",
       "      <td>0.432887</td>\n",
       "      <td>0.140674</td>\n",
       "      <td>0.060600</td>\n",
       "      <td>0.384615</td>\n",
       "      <td>0.427885</td>\n",
       "      <td>1</td>\n",
       "      <td>0</td>\n",
       "    </tr>\n",
       "    <tr>\n",
       "      <th>15</th>\n",
       "      <td>15</td>\n",
       "      <td>0.903341</td>\n",
       "      <td>1.0</td>\n",
       "      <td>0.492053</td>\n",
       "      <td>0.975439</td>\n",
       "      <td>0.385737</td>\n",
       "      <td>0.090312</td>\n",
       "      <td>0.385965</td>\n",
       "      <td>0.386047</td>\n",
       "      <td>0.518618</td>\n",
       "      <td>0.217085</td>\n",
       "      <td>0.074328</td>\n",
       "      <td>0.285714</td>\n",
       "      <td>0.490842</td>\n",
       "      <td>1</td>\n",
       "      <td>1</td>\n",
       "    </tr>\n",
       "    <tr>\n",
       "      <th>22</th>\n",
       "      <td>22</td>\n",
       "      <td>0.805191</td>\n",
       "      <td>1.0</td>\n",
       "      <td>0.867795</td>\n",
       "      <td>0.884615</td>\n",
       "      <td>0.341681</td>\n",
       "      <td>0.032841</td>\n",
       "      <td>0.149123</td>\n",
       "      <td>0.267442</td>\n",
       "      <td>0.305861</td>\n",
       "      <td>0.176528</td>\n",
       "      <td>0.217564</td>\n",
       "      <td>0.252747</td>\n",
       "      <td>0.317308</td>\n",
       "      <td>1</td>\n",
       "      <td>0</td>\n",
       "    </tr>\n",
       "    <tr>\n",
       "      <th>23</th>\n",
       "      <td>23</td>\n",
       "      <td>0.811149</td>\n",
       "      <td>1.0</td>\n",
       "      <td>0.648115</td>\n",
       "      <td>0.952962</td>\n",
       "      <td>0.459277</td>\n",
       "      <td>0.137521</td>\n",
       "      <td>0.491228</td>\n",
       "      <td>0.546512</td>\n",
       "      <td>0.362873</td>\n",
       "      <td>0.210619</td>\n",
       "      <td>0.018875</td>\n",
       "      <td>0.483516</td>\n",
       "      <td>0.365385</td>\n",
       "      <td>1</td>\n",
       "      <td>1</td>\n",
       "    </tr>\n",
       "    <tr>\n",
       "      <th>24</th>\n",
       "      <td>24</td>\n",
       "      <td>0.894989</td>\n",
       "      <td>1.0</td>\n",
       "      <td>0.587479</td>\n",
       "      <td>0.953259</td>\n",
       "      <td>0.494300</td>\n",
       "      <td>0.045156</td>\n",
       "      <td>0.447368</td>\n",
       "      <td>0.488372</td>\n",
       "      <td>0.381876</td>\n",
       "      <td>0.135972</td>\n",
       "      <td>0.068548</td>\n",
       "      <td>0.373626</td>\n",
       "      <td>0.391026</td>\n",
       "      <td>1</td>\n",
       "      <td>0</td>\n",
       "    </tr>\n",
       "  </tbody>\n",
       "</table>\n",
       "</div>"
      ],
      "text/plain": [
       "    Unnamed: 0  amdission_age  gender  tempc_mean  spo2_mean  resprate_mean  \\\n",
       "8            8       0.779984     1.0    0.588473   0.976018       0.452545   \n",
       "15          15       0.903341     1.0    0.492053   0.975439       0.385737   \n",
       "22          22       0.805191     1.0    0.867795   0.884615       0.341681   \n",
       "23          23       0.811149     1.0    0.648115   0.952962       0.459277   \n",
       "24          24       0.894989     1.0    0.587479   0.953259       0.494300   \n",
       "\n",
       "    creatinine_mean  potassium_mean  bicarbonate_mean  hematocrit_mean  \\\n",
       "8          0.032841        0.342105          0.406977         0.432887   \n",
       "15         0.090312        0.385965          0.386047         0.518618   \n",
       "22         0.032841        0.149123          0.267442         0.305861   \n",
       "23         0.137521        0.491228          0.546512         0.362873   \n",
       "24         0.045156        0.447368          0.488372         0.381876   \n",
       "\n",
       "    glucose_mean  lactate_mean  albumin_mean  hemoglobin_mean  clust  is_AKI  \n",
       "8       0.140674      0.060600      0.384615         0.427885      1       0  \n",
       "15      0.217085      0.074328      0.285714         0.490842      1       1  \n",
       "22      0.176528      0.217564      0.252747         0.317308      1       0  \n",
       "23      0.210619      0.018875      0.483516         0.365385      1       1  \n",
       "24      0.135972      0.068548      0.373626         0.391026      1       0  "
      ]
     },
     "execution_count": 23,
     "metadata": {},
     "output_type": "execute_result"
    }
   ],
   "source": [
    "data1.head()"
   ]
  },
  {
   "cell_type": "code",
   "execution_count": 24,
   "metadata": {},
   "outputs": [],
   "source": [
    "t = data1.drop(\"is_AKI\", axis=1)\n",
    "X1 = t.drop('clust', axis = 1)\n",
    "Y1 = data1[\"is_AKI\"]"
   ]
  },
  {
   "cell_type": "code",
   "execution_count": 25,
   "metadata": {},
   "outputs": [
    {
     "data": {
      "text/plain": [
       "(1870, 14)"
      ]
     },
     "execution_count": 25,
     "metadata": {},
     "output_type": "execute_result"
    }
   ],
   "source": [
    "X1.shape"
   ]
  },
  {
   "cell_type": "code",
   "execution_count": 26,
   "metadata": {},
   "outputs": [
    {
     "data": {
      "text/plain": [
       "(1870,)"
      ]
     },
     "execution_count": 26,
     "metadata": {},
     "output_type": "execute_result"
    }
   ],
   "source": [
    "Y1.shape"
   ]
  },
  {
   "cell_type": "code",
   "execution_count": 27,
   "metadata": {},
   "outputs": [],
   "source": [
    "from sklearn.model_selection import train_test_split"
   ]
  },
  {
   "cell_type": "code",
   "execution_count": 28,
   "metadata": {},
   "outputs": [],
   "source": [
    "X_train, X_test, y_train, y_test = train_test_split(X1,Y1, test_size=0.3, random_state=1)"
   ]
  },
  {
   "cell_type": "code",
   "execution_count": 29,
   "metadata": {},
   "outputs": [],
   "source": [
    "from sklearn.linear_model import LogisticRegression"
   ]
  },
  {
   "cell_type": "code",
   "execution_count": 30,
   "metadata": {},
   "outputs": [],
   "source": [
    "logmodel = LogisticRegression()"
   ]
  },
  {
   "cell_type": "code",
   "execution_count": 31,
   "metadata": {},
   "outputs": [
    {
     "data": {
      "text/plain": [
       "LogisticRegression(C=1.0, class_weight=None, dual=False, fit_intercept=True,\n",
       "          intercept_scaling=1, max_iter=100, multi_class='warn',\n",
       "          n_jobs=None, penalty='l2', random_state=None, solver='warn',\n",
       "          tol=0.0001, verbose=0, warm_start=False)"
      ]
     },
     "execution_count": 31,
     "metadata": {},
     "output_type": "execute_result"
    }
   ],
   "source": [
    "logmodel.fit(X_train, y_train)"
   ]
  },
  {
   "cell_type": "code",
   "execution_count": 32,
   "metadata": {},
   "outputs": [],
   "source": [
    "predictions = logmodel.predict(X_test)"
   ]
  },
  {
   "cell_type": "code",
   "execution_count": 33,
   "metadata": {},
   "outputs": [],
   "source": [
    "from sklearn.metrics import classification_report"
   ]
  },
  {
   "cell_type": "code",
   "execution_count": 34,
   "metadata": {},
   "outputs": [
    {
     "data": {
      "text/plain": [
       "u'              precision    recall  f1-score   support\\n\\n           0       0.58      0.73      0.65       313\\n           1       0.50      0.34      0.41       248\\n\\n   micro avg       0.56      0.56      0.56       561\\n   macro avg       0.54      0.54      0.53       561\\nweighted avg       0.55      0.56      0.54       561\\n'"
      ]
     },
     "execution_count": 34,
     "metadata": {},
     "output_type": "execute_result"
    }
   ],
   "source": [
    "classification_report(y_test, predictions)"
   ]
  },
  {
   "cell_type": "code",
   "execution_count": 35,
   "metadata": {},
   "outputs": [],
   "source": [
    "from sklearn.metrics import confusion_matrix"
   ]
  },
  {
   "cell_type": "code",
   "execution_count": 36,
   "metadata": {},
   "outputs": [
    {
     "data": {
      "text/plain": [
       "array([[229,  84],\n",
       "       [163,  85]])"
      ]
     },
     "execution_count": 36,
     "metadata": {},
     "output_type": "execute_result"
    }
   ],
   "source": [
    "confusion_matrix(y_test, predictions)"
   ]
  },
  {
   "cell_type": "markdown",
   "metadata": {},
   "source": [
    "### Calculate Accuracy"
   ]
  },
  {
   "cell_type": "code",
   "execution_count": 37,
   "metadata": {},
   "outputs": [],
   "source": [
    "from sklearn.metrics import accuracy_score"
   ]
  },
  {
   "cell_type": "code",
   "execution_count": 38,
   "metadata": {},
   "outputs": [
    {
     "data": {
      "text/plain": [
       "0.5597147950089126"
      ]
     },
     "execution_count": 38,
     "metadata": {},
     "output_type": "execute_result"
    }
   ],
   "source": [
    "accuracy_score(y_test, predictions)"
   ]
  },
  {
   "cell_type": "markdown",
   "metadata": {},
   "source": [
    "## LR Analysis C2"
   ]
  },
  {
   "cell_type": "code",
   "execution_count": 39,
   "metadata": {},
   "outputs": [],
   "source": [
    "data2 = data[data['clust']==2]"
   ]
  },
  {
   "cell_type": "code",
   "execution_count": 40,
   "metadata": {},
   "outputs": [
    {
     "data": {
      "text/html": [
       "<div>\n",
       "<style scoped>\n",
       "    .dataframe tbody tr th:only-of-type {\n",
       "        vertical-align: middle;\n",
       "    }\n",
       "\n",
       "    .dataframe tbody tr th {\n",
       "        vertical-align: top;\n",
       "    }\n",
       "\n",
       "    .dataframe thead th {\n",
       "        text-align: right;\n",
       "    }\n",
       "</style>\n",
       "<table border=\"1\" class=\"dataframe\">\n",
       "  <thead>\n",
       "    <tr style=\"text-align: right;\">\n",
       "      <th></th>\n",
       "      <th>Unnamed: 0</th>\n",
       "      <th>amdission_age</th>\n",
       "      <th>gender</th>\n",
       "      <th>tempc_mean</th>\n",
       "      <th>spo2_mean</th>\n",
       "      <th>resprate_mean</th>\n",
       "      <th>creatinine_mean</th>\n",
       "      <th>potassium_mean</th>\n",
       "      <th>bicarbonate_mean</th>\n",
       "      <th>hematocrit_mean</th>\n",
       "      <th>glucose_mean</th>\n",
       "      <th>lactate_mean</th>\n",
       "      <th>albumin_mean</th>\n",
       "      <th>hemoglobin_mean</th>\n",
       "      <th>clust</th>\n",
       "      <th>is_AKI</th>\n",
       "    </tr>\n",
       "  </thead>\n",
       "  <tbody>\n",
       "    <tr>\n",
       "      <th>1</th>\n",
       "      <td>1</td>\n",
       "      <td>0.857449</td>\n",
       "      <td>0.0</td>\n",
       "      <td>0.526844</td>\n",
       "      <td>0.981238</td>\n",
       "      <td>0.316202</td>\n",
       "      <td>0.012315</td>\n",
       "      <td>0.280702</td>\n",
       "      <td>0.476744</td>\n",
       "      <td>0.199340</td>\n",
       "      <td>0.137735</td>\n",
       "      <td>0.077489</td>\n",
       "      <td>0.329670</td>\n",
       "      <td>0.183761</td>\n",
       "      <td>2</td>\n",
       "      <td>1</td>\n",
       "    </tr>\n",
       "    <tr>\n",
       "      <th>3</th>\n",
       "      <td>3</td>\n",
       "      <td>0.599880</td>\n",
       "      <td>0.0</td>\n",
       "      <td>0.344937</td>\n",
       "      <td>0.996756</td>\n",
       "      <td>0.188622</td>\n",
       "      <td>0.025999</td>\n",
       "      <td>0.397661</td>\n",
       "      <td>0.418605</td>\n",
       "      <td>0.430886</td>\n",
       "      <td>0.200627</td>\n",
       "      <td>0.064574</td>\n",
       "      <td>0.576923</td>\n",
       "      <td>0.504274</td>\n",
       "      <td>2</td>\n",
       "      <td>0</td>\n",
       "    </tr>\n",
       "    <tr>\n",
       "      <th>4</th>\n",
       "      <td>4</td>\n",
       "      <td>1.000000</td>\n",
       "      <td>0.0</td>\n",
       "      <td>0.557659</td>\n",
       "      <td>0.936510</td>\n",
       "      <td>0.400152</td>\n",
       "      <td>0.073892</td>\n",
       "      <td>0.429825</td>\n",
       "      <td>0.430233</td>\n",
       "      <td>0.482897</td>\n",
       "      <td>0.150666</td>\n",
       "      <td>0.100338</td>\n",
       "      <td>0.318681</td>\n",
       "      <td>0.528846</td>\n",
       "      <td>2</td>\n",
       "      <td>1</td>\n",
       "    </tr>\n",
       "    <tr>\n",
       "      <th>5</th>\n",
       "      <td>5</td>\n",
       "      <td>0.799402</td>\n",
       "      <td>0.0</td>\n",
       "      <td>0.668327</td>\n",
       "      <td>0.982380</td>\n",
       "      <td>0.243293</td>\n",
       "      <td>0.065681</td>\n",
       "      <td>0.327485</td>\n",
       "      <td>0.441860</td>\n",
       "      <td>0.544242</td>\n",
       "      <td>0.143417</td>\n",
       "      <td>0.044705</td>\n",
       "      <td>0.604396</td>\n",
       "      <td>0.598291</td>\n",
       "      <td>2</td>\n",
       "      <td>0</td>\n",
       "    </tr>\n",
       "    <tr>\n",
       "      <th>10</th>\n",
       "      <td>10</td>\n",
       "      <td>0.755258</td>\n",
       "      <td>0.0</td>\n",
       "      <td>0.544239</td>\n",
       "      <td>0.989547</td>\n",
       "      <td>0.333034</td>\n",
       "      <td>0.313629</td>\n",
       "      <td>0.563596</td>\n",
       "      <td>0.298450</td>\n",
       "      <td>0.437221</td>\n",
       "      <td>0.120018</td>\n",
       "      <td>0.042718</td>\n",
       "      <td>0.560440</td>\n",
       "      <td>0.460470</td>\n",
       "      <td>2</td>\n",
       "      <td>1</td>\n",
       "    </tr>\n",
       "  </tbody>\n",
       "</table>\n",
       "</div>"
      ],
      "text/plain": [
       "    Unnamed: 0  amdission_age  gender  tempc_mean  spo2_mean  resprate_mean  \\\n",
       "1            1       0.857449     0.0    0.526844   0.981238       0.316202   \n",
       "3            3       0.599880     0.0    0.344937   0.996756       0.188622   \n",
       "4            4       1.000000     0.0    0.557659   0.936510       0.400152   \n",
       "5            5       0.799402     0.0    0.668327   0.982380       0.243293   \n",
       "10          10       0.755258     0.0    0.544239   0.989547       0.333034   \n",
       "\n",
       "    creatinine_mean  potassium_mean  bicarbonate_mean  hematocrit_mean  \\\n",
       "1          0.012315        0.280702          0.476744         0.199340   \n",
       "3          0.025999        0.397661          0.418605         0.430886   \n",
       "4          0.073892        0.429825          0.430233         0.482897   \n",
       "5          0.065681        0.327485          0.441860         0.544242   \n",
       "10         0.313629        0.563596          0.298450         0.437221   \n",
       "\n",
       "    glucose_mean  lactate_mean  albumin_mean  hemoglobin_mean  clust  is_AKI  \n",
       "1       0.137735      0.077489      0.329670         0.183761      2       1  \n",
       "3       0.200627      0.064574      0.576923         0.504274      2       0  \n",
       "4       0.150666      0.100338      0.318681         0.528846      2       1  \n",
       "5       0.143417      0.044705      0.604396         0.598291      2       0  \n",
       "10      0.120018      0.042718      0.560440         0.460470      2       1  "
      ]
     },
     "execution_count": 40,
     "metadata": {},
     "output_type": "execute_result"
    }
   ],
   "source": [
    "data2.head()"
   ]
  },
  {
   "cell_type": "code",
   "execution_count": 41,
   "metadata": {},
   "outputs": [],
   "source": [
    "t = data2.drop(\"is_AKI\", axis=1)\n",
    "X2 = t.drop('clust', axis = 1)\n",
    "Y2 = data2[\"is_AKI\"]"
   ]
  },
  {
   "cell_type": "code",
   "execution_count": 42,
   "metadata": {},
   "outputs": [
    {
     "data": {
      "text/plain": [
       "(1986, 14)"
      ]
     },
     "execution_count": 42,
     "metadata": {},
     "output_type": "execute_result"
    }
   ],
   "source": [
    "X2.shape"
   ]
  },
  {
   "cell_type": "code",
   "execution_count": 43,
   "metadata": {},
   "outputs": [
    {
     "data": {
      "text/plain": [
       "(1986,)"
      ]
     },
     "execution_count": 43,
     "metadata": {},
     "output_type": "execute_result"
    }
   ],
   "source": [
    "Y2.shape"
   ]
  },
  {
   "cell_type": "code",
   "execution_count": 44,
   "metadata": {},
   "outputs": [],
   "source": [
    "from sklearn.model_selection import train_test_split"
   ]
  },
  {
   "cell_type": "code",
   "execution_count": 45,
   "metadata": {},
   "outputs": [],
   "source": [
    "X_train, X_test, y_train, y_test = train_test_split(X2,Y2, test_size=0.3, random_state=1)"
   ]
  },
  {
   "cell_type": "code",
   "execution_count": 46,
   "metadata": {},
   "outputs": [],
   "source": [
    "from sklearn.linear_model import LogisticRegression"
   ]
  },
  {
   "cell_type": "code",
   "execution_count": 47,
   "metadata": {},
   "outputs": [],
   "source": [
    "logmodel = LogisticRegression()"
   ]
  },
  {
   "cell_type": "code",
   "execution_count": 48,
   "metadata": {},
   "outputs": [
    {
     "data": {
      "text/plain": [
       "LogisticRegression(C=1.0, class_weight=None, dual=False, fit_intercept=True,\n",
       "          intercept_scaling=1, max_iter=100, multi_class='warn',\n",
       "          n_jobs=None, penalty='l2', random_state=None, solver='warn',\n",
       "          tol=0.0001, verbose=0, warm_start=False)"
      ]
     },
     "execution_count": 48,
     "metadata": {},
     "output_type": "execute_result"
    }
   ],
   "source": [
    "logmodel.fit(X_train, y_train)"
   ]
  },
  {
   "cell_type": "code",
   "execution_count": 49,
   "metadata": {},
   "outputs": [],
   "source": [
    "predictions = logmodel.predict(X_test)"
   ]
  },
  {
   "cell_type": "code",
   "execution_count": 50,
   "metadata": {},
   "outputs": [],
   "source": [
    "from sklearn.metrics import classification_report"
   ]
  },
  {
   "cell_type": "code",
   "execution_count": 51,
   "metadata": {},
   "outputs": [
    {
     "data": {
      "text/plain": [
       "u'              precision    recall  f1-score   support\\n\\n           0       0.58      0.73      0.64       296\\n           1       0.64      0.48      0.55       300\\n\\n   micro avg       0.60      0.60      0.60       596\\n   macro avg       0.61      0.60      0.60       596\\nweighted avg       0.61      0.60      0.60       596\\n'"
      ]
     },
     "execution_count": 51,
     "metadata": {},
     "output_type": "execute_result"
    }
   ],
   "source": [
    "classification_report(y_test, predictions)"
   ]
  },
  {
   "cell_type": "code",
   "execution_count": 52,
   "metadata": {},
   "outputs": [],
   "source": [
    "from sklearn.metrics import confusion_matrix"
   ]
  },
  {
   "cell_type": "code",
   "execution_count": 53,
   "metadata": {},
   "outputs": [
    {
     "data": {
      "text/plain": [
       "array([[215,  81],\n",
       "       [156, 144]])"
      ]
     },
     "execution_count": 53,
     "metadata": {},
     "output_type": "execute_result"
    }
   ],
   "source": [
    "confusion_matrix(y_test, predictions)"
   ]
  },
  {
   "cell_type": "markdown",
   "metadata": {},
   "source": [
    "### Calculate Accuracy"
   ]
  },
  {
   "cell_type": "code",
   "execution_count": 54,
   "metadata": {},
   "outputs": [],
   "source": [
    "from sklearn.metrics import accuracy_score"
   ]
  },
  {
   "cell_type": "code",
   "execution_count": 55,
   "metadata": {},
   "outputs": [
    {
     "data": {
      "text/plain": [
       "0.6023489932885906"
      ]
     },
     "execution_count": 55,
     "metadata": {},
     "output_type": "execute_result"
    }
   ],
   "source": [
    "accuracy_score(y_test, predictions)"
   ]
  },
  {
   "cell_type": "markdown",
   "metadata": {},
   "source": [
    "## LR Analysis C3"
   ]
  },
  {
   "cell_type": "code",
   "execution_count": 56,
   "metadata": {},
   "outputs": [],
   "source": [
    "data3 = data[data['clust']==3]"
   ]
  },
  {
   "cell_type": "code",
   "execution_count": 57,
   "metadata": {},
   "outputs": [
    {
     "data": {
      "text/html": [
       "<div>\n",
       "<style scoped>\n",
       "    .dataframe tbody tr th:only-of-type {\n",
       "        vertical-align: middle;\n",
       "    }\n",
       "\n",
       "    .dataframe tbody tr th {\n",
       "        vertical-align: top;\n",
       "    }\n",
       "\n",
       "    .dataframe thead th {\n",
       "        text-align: right;\n",
       "    }\n",
       "</style>\n",
       "<table border=\"1\" class=\"dataframe\">\n",
       "  <thead>\n",
       "    <tr style=\"text-align: right;\">\n",
       "      <th></th>\n",
       "      <th>Unnamed: 0</th>\n",
       "      <th>amdission_age</th>\n",
       "      <th>gender</th>\n",
       "      <th>tempc_mean</th>\n",
       "      <th>spo2_mean</th>\n",
       "      <th>resprate_mean</th>\n",
       "      <th>creatinine_mean</th>\n",
       "      <th>potassium_mean</th>\n",
       "      <th>bicarbonate_mean</th>\n",
       "      <th>hematocrit_mean</th>\n",
       "      <th>glucose_mean</th>\n",
       "      <th>lactate_mean</th>\n",
       "      <th>albumin_mean</th>\n",
       "      <th>hemoglobin_mean</th>\n",
       "      <th>clust</th>\n",
       "      <th>is_AKI</th>\n",
       "    </tr>\n",
       "  </thead>\n",
       "  <tbody>\n",
       "    <tr>\n",
       "      <th>6</th>\n",
       "      <td>6</td>\n",
       "      <td>0.588504</td>\n",
       "      <td>1.0</td>\n",
       "      <td>0.679924</td>\n",
       "      <td>0.979987</td>\n",
       "      <td>0.256728</td>\n",
       "      <td>0.020525</td>\n",
       "      <td>0.295322</td>\n",
       "      <td>0.403101</td>\n",
       "      <td>0.462492</td>\n",
       "      <td>0.110110</td>\n",
       "      <td>0.083118</td>\n",
       "      <td>0.571429</td>\n",
       "      <td>0.482051</td>\n",
       "      <td>3</td>\n",
       "      <td>0</td>\n",
       "    </tr>\n",
       "    <tr>\n",
       "      <th>11</th>\n",
       "      <td>11</td>\n",
       "      <td>0.457483</td>\n",
       "      <td>1.0</td>\n",
       "      <td>0.653947</td>\n",
       "      <td>0.987222</td>\n",
       "      <td>0.325610</td>\n",
       "      <td>0.024631</td>\n",
       "      <td>0.308772</td>\n",
       "      <td>0.623256</td>\n",
       "      <td>0.139828</td>\n",
       "      <td>0.096708</td>\n",
       "      <td>0.033777</td>\n",
       "      <td>0.373626</td>\n",
       "      <td>0.092949</td>\n",
       "      <td>3</td>\n",
       "      <td>1</td>\n",
       "    </tr>\n",
       "    <tr>\n",
       "      <th>18</th>\n",
       "      <td>18</td>\n",
       "      <td>0.538123</td>\n",
       "      <td>1.0</td>\n",
       "      <td>0.492053</td>\n",
       "      <td>0.798982</td>\n",
       "      <td>0.598297</td>\n",
       "      <td>0.038314</td>\n",
       "      <td>0.631579</td>\n",
       "      <td>0.131783</td>\n",
       "      <td>0.132026</td>\n",
       "      <td>0.053292</td>\n",
       "      <td>0.533479</td>\n",
       "      <td>0.208791</td>\n",
       "      <td>0.130769</td>\n",
       "      <td>3</td>\n",
       "      <td>0</td>\n",
       "    </tr>\n",
       "    <tr>\n",
       "      <th>25</th>\n",
       "      <td>25</td>\n",
       "      <td>0.424070</td>\n",
       "      <td>1.0</td>\n",
       "      <td>0.537281</td>\n",
       "      <td>0.998874</td>\n",
       "      <td>0.384146</td>\n",
       "      <td>0.082923</td>\n",
       "      <td>0.466165</td>\n",
       "      <td>0.172093</td>\n",
       "      <td>0.402881</td>\n",
       "      <td>0.819671</td>\n",
       "      <td>0.117557</td>\n",
       "      <td>0.428571</td>\n",
       "      <td>0.391026</td>\n",
       "      <td>3</td>\n",
       "      <td>1</td>\n",
       "    </tr>\n",
       "    <tr>\n",
       "      <th>32</th>\n",
       "      <td>32</td>\n",
       "      <td>0.581976</td>\n",
       "      <td>1.0</td>\n",
       "      <td>0.666007</td>\n",
       "      <td>0.924353</td>\n",
       "      <td>0.316337</td>\n",
       "      <td>0.045156</td>\n",
       "      <td>0.359649</td>\n",
       "      <td>0.511628</td>\n",
       "      <td>0.467894</td>\n",
       "      <td>0.116771</td>\n",
       "      <td>0.016889</td>\n",
       "      <td>0.521978</td>\n",
       "      <td>0.490385</td>\n",
       "      <td>3</td>\n",
       "      <td>0</td>\n",
       "    </tr>\n",
       "  </tbody>\n",
       "</table>\n",
       "</div>"
      ],
      "text/plain": [
       "    Unnamed: 0  amdission_age  gender  tempc_mean  spo2_mean  resprate_mean  \\\n",
       "6            6       0.588504     1.0    0.679924   0.979987       0.256728   \n",
       "11          11       0.457483     1.0    0.653947   0.987222       0.325610   \n",
       "18          18       0.538123     1.0    0.492053   0.798982       0.598297   \n",
       "25          25       0.424070     1.0    0.537281   0.998874       0.384146   \n",
       "32          32       0.581976     1.0    0.666007   0.924353       0.316337   \n",
       "\n",
       "    creatinine_mean  potassium_mean  bicarbonate_mean  hematocrit_mean  \\\n",
       "6          0.020525        0.295322          0.403101         0.462492   \n",
       "11         0.024631        0.308772          0.623256         0.139828   \n",
       "18         0.038314        0.631579          0.131783         0.132026   \n",
       "25         0.082923        0.466165          0.172093         0.402881   \n",
       "32         0.045156        0.359649          0.511628         0.467894   \n",
       "\n",
       "    glucose_mean  lactate_mean  albumin_mean  hemoglobin_mean  clust  is_AKI  \n",
       "6       0.110110      0.083118      0.571429         0.482051      3       0  \n",
       "11      0.096708      0.033777      0.373626         0.092949      3       1  \n",
       "18      0.053292      0.533479      0.208791         0.130769      3       0  \n",
       "25      0.819671      0.117557      0.428571         0.391026      3       1  \n",
       "32      0.116771      0.016889      0.521978         0.490385      3       0  "
      ]
     },
     "execution_count": 57,
     "metadata": {},
     "output_type": "execute_result"
    }
   ],
   "source": [
    "data3.head()"
   ]
  },
  {
   "cell_type": "code",
   "execution_count": 58,
   "metadata": {},
   "outputs": [],
   "source": [
    "t = data3.drop(\"is_AKI\", axis=1)\n",
    "X3 = t.drop('clust', axis = 1)\n",
    "Y3 = data3[\"is_AKI\"]"
   ]
  },
  {
   "cell_type": "code",
   "execution_count": 59,
   "metadata": {},
   "outputs": [
    {
     "data": {
      "text/plain": [
       "(1265, 14)"
      ]
     },
     "execution_count": 59,
     "metadata": {},
     "output_type": "execute_result"
    }
   ],
   "source": [
    "X3.shape"
   ]
  },
  {
   "cell_type": "code",
   "execution_count": 60,
   "metadata": {},
   "outputs": [
    {
     "data": {
      "text/plain": [
       "(1265,)"
      ]
     },
     "execution_count": 60,
     "metadata": {},
     "output_type": "execute_result"
    }
   ],
   "source": [
    "Y3.shape"
   ]
  },
  {
   "cell_type": "code",
   "execution_count": 61,
   "metadata": {},
   "outputs": [],
   "source": [
    "from sklearn.model_selection import train_test_split"
   ]
  },
  {
   "cell_type": "code",
   "execution_count": 62,
   "metadata": {},
   "outputs": [],
   "source": [
    "X_train, X_test, y_train, y_test = train_test_split(X3,Y3, test_size=0.3, random_state=1)"
   ]
  },
  {
   "cell_type": "code",
   "execution_count": 63,
   "metadata": {},
   "outputs": [],
   "source": [
    "from sklearn.linear_model import LogisticRegression"
   ]
  },
  {
   "cell_type": "code",
   "execution_count": 64,
   "metadata": {},
   "outputs": [],
   "source": [
    "logmodel = LogisticRegression()"
   ]
  },
  {
   "cell_type": "code",
   "execution_count": 65,
   "metadata": {},
   "outputs": [
    {
     "data": {
      "text/plain": [
       "LogisticRegression(C=1.0, class_weight=None, dual=False, fit_intercept=True,\n",
       "          intercept_scaling=1, max_iter=100, multi_class='warn',\n",
       "          n_jobs=None, penalty='l2', random_state=None, solver='warn',\n",
       "          tol=0.0001, verbose=0, warm_start=False)"
      ]
     },
     "execution_count": 65,
     "metadata": {},
     "output_type": "execute_result"
    }
   ],
   "source": [
    "logmodel.fit(X_train, y_train)"
   ]
  },
  {
   "cell_type": "code",
   "execution_count": 66,
   "metadata": {},
   "outputs": [],
   "source": [
    "predictions = logmodel.predict(X_test)"
   ]
  },
  {
   "cell_type": "code",
   "execution_count": 67,
   "metadata": {},
   "outputs": [],
   "source": [
    "from sklearn.metrics import classification_report"
   ]
  },
  {
   "cell_type": "code",
   "execution_count": 68,
   "metadata": {},
   "outputs": [
    {
     "name": "stderr",
     "output_type": "stream",
     "text": [
      "/anaconda2/lib/python2.7/site-packages/sklearn/metrics/classification.py:1143: UndefinedMetricWarning: Precision and F-score are ill-defined and being set to 0.0 in labels with no predicted samples.\n",
      "  'precision', 'predicted', average, warn_for)\n",
      "/anaconda2/lib/python2.7/site-packages/sklearn/metrics/classification.py:1143: UndefinedMetricWarning: Precision and F-score are ill-defined and being set to 0.0 in labels with no predicted samples.\n",
      "  'precision', 'predicted', average, warn_for)\n",
      "/anaconda2/lib/python2.7/site-packages/sklearn/metrics/classification.py:1143: UndefinedMetricWarning: Precision and F-score are ill-defined and being set to 0.0 in labels with no predicted samples.\n",
      "  'precision', 'predicted', average, warn_for)\n"
     ]
    },
    {
     "data": {
      "text/plain": [
       "u'              precision    recall  f1-score   support\\n\\n           0       0.72      1.00      0.83       272\\n           1       0.00      0.00      0.00       108\\n\\n   micro avg       0.72      0.72      0.72       380\\n   macro avg       0.36      0.50      0.42       380\\nweighted avg       0.51      0.72      0.60       380\\n'"
      ]
     },
     "execution_count": 68,
     "metadata": {},
     "output_type": "execute_result"
    }
   ],
   "source": [
    "classification_report(y_test, predictions)"
   ]
  },
  {
   "cell_type": "code",
   "execution_count": 69,
   "metadata": {},
   "outputs": [],
   "source": [
    "from sklearn.metrics import confusion_matrix"
   ]
  },
  {
   "cell_type": "code",
   "execution_count": 70,
   "metadata": {},
   "outputs": [
    {
     "data": {
      "text/plain": [
       "array([[272,   0],\n",
       "       [108,   0]])"
      ]
     },
     "execution_count": 70,
     "metadata": {},
     "output_type": "execute_result"
    }
   ],
   "source": [
    "confusion_matrix(y_test, predictions)"
   ]
  },
  {
   "cell_type": "markdown",
   "metadata": {},
   "source": [
    "### Calculate Accuracy"
   ]
  },
  {
   "cell_type": "code",
   "execution_count": 71,
   "metadata": {},
   "outputs": [],
   "source": [
    "from sklearn.metrics import accuracy_score"
   ]
  },
  {
   "cell_type": "code",
   "execution_count": 72,
   "metadata": {},
   "outputs": [
    {
     "data": {
      "text/plain": [
       "0.7157894736842105"
      ]
     },
     "execution_count": 72,
     "metadata": {},
     "output_type": "execute_result"
    }
   ],
   "source": [
    "accuracy_score(y_test, predictions)"
   ]
  },
  {
   "cell_type": "code",
   "execution_count": null,
   "metadata": {},
   "outputs": [],
   "source": []
  }
 ],
 "metadata": {
  "kernelspec": {
   "display_name": "Python 2",
   "language": "python",
   "name": "python2"
  },
  "language_info": {
   "codemirror_mode": {
    "name": "ipython",
    "version": 2
   },
   "file_extension": ".py",
   "mimetype": "text/x-python",
   "name": "python",
   "nbconvert_exporter": "python",
   "pygments_lexer": "ipython2",
   "version": "2.7.15"
  }
 },
 "nbformat": 4,
 "nbformat_minor": 2
}
