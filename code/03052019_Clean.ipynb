{
 "cells": [
  {
   "cell_type": "code",
   "execution_count": 21,
   "metadata": {},
   "outputs": [],
   "source": [
    "import pandas as pd\n",
    "import numpy as np\n",
    "import seaborn as sns\n",
    "import matplotlib.pyplot as plt\n",
    "import math\n",
    "\n",
    "% matplotlib inline"
   ]
  },
  {
   "cell_type": "code",
   "execution_count": 22,
   "metadata": {},
   "outputs": [],
   "source": [
    "import pandas as pd\n",
    "filepath = '/Users/joudsi/Desktop/data_aki_bb_basicCleaning.csv'\n",
    "data = pd.read_csv(\"/Users/joudsi/Desktop/data_aki_bb_basicCleaning.csv\")"
   ]
  },
  {
   "cell_type": "code",
   "execution_count": 23,
   "metadata": {},
   "outputs": [
    {
     "data": {
      "text/html": [
       "<div>\n",
       "<style scoped>\n",
       "    .dataframe tbody tr th:only-of-type {\n",
       "        vertical-align: middle;\n",
       "    }\n",
       "\n",
       "    .dataframe tbody tr th {\n",
       "        vertical-align: top;\n",
       "    }\n",
       "\n",
       "    .dataframe thead th {\n",
       "        text-align: right;\n",
       "    }\n",
       "</style>\n",
       "<table border=\"1\" class=\"dataframe\">\n",
       "  <thead>\n",
       "    <tr style=\"text-align: right;\">\n",
       "      <th></th>\n",
       "      <th>Unnamed: 0</th>\n",
       "      <th>admission_age</th>\n",
       "      <th>gender</th>\n",
       "      <th>dod</th>\n",
       "      <th>admission_type</th>\n",
       "      <th>curr_service</th>\n",
       "      <th>thirty_day_mort</th>\n",
       "      <th>hr</th>\n",
       "      <th>map</th>\n",
       "      <th>sbp</th>\n",
       "      <th>...</th>\n",
       "      <th>lactate</th>\n",
       "      <th>infection</th>\n",
       "      <th>explicit_sepsis</th>\n",
       "      <th>organ_dysfunction</th>\n",
       "      <th>mech_vent</th>\n",
       "      <th>angus</th>\n",
       "      <th>icd9_code</th>\n",
       "      <th>drug_name_generic</th>\n",
       "      <th>betablocker</th>\n",
       "      <th>aki</th>\n",
       "    </tr>\n",
       "  </thead>\n",
       "  <tbody>\n",
       "    <tr>\n",
       "      <th>0</th>\n",
       "      <td>1</td>\n",
       "      <td>72.2671</td>\n",
       "      <td>M</td>\n",
       "      <td>2108-08-30 00:00:00</td>\n",
       "      <td>EMERGENCY</td>\n",
       "      <td>NMED</td>\n",
       "      <td>Y</td>\n",
       "      <td>54.0</td>\n",
       "      <td>89.0</td>\n",
       "      <td>12</td>\n",
       "      <td>...</td>\n",
       "      <td>6.9</td>\n",
       "      <td>1</td>\n",
       "      <td>0</td>\n",
       "      <td>0</td>\n",
       "      <td>1</td>\n",
       "      <td>1</td>\n",
       "      <td>3453</td>\n",
       "      <td>NaN</td>\n",
       "      <td>0</td>\n",
       "      <td>0</td>\n",
       "    </tr>\n",
       "    <tr>\n",
       "      <th>1</th>\n",
       "      <td>2</td>\n",
       "      <td>87.8263</td>\n",
       "      <td>M</td>\n",
       "      <td>2135-02-08 00:00:00</td>\n",
       "      <td>EMERGENCY</td>\n",
       "      <td>MED</td>\n",
       "      <td>Y</td>\n",
       "      <td>79.0</td>\n",
       "      <td>78.0</td>\n",
       "      <td>12</td>\n",
       "      <td>...</td>\n",
       "      <td>7.9</td>\n",
       "      <td>1</td>\n",
       "      <td>0</td>\n",
       "      <td>1</td>\n",
       "      <td>0</td>\n",
       "      <td>1</td>\n",
       "      <td>41071</td>\n",
       "      <td>NaN</td>\n",
       "      <td>0</td>\n",
       "      <td>0</td>\n",
       "    </tr>\n",
       "    <tr>\n",
       "      <th>2</th>\n",
       "      <td>3</td>\n",
       "      <td>87.8263</td>\n",
       "      <td>M</td>\n",
       "      <td>2135-02-08 00:00:00</td>\n",
       "      <td>EMERGENCY</td>\n",
       "      <td>MED</td>\n",
       "      <td>Y</td>\n",
       "      <td>79.0</td>\n",
       "      <td>78.0</td>\n",
       "      <td>12</td>\n",
       "      <td>...</td>\n",
       "      <td>7.9</td>\n",
       "      <td>1</td>\n",
       "      <td>0</td>\n",
       "      <td>1</td>\n",
       "      <td>0</td>\n",
       "      <td>1</td>\n",
       "      <td>41071</td>\n",
       "      <td>NaN</td>\n",
       "      <td>0</td>\n",
       "      <td>0</td>\n",
       "    </tr>\n",
       "    <tr>\n",
       "      <th>3</th>\n",
       "      <td>4</td>\n",
       "      <td>87.8263</td>\n",
       "      <td>M</td>\n",
       "      <td>2135-02-08 00:00:00</td>\n",
       "      <td>EMERGENCY</td>\n",
       "      <td>MED</td>\n",
       "      <td>Y</td>\n",
       "      <td>79.0</td>\n",
       "      <td>78.0</td>\n",
       "      <td>12</td>\n",
       "      <td>...</td>\n",
       "      <td>7.9</td>\n",
       "      <td>1</td>\n",
       "      <td>0</td>\n",
       "      <td>1</td>\n",
       "      <td>0</td>\n",
       "      <td>1</td>\n",
       "      <td>41071</td>\n",
       "      <td>NaN</td>\n",
       "      <td>0</td>\n",
       "      <td>0</td>\n",
       "    </tr>\n",
       "    <tr>\n",
       "      <th>4</th>\n",
       "      <td>5</td>\n",
       "      <td>87.8263</td>\n",
       "      <td>M</td>\n",
       "      <td>2135-02-08 00:00:00</td>\n",
       "      <td>EMERGENCY</td>\n",
       "      <td>MED</td>\n",
       "      <td>Y</td>\n",
       "      <td>79.0</td>\n",
       "      <td>78.0</td>\n",
       "      <td>12</td>\n",
       "      <td>...</td>\n",
       "      <td>7.9</td>\n",
       "      <td>1</td>\n",
       "      <td>0</td>\n",
       "      <td>1</td>\n",
       "      <td>0</td>\n",
       "      <td>1</td>\n",
       "      <td>41071</td>\n",
       "      <td>NaN</td>\n",
       "      <td>0</td>\n",
       "      <td>0</td>\n",
       "    </tr>\n",
       "  </tbody>\n",
       "</table>\n",
       "<p>5 rows × 34 columns</p>\n",
       "</div>"
      ],
      "text/plain": [
       "   Unnamed: 0  admission_age gender                  dod admission_type  \\\n",
       "0           1        72.2671      M  2108-08-30 00:00:00      EMERGENCY   \n",
       "1           2        87.8263      M  2135-02-08 00:00:00      EMERGENCY   \n",
       "2           3        87.8263      M  2135-02-08 00:00:00      EMERGENCY   \n",
       "3           4        87.8263      M  2135-02-08 00:00:00      EMERGENCY   \n",
       "4           5        87.8263      M  2135-02-08 00:00:00      EMERGENCY   \n",
       "\n",
       "  curr_service thirty_day_mort    hr   map  sbp ...   lactate  infection  \\\n",
       "0         NMED               Y  54.0  89.0   12 ...       6.9          1   \n",
       "1          MED               Y  79.0  78.0   12 ...       7.9          1   \n",
       "2          MED               Y  79.0  78.0   12 ...       7.9          1   \n",
       "3          MED               Y  79.0  78.0   12 ...       7.9          1   \n",
       "4          MED               Y  79.0  78.0   12 ...       7.9          1   \n",
       "\n",
       "   explicit_sepsis  organ_dysfunction  mech_vent  angus  icd9_code  \\\n",
       "0                0                  0          1      1       3453   \n",
       "1                0                  1          0      1      41071   \n",
       "2                0                  1          0      1      41071   \n",
       "3                0                  1          0      1      41071   \n",
       "4                0                  1          0      1      41071   \n",
       "\n",
       "   drug_name_generic  betablocker  aki  \n",
       "0                NaN            0    0  \n",
       "1                NaN            0    0  \n",
       "2                NaN            0    0  \n",
       "3                NaN            0    0  \n",
       "4                NaN            0    0  \n",
       "\n",
       "[5 rows x 34 columns]"
      ]
     },
     "execution_count": 23,
     "metadata": {},
     "output_type": "execute_result"
    }
   ],
   "source": [
    "data.head()"
   ]
  },
  {
   "cell_type": "code",
   "execution_count": 24,
   "metadata": {},
   "outputs": [
    {
     "name": "stdout",
     "output_type": "stream",
     "text": [
      "('# of observations: ', '833233')\n"
     ]
    }
   ],
   "source": [
    "print(\"# of observations: \", str(len(data.index)))"
   ]
  },
  {
   "cell_type": "code",
   "execution_count": 25,
   "metadata": {},
   "outputs": [
    {
     "name": "stdout",
     "output_type": "stream",
     "text": [
      "<class 'pandas.core.frame.DataFrame'>\n",
      "RangeIndex: 833233 entries, 0 to 833232\n",
      "Data columns (total 34 columns):\n",
      "Unnamed: 0           833233 non-null int64\n",
      "admission_age        833233 non-null float64\n",
      "gender               833233 non-null object\n",
      "dod                  589681 non-null object\n",
      "admission_type       833233 non-null object\n",
      "curr_service         833233 non-null object\n",
      "thirty_day_mort      833233 non-null object\n",
      "hr                   833233 non-null float64\n",
      "map                  833233 non-null float64\n",
      "sbp                  833233 non-null int64\n",
      "temp                 833233 non-null int64\n",
      "spo2                 833233 non-null float64\n",
      "rr                   833233 non-null float64\n",
      "cr                   833233 non-null int64\n",
      "k                    833233 non-null float64\n",
      "na                   833233 non-null float64\n",
      "cl                   833233 non-null float64\n",
      "bicarb               833233 non-null int64\n",
      "hct                  833233 non-null float64\n",
      "wbc                  833233 non-null float64\n",
      "glucose              833233 non-null float64\n",
      "mg                   833233 non-null float64\n",
      "ca                   833233 non-null int64\n",
      "p                    833233 non-null float64\n",
      "lactate              833233 non-null float64\n",
      "infection            833233 non-null int64\n",
      "explicit_sepsis      833233 non-null int64\n",
      "organ_dysfunction    833233 non-null int64\n",
      "mech_vent            833233 non-null int64\n",
      "angus                833233 non-null int64\n",
      "icd9_code            832384 non-null object\n",
      "drug_name_generic    469583 non-null object\n",
      "betablocker          833233 non-null int64\n",
      "aki                  833233 non-null int64\n",
      "dtypes: float64(14), int64(13), object(7)\n",
      "memory usage: 216.1+ MB\n"
     ]
    }
   ],
   "source": [
    "data.info()"
   ]
  },
  {
   "cell_type": "code",
   "execution_count": 26,
   "metadata": {},
   "outputs": [
    {
     "data": {
      "text/plain": [
       "<matplotlib.axes._subplots.AxesSubplot at 0x1a37850ed0>"
      ]
     },
     "execution_count": 26,
     "metadata": {},
     "output_type": "execute_result"
    },
    {
     "data": {
      "image/png": "[encoded data removed]",
      "text/plain": [
       "<Figure size 432x288 with 1 Axes>"
      ]
     },
     "metadata": {
      "needs_background": "light"
     },
     "output_type": "display_data"
    }
   ],
   "source": [
    "sns.countplot(x=\"thirty_day_mort\", data=data)"
   ]
  },
  {
   "cell_type": "code",
   "execution_count": 27,
   "metadata": {},
   "outputs": [
    {
     "data": {
      "text/plain": [
       "<matplotlib.axes._subplots.AxesSubplot at 0x1a1b7ccc90>"
      ]
     },
     "execution_count": 27,
     "metadata": {},
     "output_type": "execute_result"
    },
    {
     "data": {
      "image/png": "[encoded data removed]",
      "text/plain": [
       "<Figure size 432x288 with 1 Axes>"
      ]
     },
     "metadata": {
      "needs_background": "light"
     },
     "output_type": "display_data"
    }
   ],
   "source": [
    "sns.countplot(x=\"thirty_day_mort\", hue=\"admission_type\",data=data)"
   ]
  },
  {
   "cell_type": "code",
   "execution_count": 28,
   "metadata": {},
   "outputs": [
    {
     "data": {
      "text/plain": [
       "<matplotlib.axes._subplots.AxesSubplot at 0x1a1b03fa10>"
      ]
     },
     "execution_count": 28,
     "metadata": {},
     "output_type": "execute_result"
    },
    {
     "data": {
      "image/png": "[encoded data removed]",
      "text/plain": [
       "<Figure size 432x288 with 1 Axes>"
      ]
     },
     "metadata": {
      "needs_background": "light"
     },
     "output_type": "display_data"
    }
   ],
   "source": [
    "sns.countplot(x=\"thirty_day_mort\", hue=\"betablocker\",data=data)"
   ]
  },
  {
   "cell_type": "code",
   "execution_count": 29,
   "metadata": {},
   "outputs": [
    {
     "data": {
      "text/plain": [
       "<matplotlib.axes._subplots.AxesSubplot at 0x1a22c5c210>"
      ]
     },
     "execution_count": 29,
     "metadata": {},
     "output_type": "execute_result"
    },
    {
     "data": {
      "image/png": "[encoded data removed]",
      "text/plain": [
       "<Figure size 432x288 with 1 Axes>"
      ]
     },
     "metadata": {
      "needs_background": "light"
     },
     "output_type": "display_data"
    }
   ],
   "source": [
    "sns.countplot(x=\"betablocker\", hue=\"aki\",data=data)"
   ]
  },
  {
   "cell_type": "code",
   "execution_count": 30,
   "metadata": {},
   "outputs": [
    {
     "data": {
      "text/plain": [
       "<matplotlib.axes._subplots.AxesSubplot at 0x1a1c2b7750>"
      ]
     },
     "execution_count": 30,
     "metadata": {},
     "output_type": "execute_result"
    },
    {
     "data": {
      "image/png": "[encoded data removed]",
      "text/plain": [
       "<Figure size 432x288 with 1 Axes>"
      ]
     },
     "metadata": {
      "needs_background": "light"
     },
     "output_type": "display_data"
    }
   ],
   "source": [
    "data[\"admission_age\"].plot.hist()"
   ]
  },
  {
   "cell_type": "code",
   "execution_count": 31,
   "metadata": {},
   "outputs": [
    {
     "data": {
      "text/plain": [
       "<matplotlib.axes._subplots.AxesSubplot at 0x1a22099190>"
      ]
     },
     "execution_count": 31,
     "metadata": {},
     "output_type": "execute_result"
    },
    {
     "data": {
      "image/png": "[encoded data removed]",
      "text/plain": [
       "<Figure size 432x288 with 1 Axes>"
      ]
     },
     "metadata": {
      "needs_background": "light"
     },
     "output_type": "display_data"
    }
   ],
   "source": [
    "data[\"hr\"].plot.hist()"
   ]
  },
  {
   "cell_type": "code",
   "execution_count": 32,
   "metadata": {},
   "outputs": [],
   "source": [
    "data.drop(['gender', 'dod', 'admission_type', 'curr_service' , 'drug_name_generic', 'icd9_code' ] , axis=1, inplace=True)"
   ]
  },
  {
   "cell_type": "code",
   "execution_count": 33,
   "metadata": {},
   "outputs": [],
   "source": [
    "X = data.drop(\"thirty_day_mort\", axis=1)\n",
    "Y = data[\"thirty_day_mort\"]"
   ]
  },
  {
   "cell_type": "code",
   "execution_count": 34,
   "metadata": {},
   "outputs": [],
   "source": [
    "from sklearn.model_selection import train_test_split"
   ]
  },
  {
   "cell_type": "code",
   "execution_count": 35,
   "metadata": {},
   "outputs": [],
   "source": [
    "X_train, X_test, y_train, y_test = train_test_split(X,Y, test_size=0.3, random_state=1)"
   ]
  },
  {
   "cell_type": "code",
   "execution_count": 36,
   "metadata": {},
   "outputs": [],
   "source": [
    "from sklearn.linear_model import LogisticRegression"
   ]
  },
  {
   "cell_type": "code",
   "execution_count": 37,
   "metadata": {},
   "outputs": [],
   "source": [
    "logmodel = LogisticRegression()"
   ]
  },
  {
   "cell_type": "code",
   "execution_count": 38,
   "metadata": {},
   "outputs": [
    {
     "data": {
      "text/plain": [
       "LogisticRegression(C=1.0, class_weight=None, dual=False, fit_intercept=True,\n",
       "          intercept_scaling=1, max_iter=100, multi_class='warn',\n",
       "          n_jobs=None, penalty='l2', random_state=None, solver='warn',\n",
       "          tol=0.0001, verbose=0, warm_start=False)"
      ]
     },
     "execution_count": 38,
     "metadata": {},
     "output_type": "execute_result"
    }
   ],
   "source": [
    "logmodel.fit(X_train, y_train)"
   ]
  },
  {
   "cell_type": "code",
   "execution_count": 39,
   "metadata": {},
   "outputs": [],
   "source": [
    "predictions = logmodel.predict(X_test)"
   ]
  },
  {
   "cell_type": "code",
   "execution_count": 41,
   "metadata": {},
   "outputs": [],
   "source": [
    "from sklearn.metrics import classification_report"
   ]
  },
  {
   "cell_type": "code",
   "execution_count": 42,
   "metadata": {},
   "outputs": [
    {
     "data": {
      "text/plain": [
       "u'              precision    recall  f1-score   support\\n\\n           N       0.63      0.63      0.63    127332\\n           Y       0.62      0.61      0.62    122638\\n\\n   micro avg       0.62      0.62      0.62    249970\\n   macro avg       0.62      0.62      0.62    249970\\nweighted avg       0.62      0.62      0.62    249970\\n'"
      ]
     },
     "execution_count": 42,
     "metadata": {},
     "output_type": "execute_result"
    }
   ],
   "source": [
    "classification_report(y_test, predictions)"
   ]
  },
  {
   "cell_type": "code",
   "execution_count": 43,
   "metadata": {},
   "outputs": [],
   "source": [
    "from sklearn.metrics import confusion_matrix"
   ]
  },
  {
   "cell_type": "code",
   "execution_count": 44,
   "metadata": {},
   "outputs": [
    {
     "data": {
      "text/plain": [
       "array([[80434, 46898],\n",
       "       [47233, 75405]])"
      ]
     },
     "execution_count": 44,
     "metadata": {},
     "output_type": "execute_result"
    }
   ],
   "source": [
    "confusion_matrix(y_test, predictions)"
   ]
  },
  {
   "cell_type": "code",
   "execution_count": 45,
   "metadata": {},
   "outputs": [],
   "source": [
    "from sklearn.metrics import accuracy_score"
   ]
  },
  {
   "cell_type": "code",
   "execution_count": 46,
   "metadata": {},
   "outputs": [
    {
     "data": {
      "text/plain": [
       "0.6234308116974037"
      ]
     },
     "execution_count": 46,
     "metadata": {},
     "output_type": "execute_result"
    }
   ],
   "source": [
    "accuracy_score(y_test, predictions)"
   ]
  },
  {
   "cell_type": "code",
   "execution_count": null,
   "metadata": {},
   "outputs": [],
   "source": []
  }
 ],
 "metadata": {
  "kernelspec": {
   "display_name": "Python 2",
   "language": "python",
   "name": "python2"
  },
  "language_info": {
   "codemirror_mode": {
    "name": "ipython",
    "version": 2
   },
   "file_extension": ".py",
   "mimetype": "text/x-python",
   "name": "python",
   "nbconvert_exporter": "python",
   "pygments_lexer": "ipython2",
   "version": "2.7.15"
  }
 },
 "nbformat": 4,
 "nbformat_minor": 2
}
