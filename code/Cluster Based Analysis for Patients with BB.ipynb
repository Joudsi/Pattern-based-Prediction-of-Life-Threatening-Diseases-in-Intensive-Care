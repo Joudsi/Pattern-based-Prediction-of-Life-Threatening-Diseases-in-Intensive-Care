{
 "cells": [
  {
   "cell_type": "markdown",
   "metadata": {},
   "source": [
    "# Cluster Based Analysis for Patients with BB"
   ]
  },
  {
   "cell_type": "code",
   "execution_count": 69,
   "metadata": {},
   "outputs": [],
   "source": [
    "import pandas as pd\n",
    "import numpy as np\n",
    "import seaborn as sns\n",
    "import matplotlib.pyplot as plt\n",
    "import math\n",
    "\n",
    "% matplotlib inline"
   ]
  },
  {
   "cell_type": "code",
   "execution_count": 70,
   "metadata": {},
   "outputs": [],
   "source": [
    "import pandas as pd\n",
    "data = pd.read_csv(\"/Users/joudsi/Desktop/17.07.19/subdata_bb_norm_clustered.csv\")"
   ]
  },
  {
   "cell_type": "code",
   "execution_count": 71,
   "metadata": {},
   "outputs": [
    {
     "data": {
      "text/html": [
       "<div>\n",
       "<style scoped>\n",
       "    .dataframe tbody tr th:only-of-type {\n",
       "        vertical-align: middle;\n",
       "    }\n",
       "\n",
       "    .dataframe tbody tr th {\n",
       "        vertical-align: top;\n",
       "    }\n",
       "\n",
       "    .dataframe thead th {\n",
       "        text-align: right;\n",
       "    }\n",
       "</style>\n",
       "<table border=\"1\" class=\"dataframe\">\n",
       "  <thead>\n",
       "    <tr style=\"text-align: right;\">\n",
       "      <th></th>\n",
       "      <th>Unnamed: 0</th>\n",
       "      <th>amdission_age</th>\n",
       "      <th>gender</th>\n",
       "      <th>heartrate_mean</th>\n",
       "      <th>meanbp_mean</th>\n",
       "      <th>sysbp_mean</th>\n",
       "      <th>tempc_mean</th>\n",
       "      <th>spo2_mean</th>\n",
       "      <th>resprate_mean</th>\n",
       "      <th>diasbp_mean</th>\n",
       "      <th>...</th>\n",
       "      <th>albumin_mean</th>\n",
       "      <th>bands_mean</th>\n",
       "      <th>bilirubin_mean</th>\n",
       "      <th>hemoglobin_mean</th>\n",
       "      <th>ptt_mean</th>\n",
       "      <th>inr_mean</th>\n",
       "      <th>pt_mean</th>\n",
       "      <th>bun_mean</th>\n",
       "      <th>clust</th>\n",
       "      <th>is_AKI</th>\n",
       "    </tr>\n",
       "  </thead>\n",
       "  <tbody>\n",
       "    <tr>\n",
       "      <th>0</th>\n",
       "      <td>0</td>\n",
       "      <td>0.558335</td>\n",
       "      <td>0.0</td>\n",
       "      <td>0.420142</td>\n",
       "      <td>0.538685</td>\n",
       "      <td>0.607481</td>\n",
       "      <td>0.713859</td>\n",
       "      <td>0.903968</td>\n",
       "      <td>0.346149</td>\n",
       "      <td>0.452554</td>\n",
       "      <td>...</td>\n",
       "      <td>0.466246</td>\n",
       "      <td>0.142273</td>\n",
       "      <td>0.041618</td>\n",
       "      <td>0.820529</td>\n",
       "      <td>0.065721</td>\n",
       "      <td>0.014585</td>\n",
       "      <td>0.035408</td>\n",
       "      <td>0.026851</td>\n",
       "      <td>4</td>\n",
       "      <td>0</td>\n",
       "    </tr>\n",
       "    <tr>\n",
       "      <th>1</th>\n",
       "      <td>1</td>\n",
       "      <td>0.967606</td>\n",
       "      <td>0.0</td>\n",
       "      <td>0.251775</td>\n",
       "      <td>0.467465</td>\n",
       "      <td>0.728568</td>\n",
       "      <td>0.684853</td>\n",
       "      <td>0.905051</td>\n",
       "      <td>0.322675</td>\n",
       "      <td>0.400575</td>\n",
       "      <td>...</td>\n",
       "      <td>0.466246</td>\n",
       "      <td>0.142273</td>\n",
       "      <td>0.007797</td>\n",
       "      <td>0.555009</td>\n",
       "      <td>0.170775</td>\n",
       "      <td>0.030103</td>\n",
       "      <td>0.073783</td>\n",
       "      <td>0.046379</td>\n",
       "      <td>1</td>\n",
       "      <td>0</td>\n",
       "    </tr>\n",
       "    <tr>\n",
       "      <th>2</th>\n",
       "      <td>2</td>\n",
       "      <td>0.908553</td>\n",
       "      <td>0.0</td>\n",
       "      <td>0.201747</td>\n",
       "      <td>0.473796</td>\n",
       "      <td>0.747566</td>\n",
       "      <td>0.580397</td>\n",
       "      <td>0.988272</td>\n",
       "      <td>0.180286</td>\n",
       "      <td>0.388677</td>\n",
       "      <td>...</td>\n",
       "      <td>0.466246</td>\n",
       "      <td>0.142273</td>\n",
       "      <td>0.041618</td>\n",
       "      <td>0.414874</td>\n",
       "      <td>0.312547</td>\n",
       "      <td>0.010027</td>\n",
       "      <td>0.028165</td>\n",
       "      <td>0.314890</td>\n",
       "      <td>1</td>\n",
       "      <td>0</td>\n",
       "    </tr>\n",
       "    <tr>\n",
       "      <th>3</th>\n",
       "      <td>3</td>\n",
       "      <td>0.585965</td>\n",
       "      <td>0.0</td>\n",
       "      <td>0.287335</td>\n",
       "      <td>0.281486</td>\n",
       "      <td>0.415570</td>\n",
       "      <td>0.588939</td>\n",
       "      <td>0.950327</td>\n",
       "      <td>0.240689</td>\n",
       "      <td>0.301600</td>\n",
       "      <td>...</td>\n",
       "      <td>0.238095</td>\n",
       "      <td>0.142273</td>\n",
       "      <td>0.224172</td>\n",
       "      <td>0.385372</td>\n",
       "      <td>0.154593</td>\n",
       "      <td>0.043756</td>\n",
       "      <td>0.126073</td>\n",
       "      <td>0.146461</td>\n",
       "      <td>3</td>\n",
       "      <td>0</td>\n",
       "    </tr>\n",
       "    <tr>\n",
       "      <th>4</th>\n",
       "      <td>4</td>\n",
       "      <td>0.545732</td>\n",
       "      <td>1.0</td>\n",
       "      <td>0.424039</td>\n",
       "      <td>0.365803</td>\n",
       "      <td>0.367042</td>\n",
       "      <td>0.706385</td>\n",
       "      <td>0.954789</td>\n",
       "      <td>0.324970</td>\n",
       "      <td>0.388354</td>\n",
       "      <td>...</td>\n",
       "      <td>0.466246</td>\n",
       "      <td>0.142273</td>\n",
       "      <td>0.041618</td>\n",
       "      <td>0.414054</td>\n",
       "      <td>0.128454</td>\n",
       "      <td>0.026740</td>\n",
       "      <td>0.059371</td>\n",
       "      <td>0.063466</td>\n",
       "      <td>2</td>\n",
       "      <td>0</td>\n",
       "    </tr>\n",
       "  </tbody>\n",
       "</table>\n",
       "<p>5 rows × 30 columns</p>\n",
       "</div>"
      ],
      "text/plain": [
       "   Unnamed: 0  amdission_age  gender  heartrate_mean  meanbp_mean  sysbp_mean  \\\n",
       "0           0       0.558335     0.0        0.420142     0.538685    0.607481   \n",
       "1           1       0.967606     0.0        0.251775     0.467465    0.728568   \n",
       "2           2       0.908553     0.0        0.201747     0.473796    0.747566   \n",
       "3           3       0.585965     0.0        0.287335     0.281486    0.415570   \n",
       "4           4       0.545732     1.0        0.424039     0.365803    0.367042   \n",
       "\n",
       "   tempc_mean  spo2_mean  resprate_mean  diasbp_mean   ...    albumin_mean  \\\n",
       "0    0.713859   0.903968       0.346149     0.452554   ...        0.466246   \n",
       "1    0.684853   0.905051       0.322675     0.400575   ...        0.466246   \n",
       "2    0.580397   0.988272       0.180286     0.388677   ...        0.466246   \n",
       "3    0.588939   0.950327       0.240689     0.301600   ...        0.238095   \n",
       "4    0.706385   0.954789       0.324970     0.388354   ...        0.466246   \n",
       "\n",
       "   bands_mean  bilirubin_mean  hemoglobin_mean  ptt_mean  inr_mean   pt_mean  \\\n",
       "0    0.142273        0.041618         0.820529  0.065721  0.014585  0.035408   \n",
       "1    0.142273        0.007797         0.555009  0.170775  0.030103  0.073783   \n",
       "2    0.142273        0.041618         0.414874  0.312547  0.010027  0.028165   \n",
       "3    0.142273        0.224172         0.385372  0.154593  0.043756  0.126073   \n",
       "4    0.142273        0.041618         0.414054  0.128454  0.026740  0.059371   \n",
       "\n",
       "   bun_mean  clust  is_AKI  \n",
       "0  0.026851      4       0  \n",
       "1  0.046379      1       0  \n",
       "2  0.314890      1       0  \n",
       "3  0.146461      3       0  \n",
       "4  0.063466      2       0  \n",
       "\n",
       "[5 rows x 30 columns]"
      ]
     },
     "execution_count": 71,
     "metadata": {},
     "output_type": "execute_result"
    }
   ],
   "source": [
    "data.head()"
   ]
  },
  {
   "cell_type": "code",
   "execution_count": 72,
   "metadata": {},
   "outputs": [
    {
     "name": "stdout",
     "output_type": "stream",
     "text": [
      "('# of observations: ', '5997')\n"
     ]
    }
   ],
   "source": [
    "print(\"# of observations: \", str(len(data.index)))"
   ]
  },
  {
   "cell_type": "code",
   "execution_count": 73,
   "metadata": {},
   "outputs": [
    {
     "name": "stdout",
     "output_type": "stream",
     "text": [
      "<class 'pandas.core.frame.DataFrame'>\n",
      "RangeIndex: 5997 entries, 0 to 5996\n",
      "Data columns (total 30 columns):\n",
      "Unnamed: 0          5997 non-null int64\n",
      "amdission_age       5997 non-null float64\n",
      "gender              5997 non-null float64\n",
      "heartrate_mean      5997 non-null float64\n",
      "meanbp_mean         5997 non-null float64\n",
      "sysbp_mean          5997 non-null float64\n",
      "tempc_mean          5997 non-null float64\n",
      "spo2_mean           5997 non-null float64\n",
      "resprate_mean       5997 non-null float64\n",
      "diasbp_mean         5997 non-null float64\n",
      "creatinine_mean     5997 non-null float64\n",
      "potassium_mean      5997 non-null float64\n",
      "sodium_mean         5997 non-null float64\n",
      "chloride_mean       5997 non-null float64\n",
      "bicarbonate_mean    5997 non-null float64\n",
      "hematocrit_mean     5997 non-null float64\n",
      "wbc_mean            5997 non-null float64\n",
      "glucose_mean        5997 non-null float64\n",
      "lactate_mean        5997 non-null float64\n",
      "aniongap_mean       5997 non-null float64\n",
      "albumin_mean        5997 non-null float64\n",
      "bands_mean          5997 non-null float64\n",
      "bilirubin_mean      5997 non-null float64\n",
      "hemoglobin_mean     5997 non-null float64\n",
      "ptt_mean            5997 non-null float64\n",
      "inr_mean            5997 non-null float64\n",
      "pt_mean             5997 non-null float64\n",
      "bun_mean            5997 non-null float64\n",
      "clust               5997 non-null int64\n",
      "is_AKI              5997 non-null int64\n",
      "dtypes: float64(27), int64(3)\n",
      "memory usage: 1.4 MB\n"
     ]
    }
   ],
   "source": [
    "data.info()"
   ]
  },
  {
   "cell_type": "code",
   "execution_count": 74,
   "metadata": {
    "scrolled": true
   },
   "outputs": [
    {
     "data": {
      "text/plain": [
       "<matplotlib.axes._subplots.AxesSubplot at 0x1a19c4b3d0>"
      ]
     },
     "execution_count": 74,
     "metadata": {},
     "output_type": "execute_result"
    },
    {
     "data": {
      "image/png": "[encoded data removed]",
      "text/plain": [
       "<Figure size 432x288 with 1 Axes>"
      ]
     },
     "metadata": {
      "needs_background": "light"
     },
     "output_type": "display_data"
    }
   ],
   "source": [
    "sns.countplot(x=\"is_AKI\", hue=\"clust\",data=data)"
   ]
  },
  {
   "cell_type": "markdown",
   "metadata": {},
   "source": [
    "## LR Analysis C0"
   ]
  },
  {
   "cell_type": "code",
   "execution_count": 75,
   "metadata": {
    "scrolled": true
   },
   "outputs": [
    {
     "data": {
      "text/html": [
       "<div>\n",
       "<style scoped>\n",
       "    .dataframe tbody tr th:only-of-type {\n",
       "        vertical-align: middle;\n",
       "    }\n",
       "\n",
       "    .dataframe tbody tr th {\n",
       "        vertical-align: top;\n",
       "    }\n",
       "\n",
       "    .dataframe thead th {\n",
       "        text-align: right;\n",
       "    }\n",
       "</style>\n",
       "<table border=\"1\" class=\"dataframe\">\n",
       "  <thead>\n",
       "    <tr style=\"text-align: right;\">\n",
       "      <th></th>\n",
       "      <th>Unnamed: 0</th>\n",
       "      <th>amdission_age</th>\n",
       "      <th>gender</th>\n",
       "      <th>heartrate_mean</th>\n",
       "      <th>meanbp_mean</th>\n",
       "      <th>sysbp_mean</th>\n",
       "      <th>tempc_mean</th>\n",
       "      <th>spo2_mean</th>\n",
       "      <th>resprate_mean</th>\n",
       "      <th>diasbp_mean</th>\n",
       "      <th>...</th>\n",
       "      <th>albumin_mean</th>\n",
       "      <th>bands_mean</th>\n",
       "      <th>bilirubin_mean</th>\n",
       "      <th>hemoglobin_mean</th>\n",
       "      <th>ptt_mean</th>\n",
       "      <th>inr_mean</th>\n",
       "      <th>pt_mean</th>\n",
       "      <th>bun_mean</th>\n",
       "      <th>clust</th>\n",
       "      <th>is_AKI</th>\n",
       "    </tr>\n",
       "  </thead>\n",
       "  <tbody>\n",
       "    <tr>\n",
       "      <th>0</th>\n",
       "      <td>0</td>\n",
       "      <td>0.558335</td>\n",
       "      <td>0.0</td>\n",
       "      <td>0.420142</td>\n",
       "      <td>0.538685</td>\n",
       "      <td>0.607481</td>\n",
       "      <td>0.713859</td>\n",
       "      <td>0.903968</td>\n",
       "      <td>0.346149</td>\n",
       "      <td>0.452554</td>\n",
       "      <td>...</td>\n",
       "      <td>0.466246</td>\n",
       "      <td>0.142273</td>\n",
       "      <td>0.041618</td>\n",
       "      <td>0.820529</td>\n",
       "      <td>0.065721</td>\n",
       "      <td>0.014585</td>\n",
       "      <td>0.035408</td>\n",
       "      <td>0.026851</td>\n",
       "      <td>4</td>\n",
       "      <td>0</td>\n",
       "    </tr>\n",
       "    <tr>\n",
       "      <th>1</th>\n",
       "      <td>1</td>\n",
       "      <td>0.967606</td>\n",
       "      <td>0.0</td>\n",
       "      <td>0.251775</td>\n",
       "      <td>0.467465</td>\n",
       "      <td>0.728568</td>\n",
       "      <td>0.684853</td>\n",
       "      <td>0.905051</td>\n",
       "      <td>0.322675</td>\n",
       "      <td>0.400575</td>\n",
       "      <td>...</td>\n",
       "      <td>0.466246</td>\n",
       "      <td>0.142273</td>\n",
       "      <td>0.007797</td>\n",
       "      <td>0.555009</td>\n",
       "      <td>0.170775</td>\n",
       "      <td>0.030103</td>\n",
       "      <td>0.073783</td>\n",
       "      <td>0.046379</td>\n",
       "      <td>1</td>\n",
       "      <td>0</td>\n",
       "    </tr>\n",
       "    <tr>\n",
       "      <th>2</th>\n",
       "      <td>2</td>\n",
       "      <td>0.908553</td>\n",
       "      <td>0.0</td>\n",
       "      <td>0.201747</td>\n",
       "      <td>0.473796</td>\n",
       "      <td>0.747566</td>\n",
       "      <td>0.580397</td>\n",
       "      <td>0.988272</td>\n",
       "      <td>0.180286</td>\n",
       "      <td>0.388677</td>\n",
       "      <td>...</td>\n",
       "      <td>0.466246</td>\n",
       "      <td>0.142273</td>\n",
       "      <td>0.041618</td>\n",
       "      <td>0.414874</td>\n",
       "      <td>0.312547</td>\n",
       "      <td>0.010027</td>\n",
       "      <td>0.028165</td>\n",
       "      <td>0.314890</td>\n",
       "      <td>1</td>\n",
       "      <td>0</td>\n",
       "    </tr>\n",
       "    <tr>\n",
       "      <th>3</th>\n",
       "      <td>3</td>\n",
       "      <td>0.585965</td>\n",
       "      <td>0.0</td>\n",
       "      <td>0.287335</td>\n",
       "      <td>0.281486</td>\n",
       "      <td>0.415570</td>\n",
       "      <td>0.588939</td>\n",
       "      <td>0.950327</td>\n",
       "      <td>0.240689</td>\n",
       "      <td>0.301600</td>\n",
       "      <td>...</td>\n",
       "      <td>0.238095</td>\n",
       "      <td>0.142273</td>\n",
       "      <td>0.224172</td>\n",
       "      <td>0.385372</td>\n",
       "      <td>0.154593</td>\n",
       "      <td>0.043756</td>\n",
       "      <td>0.126073</td>\n",
       "      <td>0.146461</td>\n",
       "      <td>3</td>\n",
       "      <td>0</td>\n",
       "    </tr>\n",
       "    <tr>\n",
       "      <th>4</th>\n",
       "      <td>4</td>\n",
       "      <td>0.545732</td>\n",
       "      <td>1.0</td>\n",
       "      <td>0.424039</td>\n",
       "      <td>0.365803</td>\n",
       "      <td>0.367042</td>\n",
       "      <td>0.706385</td>\n",
       "      <td>0.954789</td>\n",
       "      <td>0.324970</td>\n",
       "      <td>0.388354</td>\n",
       "      <td>...</td>\n",
       "      <td>0.466246</td>\n",
       "      <td>0.142273</td>\n",
       "      <td>0.041618</td>\n",
       "      <td>0.414054</td>\n",
       "      <td>0.128454</td>\n",
       "      <td>0.026740</td>\n",
       "      <td>0.059371</td>\n",
       "      <td>0.063466</td>\n",
       "      <td>2</td>\n",
       "      <td>0</td>\n",
       "    </tr>\n",
       "  </tbody>\n",
       "</table>\n",
       "<p>5 rows × 30 columns</p>\n",
       "</div>"
      ],
      "text/plain": [
       "   Unnamed: 0  amdission_age  gender  heartrate_mean  meanbp_mean  sysbp_mean  \\\n",
       "0           0       0.558335     0.0        0.420142     0.538685    0.607481   \n",
       "1           1       0.967606     0.0        0.251775     0.467465    0.728568   \n",
       "2           2       0.908553     0.0        0.201747     0.473796    0.747566   \n",
       "3           3       0.585965     0.0        0.287335     0.281486    0.415570   \n",
       "4           4       0.545732     1.0        0.424039     0.365803    0.367042   \n",
       "\n",
       "   tempc_mean  spo2_mean  resprate_mean  diasbp_mean   ...    albumin_mean  \\\n",
       "0    0.713859   0.903968       0.346149     0.452554   ...        0.466246   \n",
       "1    0.684853   0.905051       0.322675     0.400575   ...        0.466246   \n",
       "2    0.580397   0.988272       0.180286     0.388677   ...        0.466246   \n",
       "3    0.588939   0.950327       0.240689     0.301600   ...        0.238095   \n",
       "4    0.706385   0.954789       0.324970     0.388354   ...        0.466246   \n",
       "\n",
       "   bands_mean  bilirubin_mean  hemoglobin_mean  ptt_mean  inr_mean   pt_mean  \\\n",
       "0    0.142273        0.041618         0.820529  0.065721  0.014585  0.035408   \n",
       "1    0.142273        0.007797         0.555009  0.170775  0.030103  0.073783   \n",
       "2    0.142273        0.041618         0.414874  0.312547  0.010027  0.028165   \n",
       "3    0.142273        0.224172         0.385372  0.154593  0.043756  0.126073   \n",
       "4    0.142273        0.041618         0.414054  0.128454  0.026740  0.059371   \n",
       "\n",
       "   bun_mean  clust  is_AKI  \n",
       "0  0.026851      4       0  \n",
       "1  0.046379      1       0  \n",
       "2  0.314890      1       0  \n",
       "3  0.146461      3       0  \n",
       "4  0.063466      2       0  \n",
       "\n",
       "[5 rows x 30 columns]"
      ]
     },
     "execution_count": 75,
     "metadata": {},
     "output_type": "execute_result"
    }
   ],
   "source": [
    "data.head()"
   ]
  },
  {
   "cell_type": "code",
   "execution_count": 76,
   "metadata": {},
   "outputs": [],
   "source": [
    "data0 = data[data['clust']==0]"
   ]
  },
  {
   "cell_type": "code",
   "execution_count": 77,
   "metadata": {},
   "outputs": [],
   "source": [
    "t = data0.drop(\"is_AKI\", axis=1)\n",
    "X0 = t.drop('clust', axis = 1)\n",
    "Y0 = data0[\"is_AKI\"]"
   ]
  },
  {
   "cell_type": "code",
   "execution_count": null,
   "metadata": {},
   "outputs": [],
   "source": []
  },
  {
   "cell_type": "code",
   "execution_count": 78,
   "metadata": {},
   "outputs": [],
   "source": [
    "from sklearn.model_selection import train_test_split"
   ]
  },
  {
   "cell_type": "code",
   "execution_count": 79,
   "metadata": {},
   "outputs": [],
   "source": [
    "X_train, X_test, y_train, y_test = train_test_split(X0,Y0, test_size=0.3, random_state=1)"
   ]
  },
  {
   "cell_type": "code",
   "execution_count": 80,
   "metadata": {},
   "outputs": [],
   "source": [
    "from sklearn.linear_model import LogisticRegression"
   ]
  },
  {
   "cell_type": "code",
   "execution_count": 81,
   "metadata": {},
   "outputs": [],
   "source": [
    "logmodel = LogisticRegression()"
   ]
  },
  {
   "cell_type": "code",
   "execution_count": 82,
   "metadata": {},
   "outputs": [
    {
     "data": {
      "text/plain": [
       "LogisticRegression(C=1.0, class_weight=None, dual=False, fit_intercept=True,\n",
       "          intercept_scaling=1, max_iter=100, multi_class='warn',\n",
       "          n_jobs=None, penalty='l2', random_state=None, solver='warn',\n",
       "          tol=0.0001, verbose=0, warm_start=False)"
      ]
     },
     "execution_count": 82,
     "metadata": {},
     "output_type": "execute_result"
    }
   ],
   "source": [
    "logmodel.fit(X_train, y_train)"
   ]
  },
  {
   "cell_type": "code",
   "execution_count": 83,
   "metadata": {},
   "outputs": [],
   "source": [
    "predictions = logmodel.predict(X_test)"
   ]
  },
  {
   "cell_type": "code",
   "execution_count": 84,
   "metadata": {},
   "outputs": [],
   "source": [
    "from sklearn.metrics import classification_report"
   ]
  },
  {
   "cell_type": "code",
   "execution_count": 85,
   "metadata": {},
   "outputs": [
    {
     "data": {
      "text/plain": [
       "u'              precision    recall  f1-score   support\\n\\n           0       0.67      0.71      0.69       279\\n           1       0.62      0.58      0.60       229\\n\\n   micro avg       0.65      0.65      0.65       508\\n   macro avg       0.65      0.64      0.64       508\\nweighted avg       0.65      0.65      0.65       508\\n'"
      ]
     },
     "execution_count": 85,
     "metadata": {},
     "output_type": "execute_result"
    }
   ],
   "source": [
    "classification_report(y_test, predictions)"
   ]
  },
  {
   "cell_type": "code",
   "execution_count": 86,
   "metadata": {},
   "outputs": [],
   "source": [
    "from sklearn.metrics import confusion_matrix"
   ]
  },
  {
   "cell_type": "code",
   "execution_count": 87,
   "metadata": {},
   "outputs": [
    {
     "data": {
      "text/plain": [
       "array([[198,  81],\n",
       "       [ 97, 132]])"
      ]
     },
     "execution_count": 87,
     "metadata": {},
     "output_type": "execute_result"
    }
   ],
   "source": [
    "confusion_matrix(y_test, predictions)"
   ]
  },
  {
   "cell_type": "markdown",
   "metadata": {},
   "source": [
    "### Calculate Accuracy"
   ]
  },
  {
   "cell_type": "code",
   "execution_count": 88,
   "metadata": {},
   "outputs": [],
   "source": [
    "from sklearn.metrics import accuracy_score"
   ]
  },
  {
   "cell_type": "code",
   "execution_count": 89,
   "metadata": {},
   "outputs": [
    {
     "data": {
      "text/plain": [
       "0.6496062992125984"
      ]
     },
     "execution_count": 89,
     "metadata": {},
     "output_type": "execute_result"
    }
   ],
   "source": [
    "accuracy_score(y_test, predictions)"
   ]
  },
  {
   "cell_type": "markdown",
   "metadata": {},
   "source": [
    "## LR Analysis C1"
   ]
  },
  {
   "cell_type": "code",
   "execution_count": 116,
   "metadata": {},
   "outputs": [],
   "source": [
    "data1 = data[data['clust']==1]"
   ]
  },
  {
   "cell_type": "code",
   "execution_count": 117,
   "metadata": {},
   "outputs": [
    {
     "data": {
      "text/html": [
       "<div>\n",
       "<style scoped>\n",
       "    .dataframe tbody tr th:only-of-type {\n",
       "        vertical-align: middle;\n",
       "    }\n",
       "\n",
       "    .dataframe tbody tr th {\n",
       "        vertical-align: top;\n",
       "    }\n",
       "\n",
       "    .dataframe thead th {\n",
       "        text-align: right;\n",
       "    }\n",
       "</style>\n",
       "<table border=\"1\" class=\"dataframe\">\n",
       "  <thead>\n",
       "    <tr style=\"text-align: right;\">\n",
       "      <th></th>\n",
       "      <th>Unnamed: 0</th>\n",
       "      <th>amdission_age</th>\n",
       "      <th>gender</th>\n",
       "      <th>heartrate_mean</th>\n",
       "      <th>meanbp_mean</th>\n",
       "      <th>sysbp_mean</th>\n",
       "      <th>tempc_mean</th>\n",
       "      <th>spo2_mean</th>\n",
       "      <th>resprate_mean</th>\n",
       "      <th>diasbp_mean</th>\n",
       "      <th>...</th>\n",
       "      <th>albumin_mean</th>\n",
       "      <th>bands_mean</th>\n",
       "      <th>bilirubin_mean</th>\n",
       "      <th>hemoglobin_mean</th>\n",
       "      <th>ptt_mean</th>\n",
       "      <th>inr_mean</th>\n",
       "      <th>pt_mean</th>\n",
       "      <th>bun_mean</th>\n",
       "      <th>clust</th>\n",
       "      <th>is_AKI</th>\n",
       "    </tr>\n",
       "  </thead>\n",
       "  <tbody>\n",
       "    <tr>\n",
       "      <th>1</th>\n",
       "      <td>1</td>\n",
       "      <td>0.967606</td>\n",
       "      <td>0.0</td>\n",
       "      <td>0.251775</td>\n",
       "      <td>0.467465</td>\n",
       "      <td>0.728568</td>\n",
       "      <td>0.684853</td>\n",
       "      <td>0.905051</td>\n",
       "      <td>0.322675</td>\n",
       "      <td>0.400575</td>\n",
       "      <td>...</td>\n",
       "      <td>0.466246</td>\n",
       "      <td>0.142273</td>\n",
       "      <td>0.007797</td>\n",
       "      <td>0.555009</td>\n",
       "      <td>0.170775</td>\n",
       "      <td>0.030103</td>\n",
       "      <td>0.073783</td>\n",
       "      <td>0.046379</td>\n",
       "      <td>1</td>\n",
       "      <td>0</td>\n",
       "    </tr>\n",
       "    <tr>\n",
       "      <th>2</th>\n",
       "      <td>2</td>\n",
       "      <td>0.908553</td>\n",
       "      <td>0.0</td>\n",
       "      <td>0.201747</td>\n",
       "      <td>0.473796</td>\n",
       "      <td>0.747566</td>\n",
       "      <td>0.580397</td>\n",
       "      <td>0.988272</td>\n",
       "      <td>0.180286</td>\n",
       "      <td>0.388677</td>\n",
       "      <td>...</td>\n",
       "      <td>0.466246</td>\n",
       "      <td>0.142273</td>\n",
       "      <td>0.041618</td>\n",
       "      <td>0.414874</td>\n",
       "      <td>0.312547</td>\n",
       "      <td>0.010027</td>\n",
       "      <td>0.028165</td>\n",
       "      <td>0.314890</td>\n",
       "      <td>1</td>\n",
       "      <td>0</td>\n",
       "    </tr>\n",
       "    <tr>\n",
       "      <th>6</th>\n",
       "      <td>6</td>\n",
       "      <td>0.957568</td>\n",
       "      <td>0.0</td>\n",
       "      <td>0.597882</td>\n",
       "      <td>0.508615</td>\n",
       "      <td>0.393588</td>\n",
       "      <td>0.544096</td>\n",
       "      <td>0.860000</td>\n",
       "      <td>0.487780</td>\n",
       "      <td>0.512280</td>\n",
       "      <td>...</td>\n",
       "      <td>0.380952</td>\n",
       "      <td>0.133627</td>\n",
       "      <td>0.013645</td>\n",
       "      <td>0.650891</td>\n",
       "      <td>0.135922</td>\n",
       "      <td>0.029170</td>\n",
       "      <td>0.063305</td>\n",
       "      <td>0.246542</td>\n",
       "      <td>1</td>\n",
       "      <td>0</td>\n",
       "    </tr>\n",
       "    <tr>\n",
       "      <th>7</th>\n",
       "      <td>7</td>\n",
       "      <td>0.896536</td>\n",
       "      <td>0.0</td>\n",
       "      <td>0.275652</td>\n",
       "      <td>0.254333</td>\n",
       "      <td>0.336593</td>\n",
       "      <td>0.613496</td>\n",
       "      <td>0.992593</td>\n",
       "      <td>0.232354</td>\n",
       "      <td>0.316499</td>\n",
       "      <td>...</td>\n",
       "      <td>0.690476</td>\n",
       "      <td>0.142273</td>\n",
       "      <td>0.023392</td>\n",
       "      <td>0.496005</td>\n",
       "      <td>0.249440</td>\n",
       "      <td>0.268611</td>\n",
       "      <td>0.613019</td>\n",
       "      <td>0.518308</td>\n",
       "      <td>1</td>\n",
       "      <td>1</td>\n",
       "    </tr>\n",
       "    <tr>\n",
       "      <th>13</th>\n",
       "      <td>13</td>\n",
       "      <td>0.848335</td>\n",
       "      <td>0.0</td>\n",
       "      <td>0.287222</td>\n",
       "      <td>0.420797</td>\n",
       "      <td>0.543052</td>\n",
       "      <td>0.638053</td>\n",
       "      <td>0.964021</td>\n",
       "      <td>0.213564</td>\n",
       "      <td>0.383451</td>\n",
       "      <td>...</td>\n",
       "      <td>0.666667</td>\n",
       "      <td>0.142273</td>\n",
       "      <td>0.005848</td>\n",
       "      <td>0.389797</td>\n",
       "      <td>0.081653</td>\n",
       "      <td>0.015801</td>\n",
       "      <td>0.039700</td>\n",
       "      <td>0.113100</td>\n",
       "      <td>1</td>\n",
       "      <td>1</td>\n",
       "    </tr>\n",
       "  </tbody>\n",
       "</table>\n",
       "<p>5 rows × 30 columns</p>\n",
       "</div>"
      ],
      "text/plain": [
       "    Unnamed: 0  amdission_age  gender  heartrate_mean  meanbp_mean  \\\n",
       "1            1       0.967606     0.0        0.251775     0.467465   \n",
       "2            2       0.908553     0.0        0.201747     0.473796   \n",
       "6            6       0.957568     0.0        0.597882     0.508615   \n",
       "7            7       0.896536     0.0        0.275652     0.254333   \n",
       "13          13       0.848335     0.0        0.287222     0.420797   \n",
       "\n",
       "    sysbp_mean  tempc_mean  spo2_mean  resprate_mean  diasbp_mean   ...    \\\n",
       "1     0.728568    0.684853   0.905051       0.322675     0.400575   ...     \n",
       "2     0.747566    0.580397   0.988272       0.180286     0.388677   ...     \n",
       "6     0.393588    0.544096   0.860000       0.487780     0.512280   ...     \n",
       "7     0.336593    0.613496   0.992593       0.232354     0.316499   ...     \n",
       "13    0.543052    0.638053   0.964021       0.213564     0.383451   ...     \n",
       "\n",
       "    albumin_mean  bands_mean  bilirubin_mean  hemoglobin_mean  ptt_mean  \\\n",
       "1       0.466246    0.142273        0.007797         0.555009  0.170775   \n",
       "2       0.466246    0.142273        0.041618         0.414874  0.312547   \n",
       "6       0.380952    0.133627        0.013645         0.650891  0.135922   \n",
       "7       0.690476    0.142273        0.023392         0.496005  0.249440   \n",
       "13      0.666667    0.142273        0.005848         0.389797  0.081653   \n",
       "\n",
       "    inr_mean   pt_mean  bun_mean  clust  is_AKI  \n",
       "1   0.030103  0.073783  0.046379      1       0  \n",
       "2   0.010027  0.028165  0.314890      1       0  \n",
       "6   0.029170  0.063305  0.246542      1       0  \n",
       "7   0.268611  0.613019  0.518308      1       1  \n",
       "13  0.015801  0.039700  0.113100      1       1  \n",
       "\n",
       "[5 rows x 30 columns]"
      ]
     },
     "execution_count": 117,
     "metadata": {},
     "output_type": "execute_result"
    }
   ],
   "source": [
    "data1.head()"
   ]
  },
  {
   "cell_type": "code",
   "execution_count": 118,
   "metadata": {},
   "outputs": [],
   "source": [
    "t = data1.drop(\"is_AKI\", axis=1)\n",
    "X1 = t.drop('clust', axis = 1)\n",
    "Y1 = data1[\"is_AKI\"]"
   ]
  },
  {
   "cell_type": "code",
   "execution_count": 119,
   "metadata": {},
   "outputs": [
    {
     "data": {
      "text/plain": [
       "(1466, 28)"
      ]
     },
     "execution_count": 119,
     "metadata": {},
     "output_type": "execute_result"
    }
   ],
   "source": [
    "X1.shape"
   ]
  },
  {
   "cell_type": "code",
   "execution_count": 120,
   "metadata": {},
   "outputs": [
    {
     "data": {
      "text/plain": [
       "(1466,)"
      ]
     },
     "execution_count": 120,
     "metadata": {},
     "output_type": "execute_result"
    }
   ],
   "source": [
    "Y1.shape"
   ]
  },
  {
   "cell_type": "code",
   "execution_count": 121,
   "metadata": {},
   "outputs": [],
   "source": [
    "from sklearn.model_selection import train_test_split"
   ]
  },
  {
   "cell_type": "code",
   "execution_count": 122,
   "metadata": {},
   "outputs": [],
   "source": [
    "X_train, X_test, y_train, y_test = train_test_split(X1,Y1, test_size=0.3, random_state=1)"
   ]
  },
  {
   "cell_type": "code",
   "execution_count": 123,
   "metadata": {},
   "outputs": [],
   "source": [
    "from sklearn.linear_model import LogisticRegression"
   ]
  },
  {
   "cell_type": "code",
   "execution_count": 124,
   "metadata": {},
   "outputs": [],
   "source": [
    "logmodel = LogisticRegression()"
   ]
  },
  {
   "cell_type": "code",
   "execution_count": 125,
   "metadata": {},
   "outputs": [
    {
     "data": {
      "text/plain": [
       "LogisticRegression(C=1.0, class_weight=None, dual=False, fit_intercept=True,\n",
       "          intercept_scaling=1, max_iter=100, multi_class='warn',\n",
       "          n_jobs=None, penalty='l2', random_state=None, solver='warn',\n",
       "          tol=0.0001, verbose=0, warm_start=False)"
      ]
     },
     "execution_count": 125,
     "metadata": {},
     "output_type": "execute_result"
    }
   ],
   "source": [
    "logmodel.fit(X_train, y_train)"
   ]
  },
  {
   "cell_type": "code",
   "execution_count": 126,
   "metadata": {},
   "outputs": [],
   "source": [
    "predictions = logmodel.predict(X_test)"
   ]
  },
  {
   "cell_type": "code",
   "execution_count": 127,
   "metadata": {},
   "outputs": [],
   "source": [
    "from sklearn.metrics import classification_report"
   ]
  },
  {
   "cell_type": "code",
   "execution_count": 128,
   "metadata": {},
   "outputs": [
    {
     "data": {
      "text/plain": [
       "u'              precision    recall  f1-score   support\\n\\n           0       0.65      0.59      0.62       231\\n           1       0.59      0.65      0.62       209\\n\\n   micro avg       0.62      0.62      0.62       440\\n   macro avg       0.62      0.62      0.62       440\\nweighted avg       0.62      0.62      0.62       440\\n'"
      ]
     },
     "execution_count": 128,
     "metadata": {},
     "output_type": "execute_result"
    }
   ],
   "source": [
    "classification_report(y_test, predictions)"
   ]
  },
  {
   "cell_type": "code",
   "execution_count": 109,
   "metadata": {},
   "outputs": [],
   "source": [
    "from sklearn.metrics import confusion_matrix"
   ]
  },
  {
   "cell_type": "code",
   "execution_count": 110,
   "metadata": {},
   "outputs": [
    {
     "data": {
      "text/plain": [
       "array([[136,  95],\n",
       "       [ 73, 136]])"
      ]
     },
     "execution_count": 110,
     "metadata": {},
     "output_type": "execute_result"
    }
   ],
   "source": [
    "confusion_matrix(y_test, predictions)"
   ]
  },
  {
   "cell_type": "markdown",
   "metadata": {},
   "source": [
    "### Calculate Accuracy"
   ]
  },
  {
   "cell_type": "code",
   "execution_count": 111,
   "metadata": {},
   "outputs": [],
   "source": [
    "from sklearn.metrics import accuracy_score"
   ]
  },
  {
   "cell_type": "code",
   "execution_count": 112,
   "metadata": {},
   "outputs": [
    {
     "data": {
      "text/plain": [
       "0.6181818181818182"
      ]
     },
     "execution_count": 112,
     "metadata": {},
     "output_type": "execute_result"
    }
   ],
   "source": [
    "accuracy_score(y_test, predictions)"
   ]
  },
  {
   "cell_type": "markdown",
   "metadata": {},
   "source": [
    "## LR Analysis C2"
   ]
  },
  {
   "cell_type": "code",
   "execution_count": 141,
   "metadata": {},
   "outputs": [],
   "source": [
    "data2 = data[data['clust']==2]"
   ]
  },
  {
   "cell_type": "code",
   "execution_count": 142,
   "metadata": {},
   "outputs": [
    {
     "data": {
      "text/html": [
       "<div>\n",
       "<style scoped>\n",
       "    .dataframe tbody tr th:only-of-type {\n",
       "        vertical-align: middle;\n",
       "    }\n",
       "\n",
       "    .dataframe tbody tr th {\n",
       "        vertical-align: top;\n",
       "    }\n",
       "\n",
       "    .dataframe thead th {\n",
       "        text-align: right;\n",
       "    }\n",
       "</style>\n",
       "<table border=\"1\" class=\"dataframe\">\n",
       "  <thead>\n",
       "    <tr style=\"text-align: right;\">\n",
       "      <th></th>\n",
       "      <th>Unnamed: 0</th>\n",
       "      <th>amdission_age</th>\n",
       "      <th>gender</th>\n",
       "      <th>heartrate_mean</th>\n",
       "      <th>meanbp_mean</th>\n",
       "      <th>sysbp_mean</th>\n",
       "      <th>tempc_mean</th>\n",
       "      <th>spo2_mean</th>\n",
       "      <th>resprate_mean</th>\n",
       "      <th>diasbp_mean</th>\n",
       "      <th>...</th>\n",
       "      <th>albumin_mean</th>\n",
       "      <th>bands_mean</th>\n",
       "      <th>bilirubin_mean</th>\n",
       "      <th>hemoglobin_mean</th>\n",
       "      <th>ptt_mean</th>\n",
       "      <th>inr_mean</th>\n",
       "      <th>pt_mean</th>\n",
       "      <th>bun_mean</th>\n",
       "      <th>clust</th>\n",
       "      <th>is_AKI</th>\n",
       "    </tr>\n",
       "  </thead>\n",
       "  <tbody>\n",
       "    <tr>\n",
       "      <th>4</th>\n",
       "      <td>4</td>\n",
       "      <td>0.545732</td>\n",
       "      <td>1.0</td>\n",
       "      <td>0.424039</td>\n",
       "      <td>0.365803</td>\n",
       "      <td>0.367042</td>\n",
       "      <td>0.706385</td>\n",
       "      <td>0.954789</td>\n",
       "      <td>0.324970</td>\n",
       "      <td>0.388354</td>\n",
       "      <td>...</td>\n",
       "      <td>0.466246</td>\n",
       "      <td>0.142273</td>\n",
       "      <td>0.041618</td>\n",
       "      <td>0.414054</td>\n",
       "      <td>0.128454</td>\n",
       "      <td>0.026740</td>\n",
       "      <td>0.059371</td>\n",
       "      <td>0.063466</td>\n",
       "      <td>2</td>\n",
       "      <td>0</td>\n",
       "    </tr>\n",
       "    <tr>\n",
       "      <th>5</th>\n",
       "      <td>5</td>\n",
       "      <td>0.320255</td>\n",
       "      <td>1.0</td>\n",
       "      <td>0.614990</td>\n",
       "      <td>0.329273</td>\n",
       "      <td>0.333942</td>\n",
       "      <td>0.689836</td>\n",
       "      <td>0.935043</td>\n",
       "      <td>0.473174</td>\n",
       "      <td>0.374938</td>\n",
       "      <td>...</td>\n",
       "      <td>0.466246</td>\n",
       "      <td>0.142273</td>\n",
       "      <td>0.038986</td>\n",
       "      <td>0.269822</td>\n",
       "      <td>0.123724</td>\n",
       "      <td>0.020662</td>\n",
       "      <td>0.059371</td>\n",
       "      <td>0.056143</td>\n",
       "      <td>2</td>\n",
       "      <td>0</td>\n",
       "    </tr>\n",
       "    <tr>\n",
       "      <th>8</th>\n",
       "      <td>8</td>\n",
       "      <td>0.518038</td>\n",
       "      <td>1.0</td>\n",
       "      <td>0.381154</td>\n",
       "      <td>0.501756</td>\n",
       "      <td>0.555573</td>\n",
       "      <td>0.769379</td>\n",
       "      <td>0.985185</td>\n",
       "      <td>0.253968</td>\n",
       "      <td>0.430876</td>\n",
       "      <td>...</td>\n",
       "      <td>0.466246</td>\n",
       "      <td>0.142273</td>\n",
       "      <td>0.041618</td>\n",
       "      <td>0.675476</td>\n",
       "      <td>0.051531</td>\n",
       "      <td>0.010939</td>\n",
       "      <td>0.028970</td>\n",
       "      <td>0.041497</td>\n",
       "      <td>2</td>\n",
       "      <td>1</td>\n",
       "    </tr>\n",
       "    <tr>\n",
       "      <th>19</th>\n",
       "      <td>19</td>\n",
       "      <td>0.637268</td>\n",
       "      <td>1.0</td>\n",
       "      <td>0.155615</td>\n",
       "      <td>0.492382</td>\n",
       "      <td>0.727575</td>\n",
       "      <td>0.562246</td>\n",
       "      <td>0.986667</td>\n",
       "      <td>0.238918</td>\n",
       "      <td>0.450504</td>\n",
       "      <td>...</td>\n",
       "      <td>0.466246</td>\n",
       "      <td>0.142273</td>\n",
       "      <td>0.041618</td>\n",
       "      <td>0.407498</td>\n",
       "      <td>0.097834</td>\n",
       "      <td>0.014585</td>\n",
       "      <td>0.042918</td>\n",
       "      <td>0.136697</td>\n",
       "      <td>2</td>\n",
       "      <td>0</td>\n",
       "    </tr>\n",
       "    <tr>\n",
       "      <th>23</th>\n",
       "      <td>23</td>\n",
       "      <td>0.892517</td>\n",
       "      <td>1.0</td>\n",
       "      <td>0.468095</td>\n",
       "      <td>0.616832</td>\n",
       "      <td>0.758228</td>\n",
       "      <td>0.793871</td>\n",
       "      <td>0.967742</td>\n",
       "      <td>0.233942</td>\n",
       "      <td>0.445641</td>\n",
       "      <td>...</td>\n",
       "      <td>0.466246</td>\n",
       "      <td>0.142273</td>\n",
       "      <td>0.041618</td>\n",
       "      <td>0.543946</td>\n",
       "      <td>0.061240</td>\n",
       "      <td>0.007293</td>\n",
       "      <td>0.023605</td>\n",
       "      <td>0.053702</td>\n",
       "      <td>2</td>\n",
       "      <td>0</td>\n",
       "    </tr>\n",
       "  </tbody>\n",
       "</table>\n",
       "<p>5 rows × 30 columns</p>\n",
       "</div>"
      ],
      "text/plain": [
       "    Unnamed: 0  amdission_age  gender  heartrate_mean  meanbp_mean  \\\n",
       "4            4       0.545732     1.0        0.424039     0.365803   \n",
       "5            5       0.320255     1.0        0.614990     0.329273   \n",
       "8            8       0.518038     1.0        0.381154     0.501756   \n",
       "19          19       0.637268     1.0        0.155615     0.492382   \n",
       "23          23       0.892517     1.0        0.468095     0.616832   \n",
       "\n",
       "    sysbp_mean  tempc_mean  spo2_mean  resprate_mean  diasbp_mean   ...    \\\n",
       "4     0.367042    0.706385   0.954789       0.324970     0.388354   ...     \n",
       "5     0.333942    0.689836   0.935043       0.473174     0.374938   ...     \n",
       "8     0.555573    0.769379   0.985185       0.253968     0.430876   ...     \n",
       "19    0.727575    0.562246   0.986667       0.238918     0.450504   ...     \n",
       "23    0.758228    0.793871   0.967742       0.233942     0.445641   ...     \n",
       "\n",
       "    albumin_mean  bands_mean  bilirubin_mean  hemoglobin_mean  ptt_mean  \\\n",
       "4       0.466246    0.142273        0.041618         0.414054  0.128454   \n",
       "5       0.466246    0.142273        0.038986         0.269822  0.123724   \n",
       "8       0.466246    0.142273        0.041618         0.675476  0.051531   \n",
       "19      0.466246    0.142273        0.041618         0.407498  0.097834   \n",
       "23      0.466246    0.142273        0.041618         0.543946  0.061240   \n",
       "\n",
       "    inr_mean   pt_mean  bun_mean  clust  is_AKI  \n",
       "4   0.026740  0.059371  0.063466      2       0  \n",
       "5   0.020662  0.059371  0.056143      2       0  \n",
       "8   0.010939  0.028970  0.041497      2       1  \n",
       "19  0.014585  0.042918  0.136697      2       0  \n",
       "23  0.007293  0.023605  0.053702      2       0  \n",
       "\n",
       "[5 rows x 30 columns]"
      ]
     },
     "execution_count": 142,
     "metadata": {},
     "output_type": "execute_result"
    }
   ],
   "source": [
    "data2.head()"
   ]
  },
  {
   "cell_type": "code",
   "execution_count": 143,
   "metadata": {},
   "outputs": [],
   "source": [
    "t = data2.drop(\"is_AKI\", axis=1)\n",
    "X2 = t.drop('clust', axis = 1)\n",
    "Y2 = data2[\"is_AKI\"]"
   ]
  },
  {
   "cell_type": "code",
   "execution_count": 144,
   "metadata": {},
   "outputs": [
    {
     "data": {
      "text/plain": [
       "(1003, 28)"
      ]
     },
     "execution_count": 144,
     "metadata": {},
     "output_type": "execute_result"
    }
   ],
   "source": [
    "X2.shape"
   ]
  },
  {
   "cell_type": "code",
   "execution_count": 145,
   "metadata": {},
   "outputs": [
    {
     "data": {
      "text/plain": [
       "(1003,)"
      ]
     },
     "execution_count": 145,
     "metadata": {},
     "output_type": "execute_result"
    }
   ],
   "source": [
    "Y2.shape"
   ]
  },
  {
   "cell_type": "code",
   "execution_count": 146,
   "metadata": {},
   "outputs": [],
   "source": [
    "from sklearn.model_selection import train_test_split"
   ]
  },
  {
   "cell_type": "code",
   "execution_count": 147,
   "metadata": {},
   "outputs": [],
   "source": [
    "X_train, X_test, y_train, y_test = train_test_split(X2,Y2, test_size=0.3, random_state=1)"
   ]
  },
  {
   "cell_type": "code",
   "execution_count": 148,
   "metadata": {},
   "outputs": [],
   "source": [
    "from sklearn.linear_model import LogisticRegression"
   ]
  },
  {
   "cell_type": "code",
   "execution_count": 149,
   "metadata": {},
   "outputs": [],
   "source": [
    "logmodel = LogisticRegression()"
   ]
  },
  {
   "cell_type": "code",
   "execution_count": 150,
   "metadata": {},
   "outputs": [
    {
     "data": {
      "text/plain": [
       "LogisticRegression(C=1.0, class_weight=None, dual=False, fit_intercept=True,\n",
       "          intercept_scaling=1, max_iter=100, multi_class='warn',\n",
       "          n_jobs=None, penalty='l2', random_state=None, solver='warn',\n",
       "          tol=0.0001, verbose=0, warm_start=False)"
      ]
     },
     "execution_count": 150,
     "metadata": {},
     "output_type": "execute_result"
    }
   ],
   "source": [
    "logmodel.fit(X_train, y_train)"
   ]
  },
  {
   "cell_type": "code",
   "execution_count": 151,
   "metadata": {},
   "outputs": [],
   "source": [
    "predictions = logmodel.predict(X_test)"
   ]
  },
  {
   "cell_type": "code",
   "execution_count": 152,
   "metadata": {},
   "outputs": [],
   "source": [
    "from sklearn.metrics import classification_report"
   ]
  },
  {
   "cell_type": "code",
   "execution_count": 153,
   "metadata": {},
   "outputs": [
    {
     "data": {
      "text/plain": [
       "u'              precision    recall  f1-score   support\\n\\n           0       0.59      0.97      0.74       174\\n           1       0.69      0.09      0.15       127\\n\\n   micro avg       0.60      0.60      0.60       301\\n   macro avg       0.64      0.53      0.45       301\\nweighted avg       0.63      0.60      0.49       301\\n'"
      ]
     },
     "execution_count": 153,
     "metadata": {},
     "output_type": "execute_result"
    }
   ],
   "source": [
    "classification_report(y_test, predictions)"
   ]
  },
  {
   "cell_type": "code",
   "execution_count": 154,
   "metadata": {},
   "outputs": [],
   "source": [
    "from sklearn.metrics import confusion_matrix"
   ]
  },
  {
   "cell_type": "code",
   "execution_count": 155,
   "metadata": {},
   "outputs": [
    {
     "data": {
      "text/plain": [
       "array([[169,   5],\n",
       "       [116,  11]])"
      ]
     },
     "execution_count": 155,
     "metadata": {},
     "output_type": "execute_result"
    }
   ],
   "source": [
    "confusion_matrix(y_test, predictions)"
   ]
  },
  {
   "cell_type": "markdown",
   "metadata": {},
   "source": [
    "### Calculate Accuracy"
   ]
  },
  {
   "cell_type": "code",
   "execution_count": 156,
   "metadata": {},
   "outputs": [],
   "source": [
    "from sklearn.metrics import accuracy_score"
   ]
  },
  {
   "cell_type": "code",
   "execution_count": 157,
   "metadata": {},
   "outputs": [
    {
     "data": {
      "text/plain": [
       "0.5980066445182725"
      ]
     },
     "execution_count": 157,
     "metadata": {},
     "output_type": "execute_result"
    }
   ],
   "source": [
    "accuracy_score(y_test, predictions)"
   ]
  },
  {
   "cell_type": "markdown",
   "metadata": {},
   "source": [
    "## LR Analysis C3"
   ]
  },
  {
   "cell_type": "code",
   "execution_count": 158,
   "metadata": {},
   "outputs": [],
   "source": [
    "data3 = data[data['clust']==3]"
   ]
  },
  {
   "cell_type": "code",
   "execution_count": 159,
   "metadata": {},
   "outputs": [
    {
     "data": {
      "text/html": [
       "<div>\n",
       "<style scoped>\n",
       "    .dataframe tbody tr th:only-of-type {\n",
       "        vertical-align: middle;\n",
       "    }\n",
       "\n",
       "    .dataframe tbody tr th {\n",
       "        vertical-align: top;\n",
       "    }\n",
       "\n",
       "    .dataframe thead th {\n",
       "        text-align: right;\n",
       "    }\n",
       "</style>\n",
       "<table border=\"1\" class=\"dataframe\">\n",
       "  <thead>\n",
       "    <tr style=\"text-align: right;\">\n",
       "      <th></th>\n",
       "      <th>Unnamed: 0</th>\n",
       "      <th>amdission_age</th>\n",
       "      <th>gender</th>\n",
       "      <th>heartrate_mean</th>\n",
       "      <th>meanbp_mean</th>\n",
       "      <th>sysbp_mean</th>\n",
       "      <th>tempc_mean</th>\n",
       "      <th>spo2_mean</th>\n",
       "      <th>resprate_mean</th>\n",
       "      <th>diasbp_mean</th>\n",
       "      <th>...</th>\n",
       "      <th>albumin_mean</th>\n",
       "      <th>bands_mean</th>\n",
       "      <th>bilirubin_mean</th>\n",
       "      <th>hemoglobin_mean</th>\n",
       "      <th>ptt_mean</th>\n",
       "      <th>inr_mean</th>\n",
       "      <th>pt_mean</th>\n",
       "      <th>bun_mean</th>\n",
       "      <th>clust</th>\n",
       "      <th>is_AKI</th>\n",
       "    </tr>\n",
       "  </thead>\n",
       "  <tbody>\n",
       "    <tr>\n",
       "      <th>3</th>\n",
       "      <td>3</td>\n",
       "      <td>0.585965</td>\n",
       "      <td>0.0</td>\n",
       "      <td>0.287335</td>\n",
       "      <td>0.281486</td>\n",
       "      <td>0.415570</td>\n",
       "      <td>0.588939</td>\n",
       "      <td>0.950327</td>\n",
       "      <td>0.240689</td>\n",
       "      <td>0.301600</td>\n",
       "      <td>...</td>\n",
       "      <td>0.238095</td>\n",
       "      <td>0.142273</td>\n",
       "      <td>0.224172</td>\n",
       "      <td>0.385372</td>\n",
       "      <td>0.154593</td>\n",
       "      <td>0.043756</td>\n",
       "      <td>0.126073</td>\n",
       "      <td>0.146461</td>\n",
       "      <td>3</td>\n",
       "      <td>0</td>\n",
       "    </tr>\n",
       "    <tr>\n",
       "      <th>17</th>\n",
       "      <td>17</td>\n",
       "      <td>0.513992</td>\n",
       "      <td>0.0</td>\n",
       "      <td>0.337005</td>\n",
       "      <td>0.331191</td>\n",
       "      <td>0.346742</td>\n",
       "      <td>0.732009</td>\n",
       "      <td>0.917172</td>\n",
       "      <td>0.355990</td>\n",
       "      <td>0.328463</td>\n",
       "      <td>...</td>\n",
       "      <td>0.357143</td>\n",
       "      <td>0.142273</td>\n",
       "      <td>0.007797</td>\n",
       "      <td>0.252612</td>\n",
       "      <td>0.099328</td>\n",
       "      <td>0.018232</td>\n",
       "      <td>0.047210</td>\n",
       "      <td>0.056143</td>\n",
       "      <td>3</td>\n",
       "      <td>0</td>\n",
       "    </tr>\n",
       "    <tr>\n",
       "      <th>21</th>\n",
       "      <td>21</td>\n",
       "      <td>0.592988</td>\n",
       "      <td>0.0</td>\n",
       "      <td>0.398976</td>\n",
       "      <td>0.298505</td>\n",
       "      <td>0.346561</td>\n",
       "      <td>0.747758</td>\n",
       "      <td>0.960943</td>\n",
       "      <td>0.388422</td>\n",
       "      <td>0.360388</td>\n",
       "      <td>...</td>\n",
       "      <td>0.466246</td>\n",
       "      <td>0.142273</td>\n",
       "      <td>0.009747</td>\n",
       "      <td>0.400123</td>\n",
       "      <td>0.566094</td>\n",
       "      <td>0.074749</td>\n",
       "      <td>0.208691</td>\n",
       "      <td>0.043938</td>\n",
       "      <td>3</td>\n",
       "      <td>1</td>\n",
       "    </tr>\n",
       "    <tr>\n",
       "      <th>25</th>\n",
       "      <td>25</td>\n",
       "      <td>0.663400</td>\n",
       "      <td>0.0</td>\n",
       "      <td>0.451031</td>\n",
       "      <td>0.369274</td>\n",
       "      <td>0.513134</td>\n",
       "      <td>0.723468</td>\n",
       "      <td>0.904889</td>\n",
       "      <td>0.391675</td>\n",
       "      <td>0.384910</td>\n",
       "      <td>...</td>\n",
       "      <td>0.466246</td>\n",
       "      <td>0.142273</td>\n",
       "      <td>0.041618</td>\n",
       "      <td>0.409342</td>\n",
       "      <td>0.091113</td>\n",
       "      <td>0.018232</td>\n",
       "      <td>0.050429</td>\n",
       "      <td>0.329536</td>\n",
       "      <td>3</td>\n",
       "      <td>1</td>\n",
       "    </tr>\n",
       "    <tr>\n",
       "      <th>26</th>\n",
       "      <td>26</td>\n",
       "      <td>0.472171</td>\n",
       "      <td>0.0</td>\n",
       "      <td>0.419625</td>\n",
       "      <td>0.375191</td>\n",
       "      <td>0.230277</td>\n",
       "      <td>0.776852</td>\n",
       "      <td>0.995960</td>\n",
       "      <td>0.620811</td>\n",
       "      <td>0.366445</td>\n",
       "      <td>...</td>\n",
       "      <td>0.466246</td>\n",
       "      <td>0.142273</td>\n",
       "      <td>0.007797</td>\n",
       "      <td>0.352182</td>\n",
       "      <td>0.601382</td>\n",
       "      <td>0.045579</td>\n",
       "      <td>0.081545</td>\n",
       "      <td>0.361269</td>\n",
       "      <td>3</td>\n",
       "      <td>1</td>\n",
       "    </tr>\n",
       "  </tbody>\n",
       "</table>\n",
       "<p>5 rows × 30 columns</p>\n",
       "</div>"
      ],
      "text/plain": [
       "    Unnamed: 0  amdission_age  gender  heartrate_mean  meanbp_mean  \\\n",
       "3            3       0.585965     0.0        0.287335     0.281486   \n",
       "17          17       0.513992     0.0        0.337005     0.331191   \n",
       "21          21       0.592988     0.0        0.398976     0.298505   \n",
       "25          25       0.663400     0.0        0.451031     0.369274   \n",
       "26          26       0.472171     0.0        0.419625     0.375191   \n",
       "\n",
       "    sysbp_mean  tempc_mean  spo2_mean  resprate_mean  diasbp_mean   ...    \\\n",
       "3     0.415570    0.588939   0.950327       0.240689     0.301600   ...     \n",
       "17    0.346742    0.732009   0.917172       0.355990     0.328463   ...     \n",
       "21    0.346561    0.747758   0.960943       0.388422     0.360388   ...     \n",
       "25    0.513134    0.723468   0.904889       0.391675     0.384910   ...     \n",
       "26    0.230277    0.776852   0.995960       0.620811     0.366445   ...     \n",
       "\n",
       "    albumin_mean  bands_mean  bilirubin_mean  hemoglobin_mean  ptt_mean  \\\n",
       "3       0.238095    0.142273        0.224172         0.385372  0.154593   \n",
       "17      0.357143    0.142273        0.007797         0.252612  0.099328   \n",
       "21      0.466246    0.142273        0.009747         0.400123  0.566094   \n",
       "25      0.466246    0.142273        0.041618         0.409342  0.091113   \n",
       "26      0.466246    0.142273        0.007797         0.352182  0.601382   \n",
       "\n",
       "    inr_mean   pt_mean  bun_mean  clust  is_AKI  \n",
       "3   0.043756  0.126073  0.146461      3       0  \n",
       "17  0.018232  0.047210  0.056143      3       0  \n",
       "21  0.074749  0.208691  0.043938      3       1  \n",
       "25  0.018232  0.050429  0.329536      3       1  \n",
       "26  0.045579  0.081545  0.361269      3       1  \n",
       "\n",
       "[5 rows x 30 columns]"
      ]
     },
     "execution_count": 159,
     "metadata": {},
     "output_type": "execute_result"
    }
   ],
   "source": [
    "data3.head()"
   ]
  },
  {
   "cell_type": "code",
   "execution_count": 163,
   "metadata": {},
   "outputs": [],
   "source": [
    "t = data3.drop(\"is_AKI\", axis=1)\n",
    "X3 = t.drop('clust', axis = 1)\n",
    "Y3 = data3[\"is_AKI\"]"
   ]
  },
  {
   "cell_type": "code",
   "execution_count": 164,
   "metadata": {},
   "outputs": [
    {
     "data": {
      "text/plain": [
       "(960, 28)"
      ]
     },
     "execution_count": 164,
     "metadata": {},
     "output_type": "execute_result"
    }
   ],
   "source": [
    "X3.shape"
   ]
  },
  {
   "cell_type": "code",
   "execution_count": 165,
   "metadata": {},
   "outputs": [
    {
     "data": {
      "text/plain": [
       "(960,)"
      ]
     },
     "execution_count": 165,
     "metadata": {},
     "output_type": "execute_result"
    }
   ],
   "source": [
    "Y3.shape"
   ]
  },
  {
   "cell_type": "code",
   "execution_count": 166,
   "metadata": {},
   "outputs": [],
   "source": [
    "from sklearn.model_selection import train_test_split"
   ]
  },
  {
   "cell_type": "code",
   "execution_count": 167,
   "metadata": {},
   "outputs": [],
   "source": [
    "X_train, X_test, y_train, y_test = train_test_split(X3,Y3, test_size=0.3, random_state=1)"
   ]
  },
  {
   "cell_type": "code",
   "execution_count": 168,
   "metadata": {},
   "outputs": [],
   "source": [
    "from sklearn.linear_model import LogisticRegression"
   ]
  },
  {
   "cell_type": "code",
   "execution_count": 169,
   "metadata": {},
   "outputs": [],
   "source": [
    "logmodel = LogisticRegression()"
   ]
  },
  {
   "cell_type": "code",
   "execution_count": 170,
   "metadata": {},
   "outputs": [
    {
     "data": {
      "text/plain": [
       "LogisticRegression(C=1.0, class_weight=None, dual=False, fit_intercept=True,\n",
       "          intercept_scaling=1, max_iter=100, multi_class='warn',\n",
       "          n_jobs=None, penalty='l2', random_state=None, solver='warn',\n",
       "          tol=0.0001, verbose=0, warm_start=False)"
      ]
     },
     "execution_count": 170,
     "metadata": {},
     "output_type": "execute_result"
    }
   ],
   "source": [
    "logmodel.fit(X_train, y_train)"
   ]
  },
  {
   "cell_type": "code",
   "execution_count": 171,
   "metadata": {},
   "outputs": [],
   "source": [
    "predictions = logmodel.predict(X_test)"
   ]
  },
  {
   "cell_type": "code",
   "execution_count": 172,
   "metadata": {},
   "outputs": [],
   "source": [
    "from sklearn.metrics import classification_report"
   ]
  },
  {
   "cell_type": "code",
   "execution_count": 173,
   "metadata": {},
   "outputs": [
    {
     "data": {
      "text/plain": [
       "u'              precision    recall  f1-score   support\\n\\n           0       0.63      0.83      0.72       156\\n           1       0.68      0.42      0.52       132\\n\\n   micro avg       0.65      0.65      0.65       288\\n   macro avg       0.66      0.63      0.62       288\\nweighted avg       0.65      0.65      0.63       288\\n'"
      ]
     },
     "execution_count": 173,
     "metadata": {},
     "output_type": "execute_result"
    }
   ],
   "source": [
    "classification_report(y_test, predictions)"
   ]
  },
  {
   "cell_type": "code",
   "execution_count": 174,
   "metadata": {},
   "outputs": [],
   "source": [
    "from sklearn.metrics import confusion_matrix"
   ]
  },
  {
   "cell_type": "code",
   "execution_count": 175,
   "metadata": {},
   "outputs": [
    {
     "data": {
      "text/plain": [
       "array([[130,  26],\n",
       "       [ 76,  56]])"
      ]
     },
     "execution_count": 175,
     "metadata": {},
     "output_type": "execute_result"
    }
   ],
   "source": [
    "confusion_matrix(y_test, predictions)"
   ]
  },
  {
   "cell_type": "markdown",
   "metadata": {},
   "source": [
    "### Calculate Accuracy"
   ]
  },
  {
   "cell_type": "code",
   "execution_count": 176,
   "metadata": {},
   "outputs": [],
   "source": [
    "from sklear### Calculate Accuracyn.metrics import accuracy_score"
   ]
  },
  {
   "cell_type": "code",
   "execution_count": 177,
   "metadata": {},
   "outputs": [
    {
     "data": {
      "text/plain": [
       "0.6458333333333334"
      ]
     },
     "execution_count": 177,
     "metadata": {},
     "output_type": "execute_result"
    }
   ],
   "source": [
    "accuracy_score(y_test, predictions)"
   ]
  },
  {
   "cell_type": "markdown",
   "metadata": {},
   "source": [
    "## LR Analysis C4"
   ]
  },
  {
   "cell_type": "code",
   "execution_count": 178,
   "metadata": {},
   "outputs": [],
   "source": [
    "data4 = data[data['clust']==4]"
   ]
  },
  {
   "cell_type": "code",
   "execution_count": 179,
   "metadata": {},
   "outputs": [
    {
     "data": {
      "text/html": [
       "<div>\n",
       "<style scoped>\n",
       "    .dataframe tbody tr th:only-of-type {\n",
       "        vertical-align: middle;\n",
       "    }\n",
       "\n",
       "    .dataframe tbody tr th {\n",
       "        vertical-align: top;\n",
       "    }\n",
       "\n",
       "    .dataframe thead th {\n",
       "        text-align: right;\n",
       "    }\n",
       "</style>\n",
       "<table border=\"1\" class=\"dataframe\">\n",
       "  <thead>\n",
       "    <tr style=\"text-align: right;\">\n",
       "      <th></th>\n",
       "      <th>Unnamed: 0</th>\n",
       "      <th>amdission_age</th>\n",
       "      <th>gender</th>\n",
       "      <th>heartrate_mean</th>\n",
       "      <th>meanbp_mean</th>\n",
       "      <th>sysbp_mean</th>\n",
       "      <th>tempc_mean</th>\n",
       "      <th>spo2_mean</th>\n",
       "      <th>resprate_mean</th>\n",
       "      <th>diasbp_mean</th>\n",
       "      <th>...</th>\n",
       "      <th>albumin_mean</th>\n",
       "      <th>bands_mean</th>\n",
       "      <th>bilirubin_mean</th>\n",
       "      <th>hemoglobin_mean</th>\n",
       "      <th>ptt_mean</th>\n",
       "      <th>inr_mean</th>\n",
       "      <th>pt_mean</th>\n",
       "      <th>bun_mean</th>\n",
       "      <th>clust</th>\n",
       "      <th>is_AKI</th>\n",
       "    </tr>\n",
       "  </thead>\n",
       "  <tbody>\n",
       "    <tr>\n",
       "      <th>0</th>\n",
       "      <td>0</td>\n",
       "      <td>0.558335</td>\n",
       "      <td>0.0</td>\n",
       "      <td>0.420142</td>\n",
       "      <td>0.538685</td>\n",
       "      <td>0.607481</td>\n",
       "      <td>0.713859</td>\n",
       "      <td>0.903968</td>\n",
       "      <td>0.346149</td>\n",
       "      <td>0.452554</td>\n",
       "      <td>...</td>\n",
       "      <td>0.466246</td>\n",
       "      <td>0.142273</td>\n",
       "      <td>0.041618</td>\n",
       "      <td>0.820529</td>\n",
       "      <td>0.065721</td>\n",
       "      <td>0.014585</td>\n",
       "      <td>0.035408</td>\n",
       "      <td>0.026851</td>\n",
       "      <td>4</td>\n",
       "      <td>0</td>\n",
       "    </tr>\n",
       "    <tr>\n",
       "      <th>11</th>\n",
       "      <td>11</td>\n",
       "      <td>0.393875</td>\n",
       "      <td>0.0</td>\n",
       "      <td>0.265834</td>\n",
       "      <td>0.442334</td>\n",
       "      <td>0.485533</td>\n",
       "      <td>0.660688</td>\n",
       "      <td>0.938384</td>\n",
       "      <td>0.205227</td>\n",
       "      <td>0.399758</td>\n",
       "      <td>...</td>\n",
       "      <td>0.466246</td>\n",
       "      <td>0.142273</td>\n",
       "      <td>0.041618</td>\n",
       "      <td>0.727105</td>\n",
       "      <td>0.098581</td>\n",
       "      <td>0.010939</td>\n",
       "      <td>0.035408</td>\n",
       "      <td>0.051261</td>\n",
       "      <td>4</td>\n",
       "      <td>0</td>\n",
       "    </tr>\n",
       "    <tr>\n",
       "      <th>18</th>\n",
       "      <td>18</td>\n",
       "      <td>0.551827</td>\n",
       "      <td>0.0</td>\n",
       "      <td>0.418955</td>\n",
       "      <td>0.381762</td>\n",
       "      <td>0.406217</td>\n",
       "      <td>0.658754</td>\n",
       "      <td>0.931185</td>\n",
       "      <td>0.363957</td>\n",
       "      <td>0.396145</td>\n",
       "      <td>...</td>\n",
       "      <td>0.466246</td>\n",
       "      <td>0.142273</td>\n",
       "      <td>0.041618</td>\n",
       "      <td>0.577136</td>\n",
       "      <td>0.096341</td>\n",
       "      <td>0.010939</td>\n",
       "      <td>0.028970</td>\n",
       "      <td>0.073230</td>\n",
       "      <td>4</td>\n",
       "      <td>0</td>\n",
       "    </tr>\n",
       "    <tr>\n",
       "      <th>20</th>\n",
       "      <td>20</td>\n",
       "      <td>0.432388</td>\n",
       "      <td>0.0</td>\n",
       "      <td>0.398466</td>\n",
       "      <td>0.743532</td>\n",
       "      <td>0.697167</td>\n",
       "      <td>0.662182</td>\n",
       "      <td>0.908333</td>\n",
       "      <td>0.221600</td>\n",
       "      <td>0.646881</td>\n",
       "      <td>...</td>\n",
       "      <td>0.466246</td>\n",
       "      <td>0.142273</td>\n",
       "      <td>0.041618</td>\n",
       "      <td>0.621389</td>\n",
       "      <td>0.170775</td>\n",
       "      <td>0.030103</td>\n",
       "      <td>0.073783</td>\n",
       "      <td>0.109845</td>\n",
       "      <td>4</td>\n",
       "      <td>0</td>\n",
       "    </tr>\n",
       "    <tr>\n",
       "      <th>27</th>\n",
       "      <td>27</td>\n",
       "      <td>0.818749</td>\n",
       "      <td>0.0</td>\n",
       "      <td>0.359255</td>\n",
       "      <td>0.374236</td>\n",
       "      <td>0.380616</td>\n",
       "      <td>0.648729</td>\n",
       "      <td>0.974411</td>\n",
       "      <td>0.292583</td>\n",
       "      <td>0.353794</td>\n",
       "      <td>...</td>\n",
       "      <td>0.642857</td>\n",
       "      <td>0.030837</td>\n",
       "      <td>0.013645</td>\n",
       "      <td>0.700061</td>\n",
       "      <td>0.051158</td>\n",
       "      <td>0.014585</td>\n",
       "      <td>0.042382</td>\n",
       "      <td>0.031733</td>\n",
       "      <td>4</td>\n",
       "      <td>0</td>\n",
       "    </tr>\n",
       "  </tbody>\n",
       "</table>\n",
       "<p>5 rows × 30 columns</p>\n",
       "</div>"
      ],
      "text/plain": [
       "    Unnamed: 0  amdission_age  gender  heartrate_mean  meanbp_mean  \\\n",
       "0            0       0.558335     0.0        0.420142     0.538685   \n",
       "11          11       0.393875     0.0        0.265834     0.442334   \n",
       "18          18       0.551827     0.0        0.418955     0.381762   \n",
       "20          20       0.432388     0.0        0.398466     0.743532   \n",
       "27          27       0.818749     0.0        0.359255     0.374236   \n",
       "\n",
       "    sysbp_mean  tempc_mean  spo2_mean  resprate_mean  diasbp_mean   ...    \\\n",
       "0     0.607481    0.713859   0.903968       0.346149     0.452554   ...     \n",
       "11    0.485533    0.660688   0.938384       0.205227     0.399758   ...     \n",
       "18    0.406217    0.658754   0.931185       0.363957     0.396145   ...     \n",
       "20    0.697167    0.662182   0.908333       0.221600     0.646881   ...     \n",
       "27    0.380616    0.648729   0.974411       0.292583     0.353794   ...     \n",
       "\n",
       "    albumin_mean  bands_mean  bilirubin_mean  hemoglobin_mean  ptt_mean  \\\n",
       "0       0.466246    0.142273        0.041618         0.820529  0.065721   \n",
       "11      0.466246    0.142273        0.041618         0.727105  0.098581   \n",
       "18      0.466246    0.142273        0.041618         0.577136  0.096341   \n",
       "20      0.466246    0.142273        0.041618         0.621389  0.170775   \n",
       "27      0.642857    0.030837        0.013645         0.700061  0.051158   \n",
       "\n",
       "    inr_mean   pt_mean  bun_mean  clust  is_AKI  \n",
       "0   0.014585  0.035408  0.026851      4       0  \n",
       "11  0.010939  0.035408  0.051261      4       0  \n",
       "18  0.010939  0.028970  0.073230      4       0  \n",
       "20  0.030103  0.073783  0.109845      4       0  \n",
       "27  0.014585  0.042382  0.031733      4       0  \n",
       "\n",
       "[5 rows x 30 columns]"
      ]
     },
     "execution_count": 179,
     "metadata": {},
     "output_type": "execute_result"
    }
   ],
   "source": [
    "data4.head()"
   ]
  },
  {
   "cell_type": "code",
   "execution_count": 180,
   "metadata": {},
   "outputs": [],
   "source": [
    "t = data4.drop(\"is_AKI\", axis=1)\n",
    "X4 = t.drop('clust', axis = 1)\n",
    "Y4 = data4[\"is_AKI\"]"
   ]
  },
  {
   "cell_type": "code",
   "execution_count": 181,
   "metadata": {},
   "outputs": [
    {
     "data": {
      "text/plain": [
       "(877, 28)"
      ]
     },
     "execution_count": 181,
     "metadata": {},
     "output_type": "execute_result"
    }
   ],
   "source": [
    "X4.shape"
   ]
  },
  {
   "cell_type": "code",
   "execution_count": 182,
   "metadata": {},
   "outputs": [
    {
     "data": {
      "text/plain": [
       "(877,)"
      ]
     },
     "execution_count": 182,
     "metadata": {},
     "output_type": "execute_result"
    }
   ],
   "source": [
    "Y4.shape"
   ]
  },
  {
   "cell_type": "code",
   "execution_count": 183,
   "metadata": {},
   "outputs": [],
   "source": [
    "from sklearn.model_selection import train_test_split"
   ]
  },
  {
   "cell_type": "code",
   "execution_count": 184,
   "metadata": {},
   "outputs": [],
   "source": [
    "X_train, X_test, y_train, y_test = train_test_split(X4,Y4, test_size=0.3, random_state=1)"
   ]
  },
  {
   "cell_type": "code",
   "execution_count": 185,
   "metadata": {},
   "outputs": [],
   "source": [
    "from sklearn.linear_model import LogisticRegression"
   ]
  },
  {
   "cell_type": "code",
   "execution_count": 186,
   "metadata": {},
   "outputs": [],
   "source": [
    "logmodel = LogisticRegression()"
   ]
  },
  {
   "cell_type": "code",
   "execution_count": 187,
   "metadata": {},
   "outputs": [
    {
     "data": {
      "text/plain": [
       "LogisticRegression(C=1.0, class_weight=None, dual=False, fit_intercept=True,\n",
       "          intercept_scaling=1, max_iter=100, multi_class='warn',\n",
       "          n_jobs=None, penalty='l2', random_state=None, solver='warn',\n",
       "          tol=0.0001, verbose=0, warm_start=False)"
      ]
     },
     "execution_count": 187,
     "metadata": {},
     "output_type": "execute_result"
    }
   ],
   "source": [
    "logmodel.fit(X_train, y_train)"
   ]
  },
  {
   "cell_type": "code",
   "execution_count": 188,
   "metadata": {},
   "outputs": [],
   "source": [
    "predictions = logmodel.predict(X_test)"
   ]
  },
  {
   "cell_type": "code",
   "execution_count": 189,
   "metadata": {},
   "outputs": [],
   "source": [
    "from sklearn.metrics import classification_report"
   ]
  },
  {
   "cell_type": "code",
   "execution_count": 190,
   "metadata": {},
   "outputs": [
    {
     "data": {
      "text/plain": [
       "u'              precision    recall  f1-score   support\\n\\n           0       0.69      0.90      0.78       174\\n           1       0.55      0.23      0.33        90\\n\\n   micro avg       0.67      0.67      0.67       264\\n   macro avg       0.62      0.57      0.56       264\\nweighted avg       0.65      0.67      0.63       264\\n'"
      ]
     },
     "execution_count": 190,
     "metadata": {},
     "output_type": "execute_result"
    }
   ],
   "source": [
    "classification_report(y_test, predictions)"
   ]
  },
  {
   "cell_type": "code",
   "execution_count": 191,
   "metadata": {},
   "outputs": [],
   "source": [
    "from sklearn.metrics import confusion_matrix"
   ]
  },
  {
   "cell_type": "code",
   "execution_count": 192,
   "metadata": {},
   "outputs": [
    {
     "data": {
      "text/plain": [
       "array([[157,  17],\n",
       "       [ 69,  21]])"
      ]
     },
     "execution_count": 192,
     "metadata": {},
     "output_type": "execute_result"
    }
   ],
   "source": [
    "confusion_matrix(y_test, predictions)"
   ]
  },
  {
   "cell_type": "markdown",
   "metadata": {},
   "source": [
    "### Calculate Accuracy"
   ]
  },
  {
   "cell_type": "code",
   "execution_count": 193,
   "metadata": {},
   "outputs": [],
   "source": [
    "from sklearn### Calculate Accuracy.metrics import accuracy_score"
   ]
  },
  {
   "cell_type": "code",
   "execution_count": 194,
   "metadata": {},
   "outputs": [
    {
     "data": {
      "text/plain": [
       "0.6742424242424242"
      ]
     },
     "execution_count": 194,
     "metadata": {},
     "output_type": "execute_result"
    }
   ],
   "source": [
    "accuracy_score(y_test, predictions)"
   ]
  },
  {
   "cell_type": "code",
   "execution_count": null,
   "metadata": {},
   "outputs": [],
   "source": []
  }
 ],
 "metadata": {
  "kernelspec": {
   "display_name": "Python 2",
   "language": "python",
   "name": "python2"
  },
  "language_info": {
   "codemirror_mode": {
    "name": "ipython",
    "version": 2
   },
   "file_extension": ".py",
   "mimetype": "text/x-python",
   "name": "python",
   "nbconvert_exporter": "python",
   "pygments_lexer": "ipython2",
   "version": "2.7.15"
  }
 },
 "nbformat": 4,
 "nbformat_minor": 2
}
